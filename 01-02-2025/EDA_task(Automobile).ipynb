{
 "cells": [
  {
   "cell_type": "code",
   "execution_count": 1,
   "id": "85a0614c",
   "metadata": {},
   "outputs": [],
   "source": [
    "import pandas as pd\n",
    "import numpy as np "
   ]
  },
  {
   "cell_type": "code",
   "execution_count": 2,
   "id": "0a53ec79",
   "metadata": {},
   "outputs": [],
   "source": [
    "atm=pd.read_csv(r\"C:\\Users\\CVR\\Downloads\\COE\\Automobile.csv\")"
   ]
  },
  {
   "cell_type": "code",
   "execution_count": 3,
   "id": "350b62ab",
   "metadata": {},
   "outputs": [
    {
     "data": {
      "text/html": [
       "<div>\n",
       "<style scoped>\n",
       "    .dataframe tbody tr th:only-of-type {\n",
       "        vertical-align: middle;\n",
       "    }\n",
       "\n",
       "    .dataframe tbody tr th {\n",
       "        vertical-align: top;\n",
       "    }\n",
       "\n",
       "    .dataframe thead th {\n",
       "        text-align: right;\n",
       "    }\n",
       "</style>\n",
       "<table border=\"1\" class=\"dataframe\">\n",
       "  <thead>\n",
       "    <tr style=\"text-align: right;\">\n",
       "      <th></th>\n",
       "      <th>symboling</th>\n",
       "      <th>normalized_losses</th>\n",
       "      <th>make</th>\n",
       "      <th>fuel_type</th>\n",
       "      <th>aspiration</th>\n",
       "      <th>number_of_doors</th>\n",
       "      <th>body_style</th>\n",
       "      <th>drive_wheels</th>\n",
       "      <th>engine_location</th>\n",
       "      <th>wheel_base</th>\n",
       "      <th>...</th>\n",
       "      <th>engine_size</th>\n",
       "      <th>fuel_system</th>\n",
       "      <th>bore</th>\n",
       "      <th>stroke</th>\n",
       "      <th>compression_ratio</th>\n",
       "      <th>horsepower</th>\n",
       "      <th>peak_rpm</th>\n",
       "      <th>city_mpg</th>\n",
       "      <th>highway_mpg</th>\n",
       "      <th>price</th>\n",
       "    </tr>\n",
       "  </thead>\n",
       "  <tbody>\n",
       "    <tr>\n",
       "      <th>0</th>\n",
       "      <td>3</td>\n",
       "      <td>168</td>\n",
       "      <td>alfa-romero</td>\n",
       "      <td>gas</td>\n",
       "      <td>std</td>\n",
       "      <td>two</td>\n",
       "      <td>convertible</td>\n",
       "      <td>rwd</td>\n",
       "      <td>front</td>\n",
       "      <td>88.6</td>\n",
       "      <td>...</td>\n",
       "      <td>130</td>\n",
       "      <td>mpfi</td>\n",
       "      <td>3.47</td>\n",
       "      <td>2.68</td>\n",
       "      <td>9.0</td>\n",
       "      <td>111</td>\n",
       "      <td>5000</td>\n",
       "      <td>21</td>\n",
       "      <td>27</td>\n",
       "      <td>13495</td>\n",
       "    </tr>\n",
       "    <tr>\n",
       "      <th>1</th>\n",
       "      <td>3</td>\n",
       "      <td>168</td>\n",
       "      <td>alfa-romero</td>\n",
       "      <td>gas</td>\n",
       "      <td>std</td>\n",
       "      <td>two</td>\n",
       "      <td>convertible</td>\n",
       "      <td>rwd</td>\n",
       "      <td>front</td>\n",
       "      <td>88.6</td>\n",
       "      <td>...</td>\n",
       "      <td>130</td>\n",
       "      <td>mpfi</td>\n",
       "      <td>3.47</td>\n",
       "      <td>2.68</td>\n",
       "      <td>9.0</td>\n",
       "      <td>111</td>\n",
       "      <td>5000</td>\n",
       "      <td>21</td>\n",
       "      <td>27</td>\n",
       "      <td>16500</td>\n",
       "    </tr>\n",
       "    <tr>\n",
       "      <th>2</th>\n",
       "      <td>1</td>\n",
       "      <td>168</td>\n",
       "      <td>alfa-romero</td>\n",
       "      <td>gas</td>\n",
       "      <td>std</td>\n",
       "      <td>two</td>\n",
       "      <td>hatchback</td>\n",
       "      <td>rwd</td>\n",
       "      <td>front</td>\n",
       "      <td>94.5</td>\n",
       "      <td>...</td>\n",
       "      <td>152</td>\n",
       "      <td>mpfi</td>\n",
       "      <td>2.68</td>\n",
       "      <td>3.47</td>\n",
       "      <td>9.0</td>\n",
       "      <td>154</td>\n",
       "      <td>5000</td>\n",
       "      <td>19</td>\n",
       "      <td>26</td>\n",
       "      <td>16500</td>\n",
       "    </tr>\n",
       "    <tr>\n",
       "      <th>3</th>\n",
       "      <td>2</td>\n",
       "      <td>164</td>\n",
       "      <td>audi</td>\n",
       "      <td>gas</td>\n",
       "      <td>std</td>\n",
       "      <td>four</td>\n",
       "      <td>sedan</td>\n",
       "      <td>fwd</td>\n",
       "      <td>front</td>\n",
       "      <td>99.8</td>\n",
       "      <td>...</td>\n",
       "      <td>109</td>\n",
       "      <td>mpfi</td>\n",
       "      <td>3.19</td>\n",
       "      <td>3.40</td>\n",
       "      <td>10.0</td>\n",
       "      <td>102</td>\n",
       "      <td>5500</td>\n",
       "      <td>24</td>\n",
       "      <td>30</td>\n",
       "      <td>13950</td>\n",
       "    </tr>\n",
       "    <tr>\n",
       "      <th>4</th>\n",
       "      <td>2</td>\n",
       "      <td>164</td>\n",
       "      <td>audi</td>\n",
       "      <td>gas</td>\n",
       "      <td>std</td>\n",
       "      <td>four</td>\n",
       "      <td>sedan</td>\n",
       "      <td>4wd</td>\n",
       "      <td>front</td>\n",
       "      <td>99.4</td>\n",
       "      <td>...</td>\n",
       "      <td>136</td>\n",
       "      <td>mpfi</td>\n",
       "      <td>3.19</td>\n",
       "      <td>3.40</td>\n",
       "      <td>8.0</td>\n",
       "      <td>115</td>\n",
       "      <td>5500</td>\n",
       "      <td>18</td>\n",
       "      <td>22</td>\n",
       "      <td>17450</td>\n",
       "    </tr>\n",
       "    <tr>\n",
       "      <th>...</th>\n",
       "      <td>...</td>\n",
       "      <td>...</td>\n",
       "      <td>...</td>\n",
       "      <td>...</td>\n",
       "      <td>...</td>\n",
       "      <td>...</td>\n",
       "      <td>...</td>\n",
       "      <td>...</td>\n",
       "      <td>...</td>\n",
       "      <td>...</td>\n",
       "      <td>...</td>\n",
       "      <td>...</td>\n",
       "      <td>...</td>\n",
       "      <td>...</td>\n",
       "      <td>...</td>\n",
       "      <td>...</td>\n",
       "      <td>...</td>\n",
       "      <td>...</td>\n",
       "      <td>...</td>\n",
       "      <td>...</td>\n",
       "      <td>...</td>\n",
       "    </tr>\n",
       "    <tr>\n",
       "      <th>196</th>\n",
       "      <td>-1</td>\n",
       "      <td>95</td>\n",
       "      <td>volvo</td>\n",
       "      <td>gas</td>\n",
       "      <td>std</td>\n",
       "      <td>four</td>\n",
       "      <td>sedan</td>\n",
       "      <td>rwd</td>\n",
       "      <td>front</td>\n",
       "      <td>109.1</td>\n",
       "      <td>...</td>\n",
       "      <td>141</td>\n",
       "      <td>mpfi</td>\n",
       "      <td>3.78</td>\n",
       "      <td>3.15</td>\n",
       "      <td>9.5</td>\n",
       "      <td>114</td>\n",
       "      <td>5400</td>\n",
       "      <td>23</td>\n",
       "      <td>28</td>\n",
       "      <td>16845</td>\n",
       "    </tr>\n",
       "    <tr>\n",
       "      <th>197</th>\n",
       "      <td>-1</td>\n",
       "      <td>95</td>\n",
       "      <td>volvo</td>\n",
       "      <td>gas</td>\n",
       "      <td>turbo</td>\n",
       "      <td>four</td>\n",
       "      <td>sedan</td>\n",
       "      <td>rwd</td>\n",
       "      <td>front</td>\n",
       "      <td>109.1</td>\n",
       "      <td>...</td>\n",
       "      <td>141</td>\n",
       "      <td>mpfi</td>\n",
       "      <td>3.78</td>\n",
       "      <td>3.15</td>\n",
       "      <td>8.7</td>\n",
       "      <td>160</td>\n",
       "      <td>5300</td>\n",
       "      <td>19</td>\n",
       "      <td>25</td>\n",
       "      <td>19045</td>\n",
       "    </tr>\n",
       "    <tr>\n",
       "      <th>198</th>\n",
       "      <td>-1</td>\n",
       "      <td>95</td>\n",
       "      <td>volvo</td>\n",
       "      <td>gas</td>\n",
       "      <td>std</td>\n",
       "      <td>four</td>\n",
       "      <td>sedan</td>\n",
       "      <td>rwd</td>\n",
       "      <td>front</td>\n",
       "      <td>109.1</td>\n",
       "      <td>...</td>\n",
       "      <td>173</td>\n",
       "      <td>mpfi</td>\n",
       "      <td>3.58</td>\n",
       "      <td>2.87</td>\n",
       "      <td>8.8</td>\n",
       "      <td>134</td>\n",
       "      <td>5500</td>\n",
       "      <td>18</td>\n",
       "      <td>23</td>\n",
       "      <td>21485</td>\n",
       "    </tr>\n",
       "    <tr>\n",
       "      <th>199</th>\n",
       "      <td>-1</td>\n",
       "      <td>95</td>\n",
       "      <td>volvo</td>\n",
       "      <td>diesel</td>\n",
       "      <td>turbo</td>\n",
       "      <td>four</td>\n",
       "      <td>sedan</td>\n",
       "      <td>rwd</td>\n",
       "      <td>front</td>\n",
       "      <td>109.1</td>\n",
       "      <td>...</td>\n",
       "      <td>145</td>\n",
       "      <td>idi</td>\n",
       "      <td>3.01</td>\n",
       "      <td>3.40</td>\n",
       "      <td>23.0</td>\n",
       "      <td>106</td>\n",
       "      <td>4800</td>\n",
       "      <td>26</td>\n",
       "      <td>27</td>\n",
       "      <td>22470</td>\n",
       "    </tr>\n",
       "    <tr>\n",
       "      <th>200</th>\n",
       "      <td>-1</td>\n",
       "      <td>95</td>\n",
       "      <td>volvo</td>\n",
       "      <td>gas</td>\n",
       "      <td>turbo</td>\n",
       "      <td>four</td>\n",
       "      <td>sedan</td>\n",
       "      <td>rwd</td>\n",
       "      <td>front</td>\n",
       "      <td>109.1</td>\n",
       "      <td>...</td>\n",
       "      <td>141</td>\n",
       "      <td>mpfi</td>\n",
       "      <td>3.78</td>\n",
       "      <td>3.15</td>\n",
       "      <td>9.5</td>\n",
       "      <td>114</td>\n",
       "      <td>5400</td>\n",
       "      <td>19</td>\n",
       "      <td>25</td>\n",
       "      <td>22625</td>\n",
       "    </tr>\n",
       "  </tbody>\n",
       "</table>\n",
       "<p>201 rows × 26 columns</p>\n",
       "</div>"
      ],
      "text/plain": [
       "     symboling  normalized_losses         make fuel_type aspiration  \\\n",
       "0            3                168  alfa-romero       gas        std   \n",
       "1            3                168  alfa-romero       gas        std   \n",
       "2            1                168  alfa-romero       gas        std   \n",
       "3            2                164         audi       gas        std   \n",
       "4            2                164         audi       gas        std   \n",
       "..         ...                ...          ...       ...        ...   \n",
       "196         -1                 95        volvo       gas        std   \n",
       "197         -1                 95        volvo       gas      turbo   \n",
       "198         -1                 95        volvo       gas        std   \n",
       "199         -1                 95        volvo    diesel      turbo   \n",
       "200         -1                 95        volvo       gas      turbo   \n",
       "\n",
       "    number_of_doors   body_style drive_wheels engine_location  wheel_base  \\\n",
       "0               two  convertible          rwd           front        88.6   \n",
       "1               two  convertible          rwd           front        88.6   \n",
       "2               two    hatchback          rwd           front        94.5   \n",
       "3              four        sedan          fwd           front        99.8   \n",
       "4              four        sedan          4wd           front        99.4   \n",
       "..              ...          ...          ...             ...         ...   \n",
       "196            four        sedan          rwd           front       109.1   \n",
       "197            four        sedan          rwd           front       109.1   \n",
       "198            four        sedan          rwd           front       109.1   \n",
       "199            four        sedan          rwd           front       109.1   \n",
       "200            four        sedan          rwd           front       109.1   \n",
       "\n",
       "     ...  engine_size  fuel_system  bore  stroke compression_ratio horsepower  \\\n",
       "0    ...          130         mpfi  3.47    2.68               9.0        111   \n",
       "1    ...          130         mpfi  3.47    2.68               9.0        111   \n",
       "2    ...          152         mpfi  2.68    3.47               9.0        154   \n",
       "3    ...          109         mpfi  3.19    3.40              10.0        102   \n",
       "4    ...          136         mpfi  3.19    3.40               8.0        115   \n",
       "..   ...          ...          ...   ...     ...               ...        ...   \n",
       "196  ...          141         mpfi  3.78    3.15               9.5        114   \n",
       "197  ...          141         mpfi  3.78    3.15               8.7        160   \n",
       "198  ...          173         mpfi  3.58    2.87               8.8        134   \n",
       "199  ...          145          idi  3.01    3.40              23.0        106   \n",
       "200  ...          141         mpfi  3.78    3.15               9.5        114   \n",
       "\n",
       "     peak_rpm city_mpg  highway_mpg  price  \n",
       "0        5000       21           27  13495  \n",
       "1        5000       21           27  16500  \n",
       "2        5000       19           26  16500  \n",
       "3        5500       24           30  13950  \n",
       "4        5500       18           22  17450  \n",
       "..        ...      ...          ...    ...  \n",
       "196      5400       23           28  16845  \n",
       "197      5300       19           25  19045  \n",
       "198      5500       18           23  21485  \n",
       "199      4800       26           27  22470  \n",
       "200      5400       19           25  22625  \n",
       "\n",
       "[201 rows x 26 columns]"
      ]
     },
     "execution_count": 3,
     "metadata": {},
     "output_type": "execute_result"
    }
   ],
   "source": [
    "atm"
   ]
  },
  {
   "cell_type": "code",
   "execution_count": 4,
   "id": "a817279d",
   "metadata": {},
   "outputs": [
    {
     "data": {
      "text/plain": [
       "symboling                int64\n",
       "normalized_losses        int64\n",
       "make                    object\n",
       "fuel_type               object\n",
       "aspiration              object\n",
       "number_of_doors         object\n",
       "body_style              object\n",
       "drive_wheels            object\n",
       "engine_location         object\n",
       "wheel_base             float64\n",
       "length                 float64\n",
       "width                  float64\n",
       "height                 float64\n",
       "curb_weight              int64\n",
       "engine_type             object\n",
       "number_of_cylinders     object\n",
       "engine_size              int64\n",
       "fuel_system             object\n",
       "bore                   float64\n",
       "stroke                 float64\n",
       "compression_ratio      float64\n",
       "horsepower               int64\n",
       "peak_rpm                 int64\n",
       "city_mpg                 int64\n",
       "highway_mpg              int64\n",
       "price                    int64\n",
       "dtype: object"
      ]
     },
     "execution_count": 4,
     "metadata": {},
     "output_type": "execute_result"
    }
   ],
   "source": [
    "atm.dtypes"
   ]
  },
  {
   "cell_type": "markdown",
   "id": "a9505933",
   "metadata": {},
   "source": [
    "**1)Handling missing values**"
   ]
  },
  {
   "cell_type": "code",
   "execution_count": 5,
   "id": "103f564c",
   "metadata": {},
   "outputs": [
    {
     "ename": "SyntaxError",
     "evalue": "invalid syntax (3351219376.py, line 2)",
     "output_type": "error",
     "traceback": [
      "\u001b[1;36m  Cell \u001b[1;32mIn[5], line 2\u001b[1;36m\u001b[0m\n\u001b[1;33m    peak_rpm, price.\u001b[0m\n\u001b[1;37m                    ^\u001b[0m\n\u001b[1;31mSyntaxError\u001b[0m\u001b[1;31m:\u001b[0m invalid syntax\n"
     ]
    }
   ],
   "source": [
    " #dentify missing values in normalized_losses, bore, stroke, horsepower, \n",
    "peak_rpm, price.\n",
    "atm.isna()"
   ]
  },
  {
   "cell_type": "code",
   "execution_count": null,
   "id": "af5f78d2",
   "metadata": {
    "scrolled": true
   },
   "outputs": [],
   "source": [
    "atm.isna().sum()"
   ]
  },
  {
   "cell_type": "code",
   "execution_count": null,
   "id": "69a1d796",
   "metadata": {},
   "outputs": [],
   "source": [
    "#no missing values but if mising values then \n",
    "#filling null values with mean/median /mode\n",
    "#horsepower-mean\n",
    "#price-median\n",
    "#number_of_doors,fuel_type -mode\n",
    "atm['horsepower'].fillna(atm['horsepower'].mean(), inplace=True)\n"
   ]
  },
  {
   "cell_type": "code",
   "execution_count": null,
   "id": "3e7dd22c",
   "metadata": {},
   "outputs": [],
   "source": [
    "atm['price'].fillna(atm['price'].median(), inplace=True)\n"
   ]
  },
  {
   "cell_type": "code",
   "execution_count": null,
   "id": "887998c8",
   "metadata": {},
   "outputs": [],
   "source": [
    "atm['number_of_doors'].fillna(atm['number_of_doors'].mode(), inplace=True)\n"
   ]
  },
  {
   "cell_type": "code",
   "execution_count": null,
   "id": "79fa7b2e",
   "metadata": {},
   "outputs": [],
   "source": [
    "atm['fuel_type'].fillna(atm['fuel_type'].mode(), inplace=True)"
   ]
  },
  {
   "cell_type": "code",
   "execution_count": null,
   "id": "799a9acb",
   "metadata": {},
   "outputs": [],
   "source": [
    "#drop records if too many missing lines \n",
    "#atm.dropna()"
   ]
  },
  {
   "cell_type": "code",
   "execution_count": null,
   "id": "681c97d9",
   "metadata": {},
   "outputs": [],
   "source": []
  },
  {
   "cell_type": "code",
   "execution_count": null,
   "id": "25657a00",
   "metadata": {},
   "outputs": [],
   "source": [
    "atm.dtypes"
   ]
  },
  {
   "cell_type": "markdown",
   "id": "f5b4418f",
   "metadata": {},
   "source": [
    "**2)string and categorical data preprocessing**"
   ]
  },
  {
   "cell_type": "code",
   "execution_count": null,
   "id": "970714ba",
   "metadata": {},
   "outputs": [],
   "source": [
    "#Convert categorical data into lowercase and remove special characters \n",
    "cols = ['make', 'fuel_type', 'aspiration', 'number_of_doors', 'body_style',\n",
    "                    'drive_wheels', 'engine_location', 'engine_type', 'number_of_cylinders',\n",
    "                    'fuel_system']\n",
    "for column in cols:\n",
    "    atm[column] = atm[column].str.lower().str.replace(r'[^a-z0-9\\s]', '', regex=True)\n"
   ]
  },
  {
   "cell_type": "code",
   "execution_count": null,
   "id": "73bdd066",
   "metadata": {},
   "outputs": [],
   "source": [
    "atm"
   ]
  },
  {
   "cell_type": "code",
   "execution_count": null,
   "id": "12c3d6f9",
   "metadata": {},
   "outputs": [],
   "source": [
    "for column in cols:\n",
    "    print(column)\n",
    "    print(atm[column].unique())"
   ]
  },
  {
   "cell_type": "code",
   "execution_count": null,
   "id": "243b23f1",
   "metadata": {},
   "outputs": [],
   "source": [
    "#standardize number_of_cylinders:\n",
    "#words to numbers\n",
    "atm['number_of_cylinders']"
   ]
  },
  {
   "cell_type": "code",
   "execution_count": null,
   "id": "f90a7ed5",
   "metadata": {},
   "outputs": [],
   "source": [
    "nums={'four':4, 'six':6 ,'five':5, 'three':3, 'twelve':12, 'two':2, 'eight':8}\n",
    "atm['number_of_cylinders']=atm['number_of_cylinders'].replace(nums)\n",
    "atm['number_of_cylinders']\n",
    "#converting words to integers"
   ]
  },
  {
   "cell_type": "code",
   "execution_count": null,
   "id": "a83c4c55",
   "metadata": {},
   "outputs": [],
   "source": [
    "#standardize fuel_system categories\n",
    "fuel_system_cat={\n",
    "'mpfi': 'Multi-Point Fuel Injection',\n",
    "    'mfi': 'Multi-Point Fuel Injection',\n",
    "    'spfi': 'Single-Point Fuel Injection',\n",
    "    'spdi': 'Single-Point Fuel Injection',\n",
    "    '2bbl': 'Two-Barrel Carburetor',\n",
    "    '4bbl': 'Four-Barrel Carburetor',\n",
    "    'idi': 'Indirect Fuel Injection',\n",
    "    '1bbl': 'One-Barrel Carburetor'\n",
    "}\n",
    "\n",
    "# Standardize the 'fuel_system' column using the mapping dictionary\n",
    "atm['fuel_system'] = atm['fuel_system'].replace(fuel_system_cat)\n",
    "\n",
    "# Check the updated DataFrame\n",
    "print(atm['fuel_system'].unique()) \n"
   ]
  },
  {
   "cell_type": "code",
   "execution_count": null,
   "id": "cdc46de5",
   "metadata": {},
   "outputs": [],
   "source": []
  },
  {
   "cell_type": "code",
   "execution_count": null,
   "id": "ba70e222",
   "metadata": {},
   "outputs": [],
   "source": [
    "atm.dtypes"
   ]
  },
  {
   "cell_type": "markdown",
   "id": "63c8c4fb",
   "metadata": {},
   "source": [
    "**3)Numeric Feature Procesing**"
   ]
  },
  {
   "cell_type": "code",
   "execution_count": null,
   "id": "aeb79860",
   "metadata": {},
   "outputs": [],
   "source": [
    "#convert \"horsepower\" & \"peak_rpm\" to ints\n",
    "\n",
    "atm['horsepower']=atm['horsepower'].astype(np.int16)\n",
    "atm['peak_rpm']=atm['peak_rpm'].astype(np.int16)"
   ]
  },
  {
   "cell_type": "code",
   "execution_count": null,
   "id": "565eb6a9",
   "metadata": {},
   "outputs": [],
   "source": [
    "atm['horsepower'].dtypes"
   ]
  },
  {
   "cell_type": "code",
   "execution_count": null,
   "id": "110a07e5",
   "metadata": {},
   "outputs": [],
   "source": [
    "atm['peak_rpm'].dtypes"
   ]
  },
  {
   "cell_type": "code",
   "execution_count": null,
   "id": "de4a9926",
   "metadata": {},
   "outputs": [],
   "source": [
    "atm['horsepower']"
   ]
  },
  {
   "cell_type": "code",
   "execution_count": null,
   "id": "99f2b447",
   "metadata": {},
   "outputs": [],
   "source": [
    "#standardize units\n",
    "atm['horsepower']=atm['horsepower']*0.7457\n",
    "atm['horsepower']\n"
   ]
  },
  {
   "cell_type": "code",
   "execution_count": null,
   "id": "9f0cd8ea",
   "metadata": {},
   "outputs": [],
   "source": []
  },
  {
   "cell_type": "markdown",
   "id": "b4d88625",
   "metadata": {},
   "source": [
    "**4)Feature Engineering on Numeric Columns**"
   ]
  },
  {
   "cell_type": "code",
   "execution_count": null,
   "id": "e39f16cd",
   "metadata": {},
   "outputs": [],
   "source": [
    "#create new features\n",
    "#Power-to-weight ratio = horsepower / curb_weight. \n",
    "atm['Power-to-weight ratio']=atm['horsepower']/atm['curb_weight']\n",
    "atm['Power-to-weight ratio']"
   ]
  },
  {
   "cell_type": "code",
   "execution_count": null,
   "id": "06e70210",
   "metadata": {},
   "outputs": [],
   "source": [
    "atm"
   ]
  },
  {
   "cell_type": "code",
   "execution_count": null,
   "id": "ae68ad8b",
   "metadata": {},
   "outputs": [],
   "source": [
    "#Engine efficiency = horsepower / engine_size.\n",
    "atm['Engine efficiency']=atm['horsepower']/atm['engine_size']\n",
    "atm['Engine efficiency']"
   ]
  },
  {
   "cell_type": "code",
   "execution_count": null,
   "id": "56647803",
   "metadata": {},
   "outputs": [],
   "source": [
    "#Fuel efficiency = city_mpg / highway_mpg. \n",
    "atm['Fuel efficiency']=atm['city_mpg']/atm['highway_mpg']\n",
    "atm['Fuel efficiency']"
   ]
  },
  {
   "cell_type": "code",
   "execution_count": null,
   "id": "d42dd07c",
   "metadata": {},
   "outputs": [],
   "source": [
    "atm['compression_ratio']"
   ]
  },
  {
   "cell_type": "code",
   "execution_count": null,
   "id": "4e3f58a8",
   "metadata": {},
   "outputs": [],
   "source": [
    "cats=[]\n",
    "for value in atm['compression_ratio']:\n",
    "    if value<9:\n",
    "        cats.append('Low')\n",
    "    elif 9<= value <=11:\n",
    "        cats.append('Medium')\n",
    "    else:\n",
    "        cats.append('High')\n",
    "atm['compression_ratio']=cats\n",
    "atm['compression_ratio']"
   ]
  },
  {
   "cell_type": "code",
   "execution_count": null,
   "id": "ce116bfb",
   "metadata": {},
   "outputs": [],
   "source": []
  },
  {
   "cell_type": "markdown",
   "id": "95c774fd",
   "metadata": {},
   "source": [
    "**5)Handling Date or Range Values**"
   ]
  },
  {
   "cell_type": "code",
   "execution_count": null,
   "id": "9ec817c2",
   "metadata": {},
   "outputs": [],
   "source": [
    "\n",
    "#Extract ranges from normalized_losses and create bins (e.g., Low, Medium, High \n",
    "#loss categories).\n",
    "atm['normalized_losses']"
   ]
  },
  {
   "cell_type": "code",
   "execution_count": null,
   "id": "7fbbd8ff",
   "metadata": {},
   "outputs": [],
   "source": [
    "atm['normalized_losses'].unique()\n"
   ]
  },
  {
   "cell_type": "code",
   "execution_count": null,
   "id": "5ac3d358",
   "metadata": {},
   "outputs": [],
   "source": [
    "ranges=[]\n",
    "for value in atm['normalized_losses']:\n",
    "    if 95 <= value >=120:\n",
    "        ranges.append('Low')\n",
    "    elif 121 <= value >=145:\n",
    "        ranges.append('Medium')\n",
    "    else:\n",
    "        ranges.append('High')\n",
    "               \n",
    "atm['normalized_losses']=ranges\n",
    "atm['normalized_losses']\n"
   ]
  },
  {
   "cell_type": "code",
   "execution_count": null,
   "id": "cb7828b6",
   "metadata": {},
   "outputs": [],
   "source": [
    "atm"
   ]
  },
  {
   "cell_type": "code",
   "execution_count": null,
   "id": "9323c296",
   "metadata": {},
   "outputs": [],
   "source": []
  },
  {
   "cell_type": "markdown",
   "id": "0b90143d",
   "metadata": {},
   "source": [
    "**6)Encoding Categorical Features**"
   ]
  },
  {
   "cell_type": "code",
   "execution_count": 6,
   "id": "83c7aa41",
   "metadata": {},
   "outputs": [],
   "source": [
    "#Label Encoding for fuel_type, aspiration, drive_wheels, etc. \n",
    "#One-Hot Encoding for body_style, engine_type, and fuel_system.\n",
    "\n",
    "from sklearn.preprocessing import LabelEncoder"
   ]
  },
  {
   "cell_type": "code",
   "execution_count": 9,
   "id": "7511e153",
   "metadata": {},
   "outputs": [
    {
     "name": "stdout",
     "output_type": "stream",
     "text": [
      "   symboling  normalized_losses         make  fuel_type  aspiration  \\\n",
      "0          3                168  alfa-romero          1           0   \n",
      "1          3                168  alfa-romero          1           0   \n",
      "2          1                168  alfa-romero          1           0   \n",
      "3          2                164         audi          1           0   \n",
      "4          2                164         audi          1           0   \n",
      "\n",
      "  number_of_doors   body_style  drive_wheels engine_location  wheel_base  ...  \\\n",
      "0             two  convertible             2           front        88.6  ...   \n",
      "1             two  convertible             2           front        88.6  ...   \n",
      "2             two    hatchback             2           front        94.5  ...   \n",
      "3            four        sedan             1           front        99.8  ...   \n",
      "4            four        sedan             0           front        99.4  ...   \n",
      "\n",
      "   engine_size  fuel_system  bore  stroke compression_ratio horsepower  \\\n",
      "0          130         mpfi  3.47    2.68               9.0        111   \n",
      "1          130         mpfi  3.47    2.68               9.0        111   \n",
      "2          152         mpfi  2.68    3.47               9.0        154   \n",
      "3          109         mpfi  3.19    3.40              10.0        102   \n",
      "4          136         mpfi  3.19    3.40               8.0        115   \n",
      "\n",
      "   peak_rpm city_mpg  highway_mpg  price  \n",
      "0      5000       21           27  13495  \n",
      "1      5000       21           27  16500  \n",
      "2      5000       19           26  16500  \n",
      "3      5500       24           30  13950  \n",
      "4      5500       18           22  17450  \n",
      "\n",
      "[5 rows x 26 columns]\n"
     ]
    }
   ],
   "source": [
    "cat_cols = ['fuel_type', 'aspiration', 'drive_wheels']\n",
    "\n",
    "label_encoder = LabelEncoder()\n",
    "for column in cat_cols:\n",
    "    atm[column] = label_encoder.fit_transform(atm[column])\n",
    "\n",
    "print(atm.head())\n"
   ]
  },
  {
   "cell_type": "code",
   "execution_count": 10,
   "id": "05c1f945",
   "metadata": {},
   "outputs": [
    {
     "name": "stdout",
     "output_type": "stream",
     "text": [
      "   symboling  normalized_losses         make  fuel_type  aspiration  \\\n",
      "0          3                168  alfa-romero          1           0   \n",
      "1          3                168  alfa-romero          1           0   \n",
      "2          1                168  alfa-romero          1           0   \n",
      "3          2                164         audi          1           0   \n",
      "4          2                164         audi          1           0   \n",
      "\n",
      "  number_of_doors  drive_wheels engine_location  wheel_base  length  ...  \\\n",
      "0             two             2           front        88.6   168.8  ...   \n",
      "1             two             2           front        88.6   168.8  ...   \n",
      "2             two             2           front        94.5   171.2  ...   \n",
      "3            four             1           front        99.8   176.6  ...   \n",
      "4            four             0           front        99.4   176.6  ...   \n",
      "\n",
      "   engine_type_ohcf  engine_type_ohcv  engine_type_rotor fuel_system_2bbl  \\\n",
      "0             False             False              False            False   \n",
      "1             False             False              False            False   \n",
      "2             False              True              False            False   \n",
      "3             False             False              False            False   \n",
      "4             False             False              False            False   \n",
      "\n",
      "   fuel_system_4bbl  fuel_system_idi  fuel_system_mfi  fuel_system_mpfi  \\\n",
      "0             False            False            False              True   \n",
      "1             False            False            False              True   \n",
      "2             False            False            False              True   \n",
      "3             False            False            False              True   \n",
      "4             False            False            False              True   \n",
      "\n",
      "   fuel_system_spdi  fuel_system_spfi  \n",
      "0             False             False  \n",
      "1             False             False  \n",
      "2             False             False  \n",
      "3             False             False  \n",
      "4             False             False  \n",
      "\n",
      "[5 rows x 39 columns]\n"
     ]
    }
   ],
   "source": [
    "\n",
    "atm_encoded = pd.get_dummies(atm, columns=['body_style', 'engine_type', 'fuel_system'], drop_first=True)\n",
    "print(atm_encoded.head())"
   ]
  },
  {
   "cell_type": "code",
   "execution_count": null,
   "id": "fdbd9b6e",
   "metadata": {},
   "outputs": [],
   "source": []
  },
  {
   "cell_type": "markdown",
   "id": "5e6911ba",
   "metadata": {},
   "source": [
    "**7)Data Scaling & Normalization**"
   ]
  },
  {
   "cell_type": "code",
   "execution_count": null,
   "id": "827a457d",
   "metadata": {},
   "outputs": [],
   "source": [
    "#Scale numerical features (length, width, height, curb_weight, engine_size) \n",
    "#using Min-Max Scaling or Standardization. "
   ]
  },
  {
   "cell_type": "code",
   "execution_count": 12,
   "id": "a0dc8ff0",
   "metadata": {},
   "outputs": [
    {
     "data": {
      "text/plain": [
       "symboling                int64\n",
       "normalized_losses        int64\n",
       "make                    object\n",
       "fuel_type                int64\n",
       "aspiration               int64\n",
       "number_of_doors         object\n",
       "body_style              object\n",
       "drive_wheels             int64\n",
       "engine_location         object\n",
       "wheel_base             float64\n",
       "length                 float64\n",
       "width                  float64\n",
       "height                 float64\n",
       "curb_weight              int64\n",
       "engine_type             object\n",
       "number_of_cylinders     object\n",
       "engine_size              int64\n",
       "fuel_system             object\n",
       "bore                   float64\n",
       "stroke                 float64\n",
       "compression_ratio      float64\n",
       "horsepower               int64\n",
       "peak_rpm                 int64\n",
       "city_mpg                 int64\n",
       "highway_mpg              int64\n",
       "price                    int64\n",
       "dtype: object"
      ]
     },
     "execution_count": 12,
     "metadata": {},
     "output_type": "execute_result"
    }
   ],
   "source": [
    "atm.dtypes"
   ]
  },
  {
   "cell_type": "code",
   "execution_count": 16,
   "id": "d588e625",
   "metadata": {},
   "outputs": [
    {
     "name": "stdout",
     "output_type": "stream",
     "text": [
      "length\n",
      "******\n",
      "min: 141.1\n",
      "max: 141.1\n",
      "width\n",
      "******\n",
      "min: 60.3\n",
      "max: 60.3\n",
      "height\n",
      "******\n",
      "min: 47.8\n",
      "max: 47.8\n",
      "curb_weight\n",
      "******\n",
      "min: 1488\n",
      "max: 1488\n",
      "engine_size\n",
      "******\n",
      "min: 61\n",
      "max: 61\n"
     ]
    }
   ],
   "source": [
    "colus=['length','width','height','curb_weight','engine_size']\n",
    "for col in colus:\n",
    "    print(col)\n",
    "    print(\"******\")\n",
    "    print(\"min:\",atm[col].min())\n",
    "    print(\"max:\",atm[col].min())\n",
    "    "
   ]
  },
  {
   "cell_type": "code",
   "execution_count": null,
   "id": "8524898d",
   "metadata": {},
   "outputs": [],
   "source": []
  }
 ],
 "metadata": {
  "kernelspec": {
   "display_name": "Python 3 (ipykernel)",
   "language": "python",
   "name": "python3"
  },
  "language_info": {
   "codemirror_mode": {
    "name": "ipython",
    "version": 3
   },
   "file_extension": ".py",
   "mimetype": "text/x-python",
   "name": "python",
   "nbconvert_exporter": "python",
   "pygments_lexer": "ipython3",
   "version": "3.11.5"
  }
 },
 "nbformat": 4,
 "nbformat_minor": 5
}
