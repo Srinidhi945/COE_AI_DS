{
 "cells": [
  {
   "cell_type": "code",
   "execution_count": 1,
   "id": "bc69e7ea",
   "metadata": {},
   "outputs": [],
   "source": [
    "import numpy as np"
   ]
  },
  {
   "cell_type": "code",
   "execution_count": 2,
   "id": "5ac0c46b",
   "metadata": {},
   "outputs": [
    {
     "data": {
      "text/plain": [
       "array([1, 2, 3, 4])"
      ]
     },
     "execution_count": 2,
     "metadata": {},
     "output_type": "execute_result"
    }
   ],
   "source": [
    "arr=np.array([1,2,3,4])\n",
    "arr\n",
    "\n",
    "#1d array"
   ]
  },
  {
   "cell_type": "code",
   "execution_count": 3,
   "id": "86789abc",
   "metadata": {},
   "outputs": [
    {
     "data": {
      "text/plain": [
       "array([[ 1,  2, 34],\n",
       "       [ 4,  5,  6]])"
      ]
     },
     "execution_count": 3,
     "metadata": {},
     "output_type": "execute_result"
    }
   ],
   "source": [
    "arra=np.array([[1,2,34,],[4,5,6]])\n",
    "arra\n",
    "\n",
    "#2 array"
   ]
  },
  {
   "cell_type": "code",
   "execution_count": 5,
   "id": "64ce2050",
   "metadata": {},
   "outputs": [
    {
     "data": {
      "text/plain": [
       "array([[0., 0., 0., 0.],\n",
       "       [0., 0., 0., 0.],\n",
       "       [0., 0., 0., 0.]])"
      ]
     },
     "execution_count": 5,
     "metadata": {},
     "output_type": "execute_result"
    }
   ],
   "source": [
    "#array of zeros \n",
    "\n",
    "zeros=np.zeros((3,4))\n",
    "zeros"
   ]
  },
  {
   "cell_type": "code",
   "execution_count": 6,
   "id": "e7ce5c0f",
   "metadata": {},
   "outputs": [
    {
     "data": {
      "text/plain": [
       "array([[1., 1.],\n",
       "       [1., 1.],\n",
       "       [1., 1.]])"
      ]
     },
     "execution_count": 6,
     "metadata": {},
     "output_type": "execute_result"
    }
   ],
   "source": [
    "#array of ones\n",
    "\n",
    "ones=np.ones((3,2))\n",
    "ones"
   ]
  },
  {
   "cell_type": "code",
   "execution_count": 7,
   "id": "469f3bb9",
   "metadata": {},
   "outputs": [
    {
     "data": {
      "text/plain": [
       "array([[0.86111934, 0.24749771, 0.23054128],\n",
       "       [0.94134718, 0.71584573, 0.98356202]])"
      ]
     },
     "execution_count": 7,
     "metadata": {},
     "output_type": "execute_result"
    }
   ],
   "source": [
    "#random array\n",
    "\n",
    "ran=np.random.random((2,3))\n",
    "ran"
   ]
  },
  {
   "cell_type": "code",
   "execution_count": 8,
   "id": "b5beb1ff",
   "metadata": {},
   "outputs": [
    {
     "data": {
      "text/plain": [
       "array([[1., 0., 0.],\n",
       "       [0., 1., 0.],\n",
       "       [0., 0., 1.]])"
      ]
     },
     "execution_count": 8,
     "metadata": {},
     "output_type": "execute_result"
    }
   ],
   "source": [
    "#identity matrix \n",
    "\n",
    "iden =np.eye(3)\n",
    "iden"
   ]
  },
  {
   "cell_type": "code",
   "execution_count": 10,
   "id": "dae33288",
   "metadata": {},
   "outputs": [
    {
     "data": {
      "text/plain": [
       "array([0, 2, 4, 6, 8])"
      ]
     },
     "execution_count": 10,
     "metadata": {},
     "output_type": "execute_result"
    }
   ],
   "source": [
    "#creating array using range \n",
    "range_arr=np.arange(0,10,2)\n",
    "range_arr"
   ]
  },
  {
   "cell_type": "code",
   "execution_count": 14,
   "id": "5e4805da",
   "metadata": {},
   "outputs": [
    {
     "name": "stdout",
     "output_type": "stream",
     "text": [
      "shape: (2, 3)\n",
      "size: 6\n",
      "dtypes: int32\n",
      "min: 2\n"
     ]
    }
   ],
   "source": [
    "#array properties\n",
    "d_arr=np.array([[1,2,3],[4,5,6]])\n",
    "print(\"shape:\",d_arr.shape)\n",
    "print(\"size:\",d_arr.size)\n",
    "print(\"dtypes:\",d_arr.dtype)\n",
    "print(\"dimensions:\",d_arr.ndim)"
   ]
  },
  {
   "cell_type": "code",
   "execution_count": 15,
   "id": "388f711a",
   "metadata": {},
   "outputs": [
    {
     "data": {
      "text/plain": [
       "2"
      ]
     },
     "execution_count": 15,
     "metadata": {},
     "output_type": "execute_result"
    }
   ],
   "source": [
    "#print the number  2 from array\n",
    "d_arr[0][1]"
   ]
  },
  {
   "cell_type": "code",
   "execution_count": 16,
   "id": "a06904f0",
   "metadata": {},
   "outputs": [
    {
     "data": {
      "text/plain": [
       "6"
      ]
     },
     "execution_count": 16,
     "metadata": {},
     "output_type": "execute_result"
    }
   ],
   "source": [
    "#print the number 6 from array\n",
    "d_arr[1][2]"
   ]
  },
  {
   "cell_type": "code",
   "execution_count": 18,
   "id": "2dad2866",
   "metadata": {},
   "outputs": [
    {
     "data": {
      "text/plain": [
       "array([[2, 3],\n",
       "       [5, 6]])"
      ]
     },
     "execution_count": 18,
     "metadata": {},
     "output_type": "execute_result"
    }
   ],
   "source": [
    "#accessing sub martix\n",
    "d_arr[:,1:]"
   ]
  },
  {
   "cell_type": "code",
   "execution_count": 20,
   "id": "c1e9c131",
   "metadata": {},
   "outputs": [
    {
     "data": {
      "text/plain": [
       "8"
      ]
     },
     "execution_count": 20,
     "metadata": {},
     "output_type": "execute_result"
    }
   ],
   "source": [
    "#matrix eles addition  \n",
    "#adding ele 2 and 6\n",
    "a=d_arr[0][1]+d_arr[1][2]\n",
    "a"
   ]
  },
  {
   "cell_type": "code",
   "execution_count": 23,
   "id": "b4ed6d0d",
   "metadata": {},
   "outputs": [
    {
     "data": {
      "text/plain": [
       "array([[ 5,  7,  9],\n",
       "       [11, 13, 15]])"
      ]
     },
     "execution_count": 23,
     "metadata": {},
     "output_type": "execute_result"
    }
   ],
   "source": [
    "#matrix addtion\n",
    "ar1=[[1,2,3],[4,5,6]]\n",
    "ar2=[[4,5,6],[7,8,9]]\n",
    "ar3=np.add(ar1,ar2)\n",
    "ar3"
   ]
  },
  {
   "cell_type": "code",
   "execution_count": 28,
   "id": "7d692a9c",
   "metadata": {},
   "outputs": [
    {
     "data": {
      "text/plain": [
       "32"
      ]
     },
     "execution_count": 28,
     "metadata": {},
     "output_type": "execute_result"
    }
   ],
   "source": [
    "#matrix multiplication\n",
    "a=[1,2,3]\n",
    "b=[4,5,6]\n",
    "ar4=np.dot(a,b)\n",
    "ar4"
   ]
  },
  {
   "cell_type": "code",
   "execution_count": 31,
   "id": "b6cace7f",
   "metadata": {},
   "outputs": [
    {
     "data": {
      "text/plain": [
       "array([[  2.71828183,   7.3890561 ,  20.08553692],\n",
       "       [ 54.59815003, 148.4131591 , 403.42879349]])"
      ]
     },
     "execution_count": 31,
     "metadata": {},
     "output_type": "execute_result"
    }
   ],
   "source": [
    "#exponential\n",
    "d=np.exp(ar1)\n",
    "d"
   ]
  },
  {
   "cell_type": "code",
   "execution_count": 32,
   "id": "065af5d5",
   "metadata": {},
   "outputs": [
    {
     "data": {
      "text/plain": [
       "array([[1.        , 1.41421356, 1.73205081],\n",
       "       [2.        , 2.23606798, 2.44948974]])"
      ]
     },
     "execution_count": 32,
     "metadata": {},
     "output_type": "execute_result"
    }
   ],
   "source": [
    "#square root\n",
    "e=np.sqrt(ar1)\n",
    "e"
   ]
  },
  {
   "cell_type": "code",
   "execution_count": 36,
   "id": "d19e235b",
   "metadata": {},
   "outputs": [
    {
     "name": "stdout",
     "output_type": "stream",
     "text": [
      "2.0\n",
      "3\n",
      "1\n",
      "6\n",
      "2.0\n",
      "0.816496580927726\n",
      "0.6666666666666666\n"
     ]
    }
   ],
   "source": [
    "#aggregate function\n",
    "a=[1,2,3]\n",
    "print(np.mean(a))\n",
    "print(np.max(a))\n",
    "print(np.min(a))\n",
    "print(np.sum(a))\n",
    "print(np.median(a))\n",
    "print(np.std(a))\n",
    "print(np.var(a))"
   ]
  },
  {
   "cell_type": "code",
   "execution_count": 42,
   "id": "a45df79e",
   "metadata": {},
   "outputs": [
    {
     "data": {
      "text/plain": [
       "array([[1, 2, 3],\n",
       "       [4, 5, 6]])"
      ]
     },
     "execution_count": 42,
     "metadata": {},
     "output_type": "execute_result"
    }
   ],
   "source": [
    "#reshaping array\n",
    "arr_re=np.array([1,2,3,4,5,6])\n",
    "reshapeda=arr_re.reshape(2,3)\n",
    "reshapeda"
   ]
  },
  {
   "cell_type": "code",
   "execution_count": 46,
   "id": "1cbb69d8",
   "metadata": {},
   "outputs": [
    {
     "name": "stdout",
     "output_type": "stream",
     "text": [
      "[[1 2]\n",
      " [3 4]]\n",
      "[1 2 3 4]\n"
     ]
    }
   ],
   "source": [
    "#stacking \n",
    "f=np.array([1,2])\n",
    "g=np.array([3,4])\n",
    "print(np.vstack((f,g)))\n",
    "print(np.hstack((f,g)))"
   ]
  },
  {
   "cell_type": "code",
   "execution_count": 48,
   "id": "93c93df9",
   "metadata": {},
   "outputs": [
    {
     "data": {
      "text/plain": [
       "[array([1, 2]), array([3, 4]), array([5, 6])]"
      ]
     },
     "execution_count": 48,
     "metadata": {},
     "output_type": "execute_result"
    }
   ],
   "source": [
    "#splitting\n",
    "arr_split=np.array([1,2,3,4,5,6])\n",
    "#split int 3 parts\n",
    "np.array_split(arr_split,3)"
   ]
  },
  {
   "cell_type": "code",
   "execution_count": 51,
   "id": "caae480b",
   "metadata": {},
   "outputs": [
    {
     "name": "stdout",
     "output_type": "stream",
     "text": [
      "[1 2 3]\n",
      "[100   2   3]\n"
     ]
    }
   ],
   "source": [
    "#copy vs view \n",
    "\n",
    "arr=np.array([1,2,3])\n",
    "cp=arr.copy()\n",
    "cp[0]=100\n",
    "print(arr)\n",
    "view=arr.view()\n",
    "view[0]=100\n",
    "print(arr)\n",
    "\n",
    "#view changes are reflected in original matrix whereas copy chnages arent they are only present in the cp "
   ]
  },
  {
   "cell_type": "code",
   "execution_count": null,
   "id": "cd16b677",
   "metadata": {},
   "outputs": [],
   "source": [
    "#np.save('array.npy',arr)\n",
    "#loaded_array=np.load('array.npy')\n",
    "#print(loaded_array)"
   ]
  },
  {
   "cell_type": "code",
   "execution_count": null,
   "id": "77e4bd53",
   "metadata": {},
   "outputs": [],
   "source": []
  },
  {
   "cell_type": "code",
   "execution_count": null,
   "id": "2cd71abd",
   "metadata": {},
   "outputs": [],
   "source": [
    "\n"
   ]
  },
  {
   "cell_type": "code",
   "execution_count": null,
   "id": "e5191125",
   "metadata": {},
   "outputs": [],
   "source": []
  },
  {
   "cell_type": "code",
   "execution_count": null,
   "id": "0913d8cb",
   "metadata": {},
   "outputs": [],
   "source": []
  },
  {
   "cell_type": "code",
   "execution_count": null,
   "id": "4c052b6b",
   "metadata": {},
   "outputs": [],
   "source": []
  },
  {
   "cell_type": "code",
   "execution_count": 29,
   "id": "3b415633",
   "metadata": {},
   "outputs": [],
   "source": [
    "import matplotlib.pyplot as plt"
   ]
  },
  {
   "cell_type": "code",
   "execution_count": 30,
   "id": "dd7b7c86",
   "metadata": {},
   "outputs": [
    {
     "data": {
      "text/plain": [
       "[<matplotlib.lines.Line2D at 0x20540633fd0>,\n",
       " <matplotlib.lines.Line2D at 0x2054064fe90>,\n",
       " <matplotlib.lines.Line2D at 0x20540658210>]"
      ]
     },
     "execution_count": 30,
     "metadata": {},
     "output_type": "execute_result"
    },
    {
     "data": {
      "image/png": "[encoded data removed]",
      "text/plain": [
       "<Figure size 640x480 with 1 Axes>"
      ]
     },
     "metadata": {},
     "output_type": "display_data"
    }
   ],
   "source": [
    "#ar1=[[1,2,3],[4,5,6]]\n",
    "plt.plot(ar1)"
   ]
  },
  {
   "cell_type": "code",
   "execution_count": null,
   "id": "2f7612ed",
   "metadata": {},
   "outputs": [],
   "source": []
  }
 ],
 "metadata": {
  "kernelspec": {
   "display_name": "Python 3 (ipykernel)",
   "language": "python",
   "name": "python3"
  },
  "language_info": {
   "codemirror_mode": {
    "name": "ipython",
    "version": 3
   },
   "file_extension": ".py",
   "mimetype": "text/x-python",
   "name": "python",
   "nbconvert_exporter": "python",
   "pygments_lexer": "ipython3",
   "version": "3.11.5"
  }
 },
 "nbformat": 4,
 "nbformat_minor": 5
}
