{
 "cells": [
  {
   "cell_type": "code",
   "execution_count": 1,
   "id": "3c571a4a",
   "metadata": {},
   "outputs": [],
   "source": [
    "import pandas as pd"
   ]
  },
  {
   "cell_type": "code",
   "execution_count": 2,
   "id": "36a344db",
   "metadata": {},
   "outputs": [],
   "source": [
    "import numpy as np"
   ]
  },
  {
   "cell_type": "code",
   "execution_count": 3,
   "id": "e6ab04ff",
   "metadata": {},
   "outputs": [],
   "source": [
    "import matplotlib.pyplot as plt"
   ]
  },
  {
   "cell_type": "code",
   "execution_count": 8,
   "id": "28013631",
   "metadata": {},
   "outputs": [],
   "source": [
    "gtbc=pd.read_csv(r\"C:\\Users\\CVR\\Downloads\\GlobalLandTemperaturesByCity.csv\")"
   ]
  },
  {
   "cell_type": "code",
   "execution_count": 9,
   "id": "b5d22d9e",
   "metadata": {},
   "outputs": [
    {
     "data": {
      "text/html": [
       "<div>\n",
       "<style scoped>\n",
       "    .dataframe tbody tr th:only-of-type {\n",
       "        vertical-align: middle;\n",
       "    }\n",
       "\n",
       "    .dataframe tbody tr th {\n",
       "        vertical-align: top;\n",
       "    }\n",
       "\n",
       "    .dataframe thead th {\n",
       "        text-align: right;\n",
       "    }\n",
       "</style>\n",
       "<table border=\"1\" class=\"dataframe\">\n",
       "  <thead>\n",
       "    <tr style=\"text-align: right;\">\n",
       "      <th></th>\n",
       "      <th>dt</th>\n",
       "      <th>AverageTemperature</th>\n",
       "      <th>AverageTemperatureUncertainty</th>\n",
       "      <th>City</th>\n",
       "      <th>Country</th>\n",
       "      <th>Latitude</th>\n",
       "      <th>Longitude</th>\n",
       "    </tr>\n",
       "  </thead>\n",
       "  <tbody>\n",
       "    <tr>\n",
       "      <th>0</th>\n",
       "      <td>1743-11-01</td>\n",
       "      <td>6.068</td>\n",
       "      <td>1.737</td>\n",
       "      <td>Århus</td>\n",
       "      <td>Denmark</td>\n",
       "      <td>57.05N</td>\n",
       "      <td>10.33E</td>\n",
       "    </tr>\n",
       "    <tr>\n",
       "      <th>1</th>\n",
       "      <td>1743-12-01</td>\n",
       "      <td>NaN</td>\n",
       "      <td>NaN</td>\n",
       "      <td>Århus</td>\n",
       "      <td>Denmark</td>\n",
       "      <td>57.05N</td>\n",
       "      <td>10.33E</td>\n",
       "    </tr>\n",
       "    <tr>\n",
       "      <th>2</th>\n",
       "      <td>1744-01-01</td>\n",
       "      <td>NaN</td>\n",
       "      <td>NaN</td>\n",
       "      <td>Århus</td>\n",
       "      <td>Denmark</td>\n",
       "      <td>57.05N</td>\n",
       "      <td>10.33E</td>\n",
       "    </tr>\n",
       "    <tr>\n",
       "      <th>3</th>\n",
       "      <td>1744-02-01</td>\n",
       "      <td>NaN</td>\n",
       "      <td>NaN</td>\n",
       "      <td>Århus</td>\n",
       "      <td>Denmark</td>\n",
       "      <td>57.05N</td>\n",
       "      <td>10.33E</td>\n",
       "    </tr>\n",
       "    <tr>\n",
       "      <th>4</th>\n",
       "      <td>1744-03-01</td>\n",
       "      <td>NaN</td>\n",
       "      <td>NaN</td>\n",
       "      <td>Århus</td>\n",
       "      <td>Denmark</td>\n",
       "      <td>57.05N</td>\n",
       "      <td>10.33E</td>\n",
       "    </tr>\n",
       "    <tr>\n",
       "      <th>...</th>\n",
       "      <td>...</td>\n",
       "      <td>...</td>\n",
       "      <td>...</td>\n",
       "      <td>...</td>\n",
       "      <td>...</td>\n",
       "      <td>...</td>\n",
       "      <td>...</td>\n",
       "    </tr>\n",
       "    <tr>\n",
       "      <th>8599207</th>\n",
       "      <td>2013-05-01</td>\n",
       "      <td>11.464</td>\n",
       "      <td>0.236</td>\n",
       "      <td>Zwolle</td>\n",
       "      <td>Netherlands</td>\n",
       "      <td>52.24N</td>\n",
       "      <td>5.26E</td>\n",
       "    </tr>\n",
       "    <tr>\n",
       "      <th>8599208</th>\n",
       "      <td>2013-06-01</td>\n",
       "      <td>15.043</td>\n",
       "      <td>0.261</td>\n",
       "      <td>Zwolle</td>\n",
       "      <td>Netherlands</td>\n",
       "      <td>52.24N</td>\n",
       "      <td>5.26E</td>\n",
       "    </tr>\n",
       "    <tr>\n",
       "      <th>8599209</th>\n",
       "      <td>2013-07-01</td>\n",
       "      <td>18.775</td>\n",
       "      <td>0.193</td>\n",
       "      <td>Zwolle</td>\n",
       "      <td>Netherlands</td>\n",
       "      <td>52.24N</td>\n",
       "      <td>5.26E</td>\n",
       "    </tr>\n",
       "    <tr>\n",
       "      <th>8599210</th>\n",
       "      <td>2013-08-01</td>\n",
       "      <td>18.025</td>\n",
       "      <td>0.298</td>\n",
       "      <td>Zwolle</td>\n",
       "      <td>Netherlands</td>\n",
       "      <td>52.24N</td>\n",
       "      <td>5.26E</td>\n",
       "    </tr>\n",
       "    <tr>\n",
       "      <th>8599211</th>\n",
       "      <td>2013-09-01</td>\n",
       "      <td>NaN</td>\n",
       "      <td>NaN</td>\n",
       "      <td>Zwolle</td>\n",
       "      <td>Netherlands</td>\n",
       "      <td>52.24N</td>\n",
       "      <td>5.26E</td>\n",
       "    </tr>\n",
       "  </tbody>\n",
       "</table>\n",
       "<p>8599212 rows × 7 columns</p>\n",
       "</div>"
      ],
      "text/plain": [
       "                 dt  AverageTemperature  AverageTemperatureUncertainty  \\\n",
       "0        1743-11-01               6.068                          1.737   \n",
       "1        1743-12-01                 NaN                            NaN   \n",
       "2        1744-01-01                 NaN                            NaN   \n",
       "3        1744-02-01                 NaN                            NaN   \n",
       "4        1744-03-01                 NaN                            NaN   \n",
       "...             ...                 ...                            ...   \n",
       "8599207  2013-05-01              11.464                          0.236   \n",
       "8599208  2013-06-01              15.043                          0.261   \n",
       "8599209  2013-07-01              18.775                          0.193   \n",
       "8599210  2013-08-01              18.025                          0.298   \n",
       "8599211  2013-09-01                 NaN                            NaN   \n",
       "\n",
       "           City      Country Latitude Longitude  \n",
       "0         Århus      Denmark   57.05N    10.33E  \n",
       "1         Århus      Denmark   57.05N    10.33E  \n",
       "2         Århus      Denmark   57.05N    10.33E  \n",
       "3         Århus      Denmark   57.05N    10.33E  \n",
       "4         Århus      Denmark   57.05N    10.33E  \n",
       "...         ...          ...      ...       ...  \n",
       "8599207  Zwolle  Netherlands   52.24N     5.26E  \n",
       "8599208  Zwolle  Netherlands   52.24N     5.26E  \n",
       "8599209  Zwolle  Netherlands   52.24N     5.26E  \n",
       "8599210  Zwolle  Netherlands   52.24N     5.26E  \n",
       "8599211  Zwolle  Netherlands   52.24N     5.26E  \n",
       "\n",
       "[8599212 rows x 7 columns]"
      ]
     },
     "execution_count": 9,
     "metadata": {},
     "output_type": "execute_result"
    }
   ],
   "source": [
    "gtbc"
   ]
  },
  {
   "cell_type": "code",
   "execution_count": 10,
   "id": "749c0c23",
   "metadata": {},
   "outputs": [
    {
     "data": {
      "text/plain": [
       "(8599212, 7)"
      ]
     },
     "execution_count": 10,
     "metadata": {},
     "output_type": "execute_result"
    }
   ],
   "source": [
    "gtbc.shape"
   ]
  },
  {
   "cell_type": "code",
   "execution_count": 11,
   "id": "300390d4",
   "metadata": {},
   "outputs": [
    {
     "data": {
      "text/plain": [
       "<bound method NDFrame.describe of                  dt  AverageTemperature  AverageTemperatureUncertainty  \\\n",
       "0        1743-11-01               6.068                          1.737   \n",
       "1        1743-12-01                 NaN                            NaN   \n",
       "2        1744-01-01                 NaN                            NaN   \n",
       "3        1744-02-01                 NaN                            NaN   \n",
       "4        1744-03-01                 NaN                            NaN   \n",
       "...             ...                 ...                            ...   \n",
       "8599207  2013-05-01              11.464                          0.236   \n",
       "8599208  2013-06-01              15.043                          0.261   \n",
       "8599209  2013-07-01              18.775                          0.193   \n",
       "8599210  2013-08-01              18.025                          0.298   \n",
       "8599211  2013-09-01                 NaN                            NaN   \n",
       "\n",
       "           City      Country Latitude Longitude  \n",
       "0         Århus      Denmark   57.05N    10.33E  \n",
       "1         Århus      Denmark   57.05N    10.33E  \n",
       "2         Århus      Denmark   57.05N    10.33E  \n",
       "3         Århus      Denmark   57.05N    10.33E  \n",
       "4         Århus      Denmark   57.05N    10.33E  \n",
       "...         ...          ...      ...       ...  \n",
       "8599207  Zwolle  Netherlands   52.24N     5.26E  \n",
       "8599208  Zwolle  Netherlands   52.24N     5.26E  \n",
       "8599209  Zwolle  Netherlands   52.24N     5.26E  \n",
       "8599210  Zwolle  Netherlands   52.24N     5.26E  \n",
       "8599211  Zwolle  Netherlands   52.24N     5.26E  \n",
       "\n",
       "[8599212 rows x 7 columns]>"
      ]
     },
     "execution_count": 11,
     "metadata": {},
     "output_type": "execute_result"
    }
   ],
   "source": [
    "gtbc.describe"
   ]
  },
  {
   "cell_type": "code",
   "execution_count": 12,
   "id": "fb2501a9",
   "metadata": {},
   "outputs": [
    {
     "data": {
      "text/plain": [
       "Index(['dt', 'AverageTemperature', 'AverageTemperatureUncertainty', 'City',\n",
       "       'Country', 'Latitude', 'Longitude'],\n",
       "      dtype='object')"
      ]
     },
     "execution_count": 12,
     "metadata": {},
     "output_type": "execute_result"
    }
   ],
   "source": [
    "gtbc.columns"
   ]
  },
  {
   "cell_type": "code",
   "execution_count": 14,
   "id": "6504c6e3",
   "metadata": {},
   "outputs": [
    {
     "data": {
      "text/html": [
       "<div>\n",
       "<style scoped>\n",
       "    .dataframe tbody tr th:only-of-type {\n",
       "        vertical-align: middle;\n",
       "    }\n",
       "\n",
       "    .dataframe tbody tr th {\n",
       "        vertical-align: top;\n",
       "    }\n",
       "\n",
       "    .dataframe thead th {\n",
       "        text-align: right;\n",
       "    }\n",
       "</style>\n",
       "<table border=\"1\" class=\"dataframe\">\n",
       "  <thead>\n",
       "    <tr style=\"text-align: right;\">\n",
       "      <th></th>\n",
       "      <th>dt</th>\n",
       "      <th>AverageTemperature</th>\n",
       "      <th>AverageTemperatureUncertainty</th>\n",
       "      <th>City</th>\n",
       "      <th>Country</th>\n",
       "      <th>Latitude</th>\n",
       "      <th>Longitude</th>\n",
       "    </tr>\n",
       "  </thead>\n",
       "  <tbody>\n",
       "    <tr>\n",
       "      <th>0</th>\n",
       "      <td>False</td>\n",
       "      <td>False</td>\n",
       "      <td>False</td>\n",
       "      <td>False</td>\n",
       "      <td>False</td>\n",
       "      <td>False</td>\n",
       "      <td>False</td>\n",
       "    </tr>\n",
       "    <tr>\n",
       "      <th>1</th>\n",
       "      <td>False</td>\n",
       "      <td>True</td>\n",
       "      <td>True</td>\n",
       "      <td>False</td>\n",
       "      <td>False</td>\n",
       "      <td>False</td>\n",
       "      <td>False</td>\n",
       "    </tr>\n",
       "    <tr>\n",
       "      <th>2</th>\n",
       "      <td>False</td>\n",
       "      <td>True</td>\n",
       "      <td>True</td>\n",
       "      <td>False</td>\n",
       "      <td>False</td>\n",
       "      <td>False</td>\n",
       "      <td>False</td>\n",
       "    </tr>\n",
       "    <tr>\n",
       "      <th>3</th>\n",
       "      <td>False</td>\n",
       "      <td>True</td>\n",
       "      <td>True</td>\n",
       "      <td>False</td>\n",
       "      <td>False</td>\n",
       "      <td>False</td>\n",
       "      <td>False</td>\n",
       "    </tr>\n",
       "    <tr>\n",
       "      <th>4</th>\n",
       "      <td>False</td>\n",
       "      <td>True</td>\n",
       "      <td>True</td>\n",
       "      <td>False</td>\n",
       "      <td>False</td>\n",
       "      <td>False</td>\n",
       "      <td>False</td>\n",
       "    </tr>\n",
       "    <tr>\n",
       "      <th>...</th>\n",
       "      <td>...</td>\n",
       "      <td>...</td>\n",
       "      <td>...</td>\n",
       "      <td>...</td>\n",
       "      <td>...</td>\n",
       "      <td>...</td>\n",
       "      <td>...</td>\n",
       "    </tr>\n",
       "    <tr>\n",
       "      <th>8599207</th>\n",
       "      <td>False</td>\n",
       "      <td>False</td>\n",
       "      <td>False</td>\n",
       "      <td>False</td>\n",
       "      <td>False</td>\n",
       "      <td>False</td>\n",
       "      <td>False</td>\n",
       "    </tr>\n",
       "    <tr>\n",
       "      <th>8599208</th>\n",
       "      <td>False</td>\n",
       "      <td>False</td>\n",
       "      <td>False</td>\n",
       "      <td>False</td>\n",
       "      <td>False</td>\n",
       "      <td>False</td>\n",
       "      <td>False</td>\n",
       "    </tr>\n",
       "    <tr>\n",
       "      <th>8599209</th>\n",
       "      <td>False</td>\n",
       "      <td>False</td>\n",
       "      <td>False</td>\n",
       "      <td>False</td>\n",
       "      <td>False</td>\n",
       "      <td>False</td>\n",
       "      <td>False</td>\n",
       "    </tr>\n",
       "    <tr>\n",
       "      <th>8599210</th>\n",
       "      <td>False</td>\n",
       "      <td>False</td>\n",
       "      <td>False</td>\n",
       "      <td>False</td>\n",
       "      <td>False</td>\n",
       "      <td>False</td>\n",
       "      <td>False</td>\n",
       "    </tr>\n",
       "    <tr>\n",
       "      <th>8599211</th>\n",
       "      <td>False</td>\n",
       "      <td>True</td>\n",
       "      <td>True</td>\n",
       "      <td>False</td>\n",
       "      <td>False</td>\n",
       "      <td>False</td>\n",
       "      <td>False</td>\n",
       "    </tr>\n",
       "  </tbody>\n",
       "</table>\n",
       "<p>8599212 rows × 7 columns</p>\n",
       "</div>"
      ],
      "text/plain": [
       "            dt  AverageTemperature  AverageTemperatureUncertainty   City  \\\n",
       "0        False               False                          False  False   \n",
       "1        False                True                           True  False   \n",
       "2        False                True                           True  False   \n",
       "3        False                True                           True  False   \n",
       "4        False                True                           True  False   \n",
       "...        ...                 ...                            ...    ...   \n",
       "8599207  False               False                          False  False   \n",
       "8599208  False               False                          False  False   \n",
       "8599209  False               False                          False  False   \n",
       "8599210  False               False                          False  False   \n",
       "8599211  False                True                           True  False   \n",
       "\n",
       "         Country  Latitude  Longitude  \n",
       "0          False     False      False  \n",
       "1          False     False      False  \n",
       "2          False     False      False  \n",
       "3          False     False      False  \n",
       "4          False     False      False  \n",
       "...          ...       ...        ...  \n",
       "8599207    False     False      False  \n",
       "8599208    False     False      False  \n",
       "8599209    False     False      False  \n",
       "8599210    False     False      False  \n",
       "8599211    False     False      False  \n",
       "\n",
       "[8599212 rows x 7 columns]"
      ]
     },
     "execution_count": 14,
     "metadata": {},
     "output_type": "execute_result"
    }
   ],
   "source": [
    "gtbc.isnull()"
   ]
  },
  {
   "cell_type": "code",
   "execution_count": 15,
   "id": "dbd744ce",
   "metadata": {},
   "outputs": [
    {
     "data": {
      "text/plain": [
       "dt                                    0\n",
       "AverageTemperature               364130\n",
       "AverageTemperatureUncertainty    364130\n",
       "City                                  0\n",
       "Country                               0\n",
       "Latitude                              0\n",
       "Longitude                             0\n",
       "dtype: int64"
      ]
     },
     "execution_count": 15,
     "metadata": {},
     "output_type": "execute_result"
    }
   ],
   "source": [
    "(gtbc.isnull()).sum()"
   ]
  },
  {
   "cell_type": "code",
   "execution_count": 17,
   "id": "d0f40b54",
   "metadata": {},
   "outputs": [
    {
     "data": {
      "text/plain": [
       "dt                                object\n",
       "AverageTemperature               float64\n",
       "AverageTemperatureUncertainty    float64\n",
       "City                              object\n",
       "Country                           object\n",
       "Latitude                          object\n",
       "Longitude                         object\n",
       "dtype: object"
      ]
     },
     "execution_count": 17,
     "metadata": {},
     "output_type": "execute_result"
    }
   ],
   "source": [
    "gtbc.dtypes"
   ]
  },
  {
   "cell_type": "code",
   "execution_count": 18,
   "id": "85cf9878",
   "metadata": {},
   "outputs": [
    {
     "data": {
      "text/plain": [
       "16.72743263625063"
      ]
     },
     "execution_count": 18,
     "metadata": {},
     "output_type": "execute_result"
    }
   ],
   "source": [
    "gtbc['AverageTemperature'].mean()"
   ]
  },
  {
   "cell_type": "code",
   "execution_count": 19,
   "id": "1c758fa3",
   "metadata": {},
   "outputs": [
    {
     "data": {
      "text/plain": [
       "0    26.544\n",
       "Name: AverageTemperature, dtype: float64"
      ]
     },
     "execution_count": 19,
     "metadata": {},
     "output_type": "execute_result"
    }
   ],
   "source": [
    "gtbc['AverageTemperature'].mode()"
   ]
  },
  {
   "cell_type": "code",
   "execution_count": 20,
   "id": "5233f41a",
   "metadata": {},
   "outputs": [
    {
     "data": {
      "text/plain": [
       "18.831"
      ]
     },
     "execution_count": 20,
     "metadata": {},
     "output_type": "execute_result"
    }
   ],
   "source": [
    "gtbc['AverageTemperature'].median()"
   ]
  },
  {
   "cell_type": "code",
   "execution_count": 22,
   "id": "6f2d7399",
   "metadata": {},
   "outputs": [
    {
     "data": {
      "text/plain": [
       "1.0285747414536994"
      ]
     },
     "execution_count": 22,
     "metadata": {},
     "output_type": "execute_result"
    }
   ],
   "source": [
    "gtbc['AverageTemperatureUncertainty'].mean()"
   ]
  },
  {
   "cell_type": "code",
   "execution_count": 23,
   "id": "30f47107",
   "metadata": {},
   "outputs": [
    {
     "data": {
      "text/plain": [
       "0    0.283\n",
       "Name: AverageTemperatureUncertainty, dtype: float64"
      ]
     },
     "execution_count": 23,
     "metadata": {},
     "output_type": "execute_result"
    }
   ],
   "source": [
    "gtbc['AverageTemperatureUncertainty'].mode()"
   ]
  },
  {
   "cell_type": "code",
   "execution_count": 24,
   "id": "33b23ba3",
   "metadata": {},
   "outputs": [
    {
     "data": {
      "text/plain": [
       "0.591"
      ]
     },
     "execution_count": 24,
     "metadata": {},
     "output_type": "execute_result"
    }
   ],
   "source": [
    "gtbc['AverageTemperatureUncertainty'].median()"
   ]
  },
  {
   "cell_type": "code",
   "execution_count": 25,
   "id": "baec548d",
   "metadata": {},
   "outputs": [
    {
     "data": {
      "text/html": [
       "<div>\n",
       "<style scoped>\n",
       "    .dataframe tbody tr th:only-of-type {\n",
       "        vertical-align: middle;\n",
       "    }\n",
       "\n",
       "    .dataframe tbody tr th {\n",
       "        vertical-align: top;\n",
       "    }\n",
       "\n",
       "    .dataframe thead th {\n",
       "        text-align: right;\n",
       "    }\n",
       "</style>\n",
       "<table border=\"1\" class=\"dataframe\">\n",
       "  <thead>\n",
       "    <tr style=\"text-align: right;\">\n",
       "      <th></th>\n",
       "      <th>dt</th>\n",
       "      <th>AverageTemperature</th>\n",
       "      <th>AverageTemperatureUncertainty</th>\n",
       "      <th>City</th>\n",
       "      <th>Country</th>\n",
       "      <th>Latitude</th>\n",
       "      <th>Longitude</th>\n",
       "    </tr>\n",
       "  </thead>\n",
       "  <tbody>\n",
       "    <tr>\n",
       "      <th>0</th>\n",
       "      <td>1743-11-01</td>\n",
       "      <td>6.068</td>\n",
       "      <td>1.737</td>\n",
       "      <td>Århus</td>\n",
       "      <td>Denmark</td>\n",
       "      <td>57.05N</td>\n",
       "      <td>10.33E</td>\n",
       "    </tr>\n",
       "    <tr>\n",
       "      <th>5</th>\n",
       "      <td>1744-04-01</td>\n",
       "      <td>5.788</td>\n",
       "      <td>3.624</td>\n",
       "      <td>Århus</td>\n",
       "      <td>Denmark</td>\n",
       "      <td>57.05N</td>\n",
       "      <td>10.33E</td>\n",
       "    </tr>\n",
       "    <tr>\n",
       "      <th>6</th>\n",
       "      <td>1744-05-01</td>\n",
       "      <td>10.644</td>\n",
       "      <td>1.283</td>\n",
       "      <td>Århus</td>\n",
       "      <td>Denmark</td>\n",
       "      <td>57.05N</td>\n",
       "      <td>10.33E</td>\n",
       "    </tr>\n",
       "    <tr>\n",
       "      <th>7</th>\n",
       "      <td>1744-06-01</td>\n",
       "      <td>14.051</td>\n",
       "      <td>1.347</td>\n",
       "      <td>Århus</td>\n",
       "      <td>Denmark</td>\n",
       "      <td>57.05N</td>\n",
       "      <td>10.33E</td>\n",
       "    </tr>\n",
       "    <tr>\n",
       "      <th>8</th>\n",
       "      <td>1744-07-01</td>\n",
       "      <td>16.082</td>\n",
       "      <td>1.396</td>\n",
       "      <td>Århus</td>\n",
       "      <td>Denmark</td>\n",
       "      <td>57.05N</td>\n",
       "      <td>10.33E</td>\n",
       "    </tr>\n",
       "    <tr>\n",
       "      <th>...</th>\n",
       "      <td>...</td>\n",
       "      <td>...</td>\n",
       "      <td>...</td>\n",
       "      <td>...</td>\n",
       "      <td>...</td>\n",
       "      <td>...</td>\n",
       "      <td>...</td>\n",
       "    </tr>\n",
       "    <tr>\n",
       "      <th>8599206</th>\n",
       "      <td>2013-04-01</td>\n",
       "      <td>7.710</td>\n",
       "      <td>0.182</td>\n",
       "      <td>Zwolle</td>\n",
       "      <td>Netherlands</td>\n",
       "      <td>52.24N</td>\n",
       "      <td>5.26E</td>\n",
       "    </tr>\n",
       "    <tr>\n",
       "      <th>8599207</th>\n",
       "      <td>2013-05-01</td>\n",
       "      <td>11.464</td>\n",
       "      <td>0.236</td>\n",
       "      <td>Zwolle</td>\n",
       "      <td>Netherlands</td>\n",
       "      <td>52.24N</td>\n",
       "      <td>5.26E</td>\n",
       "    </tr>\n",
       "    <tr>\n",
       "      <th>8599208</th>\n",
       "      <td>2013-06-01</td>\n",
       "      <td>15.043</td>\n",
       "      <td>0.261</td>\n",
       "      <td>Zwolle</td>\n",
       "      <td>Netherlands</td>\n",
       "      <td>52.24N</td>\n",
       "      <td>5.26E</td>\n",
       "    </tr>\n",
       "    <tr>\n",
       "      <th>8599209</th>\n",
       "      <td>2013-07-01</td>\n",
       "      <td>18.775</td>\n",
       "      <td>0.193</td>\n",
       "      <td>Zwolle</td>\n",
       "      <td>Netherlands</td>\n",
       "      <td>52.24N</td>\n",
       "      <td>5.26E</td>\n",
       "    </tr>\n",
       "    <tr>\n",
       "      <th>8599210</th>\n",
       "      <td>2013-08-01</td>\n",
       "      <td>18.025</td>\n",
       "      <td>0.298</td>\n",
       "      <td>Zwolle</td>\n",
       "      <td>Netherlands</td>\n",
       "      <td>52.24N</td>\n",
       "      <td>5.26E</td>\n",
       "    </tr>\n",
       "  </tbody>\n",
       "</table>\n",
       "<p>8235082 rows × 7 columns</p>\n",
       "</div>"
      ],
      "text/plain": [
       "                 dt  AverageTemperature  AverageTemperatureUncertainty  \\\n",
       "0        1743-11-01               6.068                          1.737   \n",
       "5        1744-04-01               5.788                          3.624   \n",
       "6        1744-05-01              10.644                          1.283   \n",
       "7        1744-06-01              14.051                          1.347   \n",
       "8        1744-07-01              16.082                          1.396   \n",
       "...             ...                 ...                            ...   \n",
       "8599206  2013-04-01               7.710                          0.182   \n",
       "8599207  2013-05-01              11.464                          0.236   \n",
       "8599208  2013-06-01              15.043                          0.261   \n",
       "8599209  2013-07-01              18.775                          0.193   \n",
       "8599210  2013-08-01              18.025                          0.298   \n",
       "\n",
       "           City      Country Latitude Longitude  \n",
       "0         Århus      Denmark   57.05N    10.33E  \n",
       "5         Århus      Denmark   57.05N    10.33E  \n",
       "6         Århus      Denmark   57.05N    10.33E  \n",
       "7         Århus      Denmark   57.05N    10.33E  \n",
       "8         Århus      Denmark   57.05N    10.33E  \n",
       "...         ...          ...      ...       ...  \n",
       "8599206  Zwolle  Netherlands   52.24N     5.26E  \n",
       "8599207  Zwolle  Netherlands   52.24N     5.26E  \n",
       "8599208  Zwolle  Netherlands   52.24N     5.26E  \n",
       "8599209  Zwolle  Netherlands   52.24N     5.26E  \n",
       "8599210  Zwolle  Netherlands   52.24N     5.26E  \n",
       "\n",
       "[8235082 rows x 7 columns]"
      ]
     },
     "execution_count": 25,
     "metadata": {},
     "output_type": "execute_result"
    }
   ],
   "source": [
    "gtbc.dropna()"
   ]
  },
  {
   "cell_type": "code",
   "execution_count": 26,
   "id": "3a893bae",
   "metadata": {},
   "outputs": [
    {
     "data": {
      "text/plain": [
       "dt                                    0\n",
       "AverageTemperature               364130\n",
       "AverageTemperatureUncertainty    364130\n",
       "City                                  0\n",
       "Country                               0\n",
       "Latitude                              0\n",
       "Longitude                             0\n",
       "dtype: int64"
      ]
     },
     "execution_count": 26,
     "metadata": {},
     "output_type": "execute_result"
    }
   ],
   "source": [
    "(gtbc.isnull()).sum()"
   ]
  },
  {
   "cell_type": "code",
   "execution_count": 29,
   "id": "34690986",
   "metadata": {},
   "outputs": [],
   "source": [
    "gtbc.dropna(subset=['AverageTemperature', 'AverageTemperatureUncertainty'], inplace=True)\n"
   ]
  },
  {
   "cell_type": "code",
   "execution_count": 30,
   "id": "147e7f63",
   "metadata": {},
   "outputs": [
    {
     "data": {
      "text/plain": [
       "dt                               0\n",
       "AverageTemperature               0\n",
       "AverageTemperatureUncertainty    0\n",
       "City                             0\n",
       "Country                          0\n",
       "Latitude                         0\n",
       "Longitude                        0\n",
       "dtype: int64"
      ]
     },
     "execution_count": 30,
     "metadata": {},
     "output_type": "execute_result"
    }
   ],
   "source": [
    "(gtbc.isnull()).sum()"
   ]
  },
  {
   "cell_type": "code",
   "execution_count": 31,
   "id": "f655f05c",
   "metadata": {},
   "outputs": [
    {
     "data": {
      "text/plain": [
       "dt                                object\n",
       "AverageTemperature               float64\n",
       "AverageTemperatureUncertainty    float64\n",
       "City                              object\n",
       "Country                           object\n",
       "Latitude                          object\n",
       "Longitude                         object\n",
       "dtype: object"
      ]
     },
     "execution_count": 31,
     "metadata": {},
     "output_type": "execute_result"
    }
   ],
   "source": [
    "gtbc.dtypes"
   ]
  },
  {
   "cell_type": "markdown",
   "id": "76d03515",
   "metadata": {},
   "source": [
    "#1)extract year and calculate mean temperature for each year -line plot"
   ]
  },
  {
   "cell_type": "code",
   "execution_count": 32,
   "id": "37725384",
   "metadata": {},
   "outputs": [],
   "source": [
    "gtbc['dt']=pd.to_datetime(gtbc['dt'])"
   ]
  },
  {
   "cell_type": "code",
   "execution_count": 33,
   "id": "fb8f8d51",
   "metadata": {},
   "outputs": [
    {
     "data": {
      "text/plain": [
       "dt                               datetime64[ns]\n",
       "AverageTemperature                      float64\n",
       "AverageTemperatureUncertainty           float64\n",
       "City                                     object\n",
       "Country                                  object\n",
       "Latitude                                 object\n",
       "Longitude                                object\n",
       "dtype: object"
      ]
     },
     "execution_count": 33,
     "metadata": {},
     "output_type": "execute_result"
    }
   ],
   "source": [
    "gtbc.dtypes"
   ]
  },
  {
   "cell_type": "code",
   "execution_count": 37,
   "id": "0fec94f5",
   "metadata": {},
   "outputs": [],
   "source": [
    "gtbc['year']=gtbc['dt'].dt.year"
   ]
  },
  {
   "cell_type": "code",
   "execution_count": 38,
   "id": "f2208b83",
   "metadata": {},
   "outputs": [
    {
     "data": {
      "text/plain": [
       "dt                               datetime64[ns]\n",
       "AverageTemperature                      float64\n",
       "AverageTemperatureUncertainty           float64\n",
       "City                                     object\n",
       "Country                                  object\n",
       "Latitude                                 object\n",
       "Longitude                                object\n",
       "year                                      int32\n",
       "dtype: object"
      ]
     },
     "execution_count": 38,
     "metadata": {},
     "output_type": "execute_result"
    }
   ],
   "source": [
    "gtbc.dtypes"
   ]
  },
  {
   "cell_type": "code",
   "execution_count": 41,
   "id": "74765749",
   "metadata": {},
   "outputs": [
    {
     "data": {
      "text/plain": [
       "year\n",
       "1743     4.882424\n",
       "1744    10.734047\n",
       "1745     1.497593\n",
       "1750     9.872808\n",
       "1751    10.046739\n",
       "          ...    \n",
       "2009    18.601106\n",
       "2010    18.553508\n",
       "2011    18.393315\n",
       "2012    18.525969\n",
       "2013    19.061038\n",
       "Name: AverageTemperature, Length: 267, dtype: float64"
      ]
     },
     "execution_count": 41,
     "metadata": {},
     "output_type": "execute_result"
    }
   ],
   "source": [
    "mean_temp_by_year = gtbc.groupby('year')['AverageTemperature'].mean()\n",
    "mean_temp_by_year"
   ]
  },
  {
   "cell_type": "code",
   "execution_count": 44,
   "id": "a2727979",
   "metadata": {},
   "outputs": [
    {
     "data": {
      "image/png": "[encoded data removed]",
      "text/plain": [
       "<Figure size 640x480 with 1 Axes>"
      ]
     },
     "metadata": {},
     "output_type": "display_data"
    }
   ],
   "source": [
    "plt.plot(mean_temp_by_year.index, mean_temp_by_year.values, marker='o', linestyle='-', color='b',markerfacecolor='red')\n",
    "plt.title('Mean Temperature by Year')\n",
    "plt.xlabel('Year')\n",
    "plt.ylabel('Mean Temperature (°C)')\n",
    "plt.grid(True)\n",
    "plt.show()\n",
    "\n",
    "#mean temperature for each year -line plot"
   ]
  },
  {
   "cell_type": "code",
   "execution_count": null,
   "id": "1ad9589b",
   "metadata": {},
   "outputs": [],
   "source": []
  },
  {
   "cell_type": "code",
   "execution_count": 45,
   "id": "5e18816b",
   "metadata": {},
   "outputs": [
    {
     "data": {
      "text/plain": [
       "dt                               datetime64[ns]\n",
       "AverageTemperature                      float64\n",
       "AverageTemperatureUncertainty           float64\n",
       "City                                     object\n",
       "Country                                  object\n",
       "Latitude                                 object\n",
       "Longitude                                object\n",
       "year                                      int32\n",
       "dtype: object"
      ]
     },
     "execution_count": 45,
     "metadata": {},
     "output_type": "execute_result"
    }
   ],
   "source": [
    "gtbc.dtypes"
   ]
  },
  {
   "cell_type": "code",
   "execution_count": null,
   "id": "9f84c841",
   "metadata": {},
   "outputs": [],
   "source": [
    "#2)which countries had the highest average temp in the datasets -bar plot \n"
   ]
  },
  {
   "cell_type": "code",
   "execution_count": 46,
   "id": "1e219a2c",
   "metadata": {},
   "outputs": [],
   "source": [
    "\n",
    "countries_avg_temp=gtbc.groupby('Country')['AverageTemperature'].mean().reset_index()"
   ]
  },
  {
   "cell_type": "code",
   "execution_count": 47,
   "id": "a59fa3b8",
   "metadata": {},
   "outputs": [],
   "source": [
    "countries_avg_temp=countries_avg_temp.dropna()"
   ]
  },
  {
   "cell_type": "code",
   "execution_count": 50,
   "id": "e1f06c15",
   "metadata": {},
   "outputs": [],
   "source": [
    "top_countries=countries_avg_temp.sort_values(by='AverageTemperature',ascending=False).head(10)"
   ]
  },
  {
   "cell_type": "code",
   "execution_count": 51,
   "id": "679e108e",
   "metadata": {},
   "outputs": [
    {
     "data": {
      "text/html": [
       "<div>\n",
       "<style scoped>\n",
       "    .dataframe tbody tr th:only-of-type {\n",
       "        vertical-align: middle;\n",
       "    }\n",
       "\n",
       "    .dataframe tbody tr th {\n",
       "        vertical-align: top;\n",
       "    }\n",
       "\n",
       "    .dataframe thead th {\n",
       "        text-align: right;\n",
       "    }\n",
       "</style>\n",
       "<table border=\"1\" class=\"dataframe\">\n",
       "  <thead>\n",
       "    <tr style=\"text-align: right;\">\n",
       "      <th></th>\n",
       "      <th>Country</th>\n",
       "      <th>AverageTemperature</th>\n",
       "    </tr>\n",
       "  </thead>\n",
       "  <tbody>\n",
       "    <tr>\n",
       "      <th>40</th>\n",
       "      <td>Djibouti</td>\n",
       "      <td>29.152790</td>\n",
       "    </tr>\n",
       "    <tr>\n",
       "      <th>103</th>\n",
       "      <td>Niger</td>\n",
       "      <td>28.145552</td>\n",
       "    </tr>\n",
       "    <tr>\n",
       "      <th>133</th>\n",
       "      <td>Sudan</td>\n",
       "      <td>28.072831</td>\n",
       "    </tr>\n",
       "    <tr>\n",
       "      <th>20</th>\n",
       "      <td>Burkina Faso</td>\n",
       "      <td>27.815295</td>\n",
       "    </tr>\n",
       "    <tr>\n",
       "      <th>89</th>\n",
       "      <td>Mali</td>\n",
       "      <td>27.590491</td>\n",
       "    </tr>\n",
       "    <tr>\n",
       "      <th>27</th>\n",
       "      <td>Chad</td>\n",
       "      <td>27.189829</td>\n",
       "    </tr>\n",
       "    <tr>\n",
       "      <th>59</th>\n",
       "      <td>Guinea Bissau</td>\n",
       "      <td>27.057185</td>\n",
       "    </tr>\n",
       "    <tr>\n",
       "      <th>90</th>\n",
       "      <td>Mauritania</td>\n",
       "      <td>27.021905</td>\n",
       "    </tr>\n",
       "    <tr>\n",
       "      <th>14</th>\n",
       "      <td>Benin</td>\n",
       "      <td>26.975880</td>\n",
       "    </tr>\n",
       "    <tr>\n",
       "      <th>23</th>\n",
       "      <td>Cambodia</td>\n",
       "      <td>26.918136</td>\n",
       "    </tr>\n",
       "  </tbody>\n",
       "</table>\n",
       "</div>"
      ],
      "text/plain": [
       "           Country  AverageTemperature\n",
       "40        Djibouti           29.152790\n",
       "103          Niger           28.145552\n",
       "133          Sudan           28.072831\n",
       "20    Burkina Faso           27.815295\n",
       "89            Mali           27.590491\n",
       "27            Chad           27.189829\n",
       "59   Guinea Bissau           27.057185\n",
       "90      Mauritania           27.021905\n",
       "14           Benin           26.975880\n",
       "23        Cambodia           26.918136"
      ]
     },
     "execution_count": 51,
     "metadata": {},
     "output_type": "execute_result"
    }
   ],
   "source": [
    "top_countries"
   ]
  },
  {
   "cell_type": "code",
   "execution_count": 55,
   "id": "5ca0a3b9",
   "metadata": {},
   "outputs": [
    {
     "data": {
      "text/plain": [
       "Text(0.5, 1.0, 'Top 10 countries with highest average temperature')"
      ]
     },
     "execution_count": 55,
     "metadata": {},
     "output_type": "execute_result"
    },
    {
     "data": {
      "image/png": "[encoded data removed]",
      "text/plain": [
       "<Figure size 1500x1000 with 1 Axes>"
      ]
     },
     "metadata": {},
     "output_type": "display_data"
    }
   ],
   "source": [
    "plt.figure(figsize=(15,10))\n",
    "plt.bar(top_countries['Country'],top_countries['AverageTemperature'],color='crimson')\n",
    "plt.xlabel('Country')\n",
    "plt.ylabel('AverageTemperature')\n",
    "plt.title('Top 10 countries with highest average temperature')\n",
    "\n",
    "#countries had the highest average temp in the datasets -bar plot "
   ]
  },
  {
   "cell_type": "code",
   "execution_count": null,
   "id": "9ca71e16",
   "metadata": {},
   "outputs": [],
   "source": []
  },
  {
   "cell_type": "code",
   "execution_count": 54,
   "id": "64818d04",
   "metadata": {},
   "outputs": [
    {
     "data": {
      "text/plain": [
       "dt                               datetime64[ns]\n",
       "AverageTemperature                      float64\n",
       "AverageTemperatureUncertainty           float64\n",
       "City                                     object\n",
       "Country                                  object\n",
       "Latitude                                 object\n",
       "Longitude                                object\n",
       "year                                      int32\n",
       "dtype: object"
      ]
     },
     "execution_count": 54,
     "metadata": {},
     "output_type": "execute_result"
    }
   ],
   "source": [
    "gtbc.dtypes"
   ]
  },
  {
   "cell_type": "code",
   "execution_count": null,
   "id": "9d24b404",
   "metadata": {},
   "outputs": [],
   "source": [
    "#3)what is the distribution of average temp across all data?-histogram"
   ]
  },
  {
   "cell_type": "code",
   "execution_count": 64,
   "id": "07ffd40e",
   "metadata": {},
   "outputs": [
    {
     "data": {
      "image/png": "[encoded data removed]",
      "text/plain": [
       "<Figure size 640x480 with 1 Axes>"
      ]
     },
     "metadata": {},
     "output_type": "display_data"
    }
   ],
   "source": [
    "plt.hist(gtbc['AverageTemperature'],bins=15,color=\"lightgreen\",edgecolor=\"blue\")\n",
    "plt.title(\"Distribution of avg temp across data\")\n",
    "plt.xlabel(\"Average Temp\")\n",
    "plt.ylabel(\"Frequency\")\n",
    "plt.show()\n"
   ]
  },
  {
   "cell_type": "code",
   "execution_count": null,
   "id": "4e6deebe",
   "metadata": {},
   "outputs": [],
   "source": []
  },
  {
   "cell_type": "code",
   "execution_count": null,
   "id": "65c6bc7b",
   "metadata": {},
   "outputs": [],
   "source": [
    "#4)is there a correlation between temperature and uncertainity in the data set?-scatter plot"
   ]
  },
  {
   "cell_type": "code",
   "execution_count": 60,
   "id": "9256207d",
   "metadata": {},
   "outputs": [
    {
     "data": {
      "image/png": "[encoded data removed]",
      "text/plain": [
       "<Figure size 640x480 with 1 Axes>"
      ]
     },
     "metadata": {},
     "output_type": "display_data"
    }
   ],
   "source": [
    "plt.scatter(gtbc['AverageTemperature'],gtbc['AverageTemperatureUncertainty'],s=100,edgecolor='black' )\n",
    "plt.title(\"Correlation between Temperature and uncertainity\")\n",
    "plt.xlabel('Temperature')\n",
    "plt.ylabel('Uncertainity')\n",
    "plt.show()"
   ]
  },
  {
   "cell_type": "code",
   "execution_count": null,
   "id": "720a57f4",
   "metadata": {},
   "outputs": [],
   "source": []
  },
  {
   "cell_type": "code",
   "execution_count": null,
   "id": "bf17288f",
   "metadata": {},
   "outputs": [],
   "source": [
    "#5)what is the spread of temperature for a specific country over a given period ?-box plot"
   ]
  },
  {
   "cell_type": "code",
   "execution_count": 68,
   "id": "228e1d58",
   "metadata": {},
   "outputs": [],
   "source": [
    "country=\"Denmark\"\n",
    "yr=2013\n",
    "country_yr=gtbc[(gtbc['Country']==country) & (gtbc['year']==yr)]"
   ]
  },
  {
   "cell_type": "code",
   "execution_count": 71,
   "id": "79af5bf5",
   "metadata": {},
   "outputs": [
    {
     "data": {
      "text/html": [
       "<div>\n",
       "<style scoped>\n",
       "    .dataframe tbody tr th:only-of-type {\n",
       "        vertical-align: middle;\n",
       "    }\n",
       "\n",
       "    .dataframe tbody tr th {\n",
       "        vertical-align: top;\n",
       "    }\n",
       "\n",
       "    .dataframe thead th {\n",
       "        text-align: right;\n",
       "    }\n",
       "</style>\n",
       "<table border=\"1\" class=\"dataframe\">\n",
       "  <thead>\n",
       "    <tr style=\"text-align: right;\">\n",
       "      <th></th>\n",
       "      <th>dt</th>\n",
       "      <th>AverageTemperature</th>\n",
       "      <th>AverageTemperatureUncertainty</th>\n",
       "      <th>City</th>\n",
       "      <th>Country</th>\n",
       "      <th>Latitude</th>\n",
       "      <th>Longitude</th>\n",
       "      <th>year</th>\n",
       "    </tr>\n",
       "  </thead>\n",
       "  <tbody>\n",
       "    <tr>\n",
       "      <th>3230</th>\n",
       "      <td>2013-01-01</td>\n",
       "      <td>-0.344</td>\n",
       "      <td>0.389</td>\n",
       "      <td>Århus</td>\n",
       "      <td>Denmark</td>\n",
       "      <td>57.05N</td>\n",
       "      <td>10.33E</td>\n",
       "      <td>2013</td>\n",
       "    </tr>\n",
       "    <tr>\n",
       "      <th>3231</th>\n",
       "      <td>2013-02-01</td>\n",
       "      <td>-0.390</td>\n",
       "      <td>0.240</td>\n",
       "      <td>Århus</td>\n",
       "      <td>Denmark</td>\n",
       "      <td>57.05N</td>\n",
       "      <td>10.33E</td>\n",
       "      <td>2013</td>\n",
       "    </tr>\n",
       "    <tr>\n",
       "      <th>3232</th>\n",
       "      <td>2013-03-01</td>\n",
       "      <td>-0.474</td>\n",
       "      <td>0.450</td>\n",
       "      <td>Århus</td>\n",
       "      <td>Denmark</td>\n",
       "      <td>57.05N</td>\n",
       "      <td>10.33E</td>\n",
       "      <td>2013</td>\n",
       "    </tr>\n",
       "    <tr>\n",
       "      <th>3233</th>\n",
       "      <td>2013-04-01</td>\n",
       "      <td>5.514</td>\n",
       "      <td>0.330</td>\n",
       "      <td>Århus</td>\n",
       "      <td>Denmark</td>\n",
       "      <td>57.05N</td>\n",
       "      <td>10.33E</td>\n",
       "      <td>2013</td>\n",
       "    </tr>\n",
       "    <tr>\n",
       "      <th>3234</th>\n",
       "      <td>2013-05-01</td>\n",
       "      <td>12.770</td>\n",
       "      <td>0.549</td>\n",
       "      <td>Århus</td>\n",
       "      <td>Denmark</td>\n",
       "      <td>57.05N</td>\n",
       "      <td>10.33E</td>\n",
       "      <td>2013</td>\n",
       "    </tr>\n",
       "    <tr>\n",
       "      <th>3235</th>\n",
       "      <td>2013-06-01</td>\n",
       "      <td>15.223</td>\n",
       "      <td>0.322</td>\n",
       "      <td>Århus</td>\n",
       "      <td>Denmark</td>\n",
       "      <td>57.05N</td>\n",
       "      <td>10.33E</td>\n",
       "      <td>2013</td>\n",
       "    </tr>\n",
       "    <tr>\n",
       "      <th>3236</th>\n",
       "      <td>2013-07-01</td>\n",
       "      <td>18.259</td>\n",
       "      <td>0.314</td>\n",
       "      <td>Århus</td>\n",
       "      <td>Denmark</td>\n",
       "      <td>57.05N</td>\n",
       "      <td>10.33E</td>\n",
       "      <td>2013</td>\n",
       "    </tr>\n",
       "    <tr>\n",
       "      <th>3237</th>\n",
       "      <td>2013-08-01</td>\n",
       "      <td>17.423</td>\n",
       "      <td>0.408</td>\n",
       "      <td>Århus</td>\n",
       "      <td>Denmark</td>\n",
       "      <td>57.05N</td>\n",
       "      <td>10.33E</td>\n",
       "      <td>2013</td>\n",
       "    </tr>\n",
       "    <tr>\n",
       "      <th>23951</th>\n",
       "      <td>2013-01-01</td>\n",
       "      <td>-0.344</td>\n",
       "      <td>0.389</td>\n",
       "      <td>Aalborg</td>\n",
       "      <td>Denmark</td>\n",
       "      <td>57.05N</td>\n",
       "      <td>10.33E</td>\n",
       "      <td>2013</td>\n",
       "    </tr>\n",
       "    <tr>\n",
       "      <th>23952</th>\n",
       "      <td>2013-02-01</td>\n",
       "      <td>-0.390</td>\n",
       "      <td>0.240</td>\n",
       "      <td>Aalborg</td>\n",
       "      <td>Denmark</td>\n",
       "      <td>57.05N</td>\n",
       "      <td>10.33E</td>\n",
       "      <td>2013</td>\n",
       "    </tr>\n",
       "    <tr>\n",
       "      <th>23953</th>\n",
       "      <td>2013-03-01</td>\n",
       "      <td>-0.474</td>\n",
       "      <td>0.450</td>\n",
       "      <td>Aalborg</td>\n",
       "      <td>Denmark</td>\n",
       "      <td>57.05N</td>\n",
       "      <td>10.33E</td>\n",
       "      <td>2013</td>\n",
       "    </tr>\n",
       "    <tr>\n",
       "      <th>23954</th>\n",
       "      <td>2013-04-01</td>\n",
       "      <td>5.514</td>\n",
       "      <td>0.330</td>\n",
       "      <td>Aalborg</td>\n",
       "      <td>Denmark</td>\n",
       "      <td>57.05N</td>\n",
       "      <td>10.33E</td>\n",
       "      <td>2013</td>\n",
       "    </tr>\n",
       "    <tr>\n",
       "      <th>23955</th>\n",
       "      <td>2013-05-01</td>\n",
       "      <td>12.770</td>\n",
       "      <td>0.549</td>\n",
       "      <td>Aalborg</td>\n",
       "      <td>Denmark</td>\n",
       "      <td>57.05N</td>\n",
       "      <td>10.33E</td>\n",
       "      <td>2013</td>\n",
       "    </tr>\n",
       "    <tr>\n",
       "      <th>23956</th>\n",
       "      <td>2013-06-01</td>\n",
       "      <td>15.223</td>\n",
       "      <td>0.322</td>\n",
       "      <td>Aalborg</td>\n",
       "      <td>Denmark</td>\n",
       "      <td>57.05N</td>\n",
       "      <td>10.33E</td>\n",
       "      <td>2013</td>\n",
       "    </tr>\n",
       "    <tr>\n",
       "      <th>23957</th>\n",
       "      <td>2013-07-01</td>\n",
       "      <td>18.259</td>\n",
       "      <td>0.314</td>\n",
       "      <td>Aalborg</td>\n",
       "      <td>Denmark</td>\n",
       "      <td>57.05N</td>\n",
       "      <td>10.33E</td>\n",
       "      <td>2013</td>\n",
       "    </tr>\n",
       "    <tr>\n",
       "      <th>23958</th>\n",
       "      <td>2013-08-01</td>\n",
       "      <td>17.423</td>\n",
       "      <td>0.408</td>\n",
       "      <td>Aalborg</td>\n",
       "      <td>Denmark</td>\n",
       "      <td>57.05N</td>\n",
       "      <td>10.33E</td>\n",
       "      <td>2013</td>\n",
       "    </tr>\n",
       "    <tr>\n",
       "      <th>1760569</th>\n",
       "      <td>2013-01-01</td>\n",
       "      <td>0.149</td>\n",
       "      <td>0.203</td>\n",
       "      <td>Copenhagen</td>\n",
       "      <td>Denmark</td>\n",
       "      <td>55.45N</td>\n",
       "      <td>11.34E</td>\n",
       "      <td>2013</td>\n",
       "    </tr>\n",
       "    <tr>\n",
       "      <th>1760570</th>\n",
       "      <td>2013-02-01</td>\n",
       "      <td>-0.329</td>\n",
       "      <td>0.237</td>\n",
       "      <td>Copenhagen</td>\n",
       "      <td>Denmark</td>\n",
       "      <td>55.45N</td>\n",
       "      <td>11.34E</td>\n",
       "      <td>2013</td>\n",
       "    </tr>\n",
       "    <tr>\n",
       "      <th>1760571</th>\n",
       "      <td>2013-03-01</td>\n",
       "      <td>-0.595</td>\n",
       "      <td>0.455</td>\n",
       "      <td>Copenhagen</td>\n",
       "      <td>Denmark</td>\n",
       "      <td>55.45N</td>\n",
       "      <td>11.34E</td>\n",
       "      <td>2013</td>\n",
       "    </tr>\n",
       "    <tr>\n",
       "      <th>1760572</th>\n",
       "      <td>2013-04-01</td>\n",
       "      <td>6.026</td>\n",
       "      <td>0.333</td>\n",
       "      <td>Copenhagen</td>\n",
       "      <td>Denmark</td>\n",
       "      <td>55.45N</td>\n",
       "      <td>11.34E</td>\n",
       "      <td>2013</td>\n",
       "    </tr>\n",
       "    <tr>\n",
       "      <th>1760573</th>\n",
       "      <td>2013-05-01</td>\n",
       "      <td>12.774</td>\n",
       "      <td>0.426</td>\n",
       "      <td>Copenhagen</td>\n",
       "      <td>Denmark</td>\n",
       "      <td>55.45N</td>\n",
       "      <td>11.34E</td>\n",
       "      <td>2013</td>\n",
       "    </tr>\n",
       "    <tr>\n",
       "      <th>1760574</th>\n",
       "      <td>2013-06-01</td>\n",
       "      <td>15.685</td>\n",
       "      <td>0.370</td>\n",
       "      <td>Copenhagen</td>\n",
       "      <td>Denmark</td>\n",
       "      <td>55.45N</td>\n",
       "      <td>11.34E</td>\n",
       "      <td>2013</td>\n",
       "    </tr>\n",
       "    <tr>\n",
       "      <th>1760575</th>\n",
       "      <td>2013-07-01</td>\n",
       "      <td>18.735</td>\n",
       "      <td>0.441</td>\n",
       "      <td>Copenhagen</td>\n",
       "      <td>Denmark</td>\n",
       "      <td>55.45N</td>\n",
       "      <td>11.34E</td>\n",
       "      <td>2013</td>\n",
       "    </tr>\n",
       "    <tr>\n",
       "      <th>1760576</th>\n",
       "      <td>2013-08-01</td>\n",
       "      <td>18.067</td>\n",
       "      <td>0.239</td>\n",
       "      <td>Copenhagen</td>\n",
       "      <td>Denmark</td>\n",
       "      <td>55.45N</td>\n",
       "      <td>11.34E</td>\n",
       "      <td>2013</td>\n",
       "    </tr>\n",
       "    <tr>\n",
       "      <th>5412615</th>\n",
       "      <td>2013-01-01</td>\n",
       "      <td>0.149</td>\n",
       "      <td>0.203</td>\n",
       "      <td>Odense</td>\n",
       "      <td>Denmark</td>\n",
       "      <td>55.45N</td>\n",
       "      <td>11.34E</td>\n",
       "      <td>2013</td>\n",
       "    </tr>\n",
       "    <tr>\n",
       "      <th>5412616</th>\n",
       "      <td>2013-02-01</td>\n",
       "      <td>-0.329</td>\n",
       "      <td>0.237</td>\n",
       "      <td>Odense</td>\n",
       "      <td>Denmark</td>\n",
       "      <td>55.45N</td>\n",
       "      <td>11.34E</td>\n",
       "      <td>2013</td>\n",
       "    </tr>\n",
       "    <tr>\n",
       "      <th>5412617</th>\n",
       "      <td>2013-03-01</td>\n",
       "      <td>-0.595</td>\n",
       "      <td>0.455</td>\n",
       "      <td>Odense</td>\n",
       "      <td>Denmark</td>\n",
       "      <td>55.45N</td>\n",
       "      <td>11.34E</td>\n",
       "      <td>2013</td>\n",
       "    </tr>\n",
       "    <tr>\n",
       "      <th>5412618</th>\n",
       "      <td>2013-04-01</td>\n",
       "      <td>6.026</td>\n",
       "      <td>0.333</td>\n",
       "      <td>Odense</td>\n",
       "      <td>Denmark</td>\n",
       "      <td>55.45N</td>\n",
       "      <td>11.34E</td>\n",
       "      <td>2013</td>\n",
       "    </tr>\n",
       "    <tr>\n",
       "      <th>5412619</th>\n",
       "      <td>2013-05-01</td>\n",
       "      <td>12.774</td>\n",
       "      <td>0.426</td>\n",
       "      <td>Odense</td>\n",
       "      <td>Denmark</td>\n",
       "      <td>55.45N</td>\n",
       "      <td>11.34E</td>\n",
       "      <td>2013</td>\n",
       "    </tr>\n",
       "    <tr>\n",
       "      <th>5412620</th>\n",
       "      <td>2013-06-01</td>\n",
       "      <td>15.685</td>\n",
       "      <td>0.370</td>\n",
       "      <td>Odense</td>\n",
       "      <td>Denmark</td>\n",
       "      <td>55.45N</td>\n",
       "      <td>11.34E</td>\n",
       "      <td>2013</td>\n",
       "    </tr>\n",
       "    <tr>\n",
       "      <th>5412621</th>\n",
       "      <td>2013-07-01</td>\n",
       "      <td>18.735</td>\n",
       "      <td>0.441</td>\n",
       "      <td>Odense</td>\n",
       "      <td>Denmark</td>\n",
       "      <td>55.45N</td>\n",
       "      <td>11.34E</td>\n",
       "      <td>2013</td>\n",
       "    </tr>\n",
       "    <tr>\n",
       "      <th>5412622</th>\n",
       "      <td>2013-08-01</td>\n",
       "      <td>18.067</td>\n",
       "      <td>0.239</td>\n",
       "      <td>Odense</td>\n",
       "      <td>Denmark</td>\n",
       "      <td>55.45N</td>\n",
       "      <td>11.34E</td>\n",
       "      <td>2013</td>\n",
       "    </tr>\n",
       "  </tbody>\n",
       "</table>\n",
       "</div>"
      ],
      "text/plain": [
       "                dt  AverageTemperature  AverageTemperatureUncertainty  \\\n",
       "3230    2013-01-01              -0.344                          0.389   \n",
       "3231    2013-02-01              -0.390                          0.240   \n",
       "3232    2013-03-01              -0.474                          0.450   \n",
       "3233    2013-04-01               5.514                          0.330   \n",
       "3234    2013-05-01              12.770                          0.549   \n",
       "3235    2013-06-01              15.223                          0.322   \n",
       "3236    2013-07-01              18.259                          0.314   \n",
       "3237    2013-08-01              17.423                          0.408   \n",
       "23951   2013-01-01              -0.344                          0.389   \n",
       "23952   2013-02-01              -0.390                          0.240   \n",
       "23953   2013-03-01              -0.474                          0.450   \n",
       "23954   2013-04-01               5.514                          0.330   \n",
       "23955   2013-05-01              12.770                          0.549   \n",
       "23956   2013-06-01              15.223                          0.322   \n",
       "23957   2013-07-01              18.259                          0.314   \n",
       "23958   2013-08-01              17.423                          0.408   \n",
       "1760569 2013-01-01               0.149                          0.203   \n",
       "1760570 2013-02-01              -0.329                          0.237   \n",
       "1760571 2013-03-01              -0.595                          0.455   \n",
       "1760572 2013-04-01               6.026                          0.333   \n",
       "1760573 2013-05-01              12.774                          0.426   \n",
       "1760574 2013-06-01              15.685                          0.370   \n",
       "1760575 2013-07-01              18.735                          0.441   \n",
       "1760576 2013-08-01              18.067                          0.239   \n",
       "5412615 2013-01-01               0.149                          0.203   \n",
       "5412616 2013-02-01              -0.329                          0.237   \n",
       "5412617 2013-03-01              -0.595                          0.455   \n",
       "5412618 2013-04-01               6.026                          0.333   \n",
       "5412619 2013-05-01              12.774                          0.426   \n",
       "5412620 2013-06-01              15.685                          0.370   \n",
       "5412621 2013-07-01              18.735                          0.441   \n",
       "5412622 2013-08-01              18.067                          0.239   \n",
       "\n",
       "               City  Country Latitude Longitude  year  \n",
       "3230          Århus  Denmark   57.05N    10.33E  2013  \n",
       "3231          Århus  Denmark   57.05N    10.33E  2013  \n",
       "3232          Århus  Denmark   57.05N    10.33E  2013  \n",
       "3233          Århus  Denmark   57.05N    10.33E  2013  \n",
       "3234          Århus  Denmark   57.05N    10.33E  2013  \n",
       "3235          Århus  Denmark   57.05N    10.33E  2013  \n",
       "3236          Århus  Denmark   57.05N    10.33E  2013  \n",
       "3237          Århus  Denmark   57.05N    10.33E  2013  \n",
       "23951       Aalborg  Denmark   57.05N    10.33E  2013  \n",
       "23952       Aalborg  Denmark   57.05N    10.33E  2013  \n",
       "23953       Aalborg  Denmark   57.05N    10.33E  2013  \n",
       "23954       Aalborg  Denmark   57.05N    10.33E  2013  \n",
       "23955       Aalborg  Denmark   57.05N    10.33E  2013  \n",
       "23956       Aalborg  Denmark   57.05N    10.33E  2013  \n",
       "23957       Aalborg  Denmark   57.05N    10.33E  2013  \n",
       "23958       Aalborg  Denmark   57.05N    10.33E  2013  \n",
       "1760569  Copenhagen  Denmark   55.45N    11.34E  2013  \n",
       "1760570  Copenhagen  Denmark   55.45N    11.34E  2013  \n",
       "1760571  Copenhagen  Denmark   55.45N    11.34E  2013  \n",
       "1760572  Copenhagen  Denmark   55.45N    11.34E  2013  \n",
       "1760573  Copenhagen  Denmark   55.45N    11.34E  2013  \n",
       "1760574  Copenhagen  Denmark   55.45N    11.34E  2013  \n",
       "1760575  Copenhagen  Denmark   55.45N    11.34E  2013  \n",
       "1760576  Copenhagen  Denmark   55.45N    11.34E  2013  \n",
       "5412615      Odense  Denmark   55.45N    11.34E  2013  \n",
       "5412616      Odense  Denmark   55.45N    11.34E  2013  \n",
       "5412617      Odense  Denmark   55.45N    11.34E  2013  \n",
       "5412618      Odense  Denmark   55.45N    11.34E  2013  \n",
       "5412619      Odense  Denmark   55.45N    11.34E  2013  \n",
       "5412620      Odense  Denmark   55.45N    11.34E  2013  \n",
       "5412621      Odense  Denmark   55.45N    11.34E  2013  \n",
       "5412622      Odense  Denmark   55.45N    11.34E  2013  "
      ]
     },
     "execution_count": 71,
     "metadata": {},
     "output_type": "execute_result"
    }
   ],
   "source": [
    "country_yr"
   ]
  },
  {
   "cell_type": "code",
   "execution_count": 70,
   "id": "f41ed4de",
   "metadata": {},
   "outputs": [
    {
     "data": {
      "image/png": "[encoded data removed]",
      "text/plain": [
       "<Figure size 640x480 with 1 Axes>"
      ]
     },
     "metadata": {},
     "output_type": "display_data"
    }
   ],
   "source": [
    "plt.boxplot(x=country_yr['AverageTemperature'])\n",
    "plt.title('temperature over a period (country=\"Denkmark\",period=2013)')\n",
    "plt.show()\n"
   ]
  },
  {
   "cell_type": "code",
   "execution_count": null,
   "id": "8eaf7e52",
   "metadata": {},
   "outputs": [],
   "source": []
  }
 ],
 "metadata": {
  "kernelspec": {
   "display_name": "Python 3 (ipykernel)",
   "language": "python",
   "name": "python3"
  },
  "language_info": {
   "codemirror_mode": {
    "name": "ipython",
    "version": 3
   },
   "file_extension": ".py",
   "mimetype": "text/x-python",
   "name": "python",
   "nbconvert_exporter": "python",
   "pygments_lexer": "ipython3",
   "version": "3.11.5"
  }
 },
 "nbformat": 4,
 "nbformat_minor": 5
}
