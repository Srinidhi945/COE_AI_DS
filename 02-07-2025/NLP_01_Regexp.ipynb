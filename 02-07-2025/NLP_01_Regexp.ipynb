{
  "cells": [
    {
      "cell_type": "code",
      "execution_count": null,
      "id": "ca53a044",
      "metadata": {
        "id": "ca53a044"
      },
      "outputs": [],
      "source": [
        "import pandas as pd\n",
        "import numpy as np\n",
        "import re"
      ]
    },
    {
      "cell_type": "code",
      "execution_count": null,
      "id": "5e7dd672",
      "metadata": {
        "id": "5e7dd672",
        "outputId": "b464a188-4947-46e0-f030-063c66affbd0"
      },
      "outputs": [
        {
          "data": {
            "text/plain": [
              "<re.Match object; span=(0, 4), match='Ravi'>"
            ]
          },
          "execution_count": 2,
          "metadata": {},
          "output_type": "execute_result"
        }
      ],
      "source": [
        "re.search('Ravi','Ravi is Ravidas exceptional student')"
      ]
    },
    {
      "cell_type": "code",
      "execution_count": null,
      "id": "947df68b",
      "metadata": {
        "id": "947df68b",
        "outputId": "bbbb3e6b-7119-45f4-8590-95045e5dc1e0"
      },
      "outputs": [
        {
          "name": "stdout",
          "output_type": "stream",
          "text": [
            "Ravi\n"
          ]
        }
      ],
      "source": [
        "name=re.search('Ravi','Ravi is Ravidas exceptional student')\n",
        "print(name.group())"
      ]
    },
    {
      "cell_type": "markdown",
      "id": "0c9c1a17",
      "metadata": {
        "id": "0c9c1a17"
      },
      "source": [
        "# Definig function for regexp\n"
      ]
    },
    {
      "cell_type": "code",
      "execution_count": null,
      "id": "3307a7eb",
      "metadata": {
        "id": "3307a7eb"
      },
      "outputs": [],
      "source": [
        "def find_pattern(text,pattern):\n",
        "    if re.search(pattern,text):\n",
        "        return re.search(pattern,text)\n",
        "    else:\n",
        "        return 'not found !'"
      ]
    },
    {
      "cell_type": "markdown",
      "id": "53cc6baf",
      "metadata": {
        "id": "53cc6baf"
      },
      "source": [
        "##  ?  : zero or one tells weather the pattern is present or absent"
      ]
    },
    {
      "cell_type": "code",
      "execution_count": null,
      "id": "7804e875",
      "metadata": {
        "id": "7804e875",
        "outputId": "d1943f43-387b-46b3-93f6-eda04ef87549"
      },
      "outputs": [
        {
          "data": {
            "text/plain": [
              "<re.Match object; span=(0, 1), match='a'>"
            ]
          },
          "execution_count": 5,
          "metadata": {},
          "output_type": "execute_result"
        }
      ],
      "source": [
        "find_pattern('ac','ab?')"
      ]
    },
    {
      "cell_type": "code",
      "execution_count": null,
      "id": "052e4f91",
      "metadata": {
        "id": "052e4f91",
        "outputId": "fcede1cd-b1c1-47fe-93e0-ce03d18aa0f5"
      },
      "outputs": [
        {
          "data": {
            "text/plain": [
              "<re.Match object; span=(0, 2), match='ab'>"
            ]
          },
          "execution_count": 6,
          "metadata": {},
          "output_type": "execute_result"
        }
      ],
      "source": [
        "find_pattern(\"abc\",\"ab?\")"
      ]
    },
    {
      "cell_type": "code",
      "execution_count": null,
      "id": "26ad0598",
      "metadata": {
        "id": "26ad0598",
        "outputId": "71cc7a03-ce0e-47b2-a66c-26b593e67e14"
      },
      "outputs": [
        {
          "data": {
            "text/plain": [
              "<re.Match object; span=(0, 2), match='ab'>"
            ]
          },
          "execution_count": 7,
          "metadata": {},
          "output_type": "execute_result"
        }
      ],
      "source": [
        "find_pattern('abbbc','abc?')"
      ]
    },
    {
      "cell_type": "code",
      "execution_count": null,
      "id": "f27e1dcc",
      "metadata": {
        "id": "f27e1dcc"
      },
      "outputs": [],
      "source": []
    },
    {
      "cell_type": "markdown",
      "id": "40798d59",
      "metadata": {
        "id": "40798d59"
      },
      "source": [
        "##  *  : zero or more"
      ]
    },
    {
      "cell_type": "code",
      "execution_count": null,
      "id": "a88e1008",
      "metadata": {
        "id": "a88e1008",
        "outputId": "be9c0899-37f8-4b13-a087-171053c34e72"
      },
      "outputs": [
        {
          "data": {
            "text/plain": [
              "<re.Match object; span=(0, 1), match='a'>"
            ]
          },
          "execution_count": 8,
          "metadata": {},
          "output_type": "execute_result"
        }
      ],
      "source": [
        "find_pattern('ac','ab*')"
      ]
    },
    {
      "cell_type": "code",
      "execution_count": null,
      "id": "db964272",
      "metadata": {
        "id": "db964272",
        "outputId": "bacb7635-9b2c-479a-96d7-90e7ffc3aa5a"
      },
      "outputs": [
        {
          "data": {
            "text/plain": [
              "<re.Match object; span=(0, 2), match='ab'>"
            ]
          },
          "execution_count": 9,
          "metadata": {},
          "output_type": "execute_result"
        }
      ],
      "source": [
        "find_pattern('abc','ab*')"
      ]
    },
    {
      "cell_type": "code",
      "execution_count": null,
      "id": "6774e8f2",
      "metadata": {
        "id": "6774e8f2",
        "outputId": "5044032f-7e92-4bab-d8cf-325d3c257772"
      },
      "outputs": [
        {
          "data": {
            "text/plain": [
              "<re.Match object; span=(0, 6), match='abbbbb'>"
            ]
          },
          "execution_count": 10,
          "metadata": {},
          "output_type": "execute_result"
        }
      ],
      "source": [
        "find_pattern('abbbbbc','ab*')"
      ]
    },
    {
      "cell_type": "markdown",
      "id": "e1362353",
      "metadata": {
        "id": "e1362353"
      },
      "source": [
        "##  +  : one or more"
      ]
    },
    {
      "cell_type": "code",
      "execution_count": null,
      "id": "424db63f",
      "metadata": {
        "id": "424db63f",
        "outputId": "03be0980-beeb-471a-90f1-147dc67f2846"
      },
      "outputs": [
        {
          "data": {
            "text/plain": [
              "'not found !'"
            ]
          },
          "execution_count": 11,
          "metadata": {},
          "output_type": "execute_result"
        }
      ],
      "source": [
        "find_pattern('ac','ab+')"
      ]
    },
    {
      "cell_type": "code",
      "execution_count": null,
      "id": "94600f38",
      "metadata": {
        "id": "94600f38",
        "outputId": "0743a629-de76-486f-dd06-0ce6dd51ed75"
      },
      "outputs": [
        {
          "data": {
            "text/plain": [
              "<re.Match object; span=(0, 2), match='ab'>"
            ]
          },
          "execution_count": 12,
          "metadata": {},
          "output_type": "execute_result"
        }
      ],
      "source": [
        "find_pattern('abc','ab+')"
      ]
    },
    {
      "cell_type": "code",
      "execution_count": null,
      "id": "28bce761",
      "metadata": {
        "id": "28bce761",
        "outputId": "f5046a3e-cd4d-4ed8-86ce-6c6dafd0326d"
      },
      "outputs": [
        {
          "data": {
            "text/plain": [
              "<re.Match object; span=(0, 7), match='abbbbbb'>"
            ]
          },
          "execution_count": 13,
          "metadata": {},
          "output_type": "execute_result"
        }
      ],
      "source": [
        "find_pattern('abbbbbbc','ab+')"
      ]
    },
    {
      "cell_type": "markdown",
      "id": "d6669930",
      "metadata": {
        "id": "d6669930"
      },
      "source": [
        "## {n}  present exactly for n  time"
      ]
    },
    {
      "cell_type": "code",
      "execution_count": null,
      "id": "1867601d",
      "metadata": {
        "id": "1867601d",
        "outputId": "3d0bbe99-153e-4417-9dd2-2b02d97732c9"
      },
      "outputs": [
        {
          "data": {
            "text/plain": [
              "<re.Match object; span=(0, 5), match='abbbb'>"
            ]
          },
          "execution_count": 14,
          "metadata": {},
          "output_type": "execute_result"
        }
      ],
      "source": [
        "find_pattern('abbbbbbc','ab{4}')"
      ]
    },
    {
      "cell_type": "code",
      "execution_count": null,
      "id": "2f9d9171",
      "metadata": {
        "id": "2f9d9171",
        "outputId": "cdb70510-b9f6-4479-feec-679eb83d2f9c"
      },
      "outputs": [
        {
          "data": {
            "text/plain": [
              "'not found !'"
            ]
          },
          "execution_count": 15,
          "metadata": {},
          "output_type": "execute_result"
        }
      ],
      "source": [
        "find_pattern('abbc','ab{4}')"
      ]
    },
    {
      "cell_type": "code",
      "execution_count": null,
      "id": "4ea4cae9",
      "metadata": {
        "id": "4ea4cae9",
        "outputId": "8c344349-0aca-473a-d59d-79deaeb4c5e5"
      },
      "outputs": [
        {
          "data": {
            "text/plain": [
              "<re.Match object; span=(0, 6), match='abbbbb'>"
            ]
          },
          "execution_count": 16,
          "metadata": {},
          "output_type": "execute_result"
        }
      ],
      "source": [
        "find_pattern('abbbbbbc','ab{3,5}')"
      ]
    },
    {
      "cell_type": "code",
      "execution_count": null,
      "id": "d704db14",
      "metadata": {
        "id": "d704db14",
        "outputId": "9398bbdb-f5a3-4a91-aa1c-d6ae41d2426d"
      },
      "outputs": [
        {
          "data": {
            "text/plain": [
              "'not found !'"
            ]
          },
          "execution_count": 17,
          "metadata": {},
          "output_type": "execute_result"
        }
      ],
      "source": [
        "find_pattern('abbbbbbc','ab{7,10}')"
      ]
    },
    {
      "cell_type": "code",
      "execution_count": null,
      "id": "5a52f4f6",
      "metadata": {
        "id": "5a52f4f6",
        "outputId": "6727a278-b82f-42d3-de88-0eaad0c7c195"
      },
      "outputs": [
        {
          "data": {
            "text/plain": [
              "<re.Match object; span=(0, 7), match='abbbbbb'>"
            ]
          },
          "execution_count": 18,
          "metadata": {},
          "output_type": "execute_result"
        }
      ],
      "source": [
        "find_pattern('abbbbbbc','ab{,10}')"
      ]
    },
    {
      "cell_type": "code",
      "execution_count": null,
      "id": "dde44735",
      "metadata": {
        "id": "dde44735",
        "outputId": "48aa6af9-03ab-4f6c-defb-d3226b03e1b8"
      },
      "outputs": [
        {
          "data": {
            "text/plain": [
              "'not found !'"
            ]
          },
          "execution_count": 19,
          "metadata": {},
          "output_type": "execute_result"
        }
      ],
      "source": [
        "find_pattern('abbbbbbc','ab{10,}')"
      ]
    },
    {
      "cell_type": "markdown",
      "id": "c91c167e",
      "metadata": {
        "id": "c91c167e"
      },
      "source": [
        "## Anchors ^"
      ]
    },
    {
      "cell_type": "code",
      "execution_count": null,
      "id": "eb16c6ee",
      "metadata": {
        "id": "eb16c6ee",
        "outputId": "33208758-0bd6-4801-fdab-6dfa7c15e46e"
      },
      "outputs": [
        {
          "data": {
            "text/plain": [
              "<re.Match object; span=(0, 1), match='J'>"
            ]
          },
          "execution_count": 20,
          "metadata": {},
          "output_type": "execute_result"
        }
      ],
      "source": [
        "find_pattern('James','^J')"
      ]
    },
    {
      "cell_type": "code",
      "execution_count": null,
      "id": "c69dcbb1",
      "metadata": {
        "id": "c69dcbb1",
        "outputId": "c5d67103-8b3e-4501-fa3b-67f21d849124"
      },
      "outputs": [
        {
          "data": {
            "text/plain": [
              "'not found !'"
            ]
          },
          "execution_count": 21,
          "metadata": {},
          "output_type": "execute_result"
        }
      ],
      "source": [
        "find_pattern('Pramod','^J')"
      ]
    },
    {
      "cell_type": "code",
      "execution_count": null,
      "id": "e88c2da2",
      "metadata": {
        "id": "e88c2da2",
        "outputId": "58688816-d575-47df-845a-8e37d63b543f"
      },
      "outputs": [
        {
          "data": {
            "text/plain": [
              "'not found !'"
            ]
          },
          "execution_count": 22,
          "metadata": {},
          "output_type": "execute_result"
        }
      ],
      "source": [
        "find_pattern('James','J$')"
      ]
    },
    {
      "cell_type": "code",
      "execution_count": null,
      "id": "7b1603f0",
      "metadata": {
        "id": "7b1603f0",
        "outputId": "98c83bee-4f3b-4cb2-e381-71fc3f42d66c"
      },
      "outputs": [
        {
          "data": {
            "text/plain": [
              "<re.Match object; span=(4, 5), match='s'>"
            ]
          },
          "execution_count": 23,
          "metadata": {},
          "output_type": "execute_result"
        }
      ],
      "source": [
        "find_pattern('James','s$')"
      ]
    },
    {
      "cell_type": "code",
      "execution_count": null,
      "id": "5eef7d1e",
      "metadata": {
        "id": "5eef7d1e",
        "outputId": "367beb57-8291-4061-cd64-09bd4d7d5715"
      },
      "outputs": [
        {
          "data": {
            "text/plain": [
              "True"
            ]
          },
          "execution_count": 24,
          "metadata": {},
          "output_type": "execute_result"
        }
      ],
      "source": [
        "'James'.startswith('J')"
      ]
    },
    {
      "cell_type": "code",
      "execution_count": null,
      "id": "1283541e",
      "metadata": {
        "id": "1283541e",
        "outputId": "efae02a5-096d-4661-ec29-d8d36200bd6e"
      },
      "outputs": [
        {
          "data": {
            "text/plain": [
              "False"
            ]
          },
          "execution_count": 25,
          "metadata": {},
          "output_type": "execute_result"
        }
      ],
      "source": [
        "'James'.startswith('j')"
      ]
    },
    {
      "cell_type": "code",
      "execution_count": null,
      "id": "438d95fc",
      "metadata": {
        "id": "438d95fc",
        "outputId": "28d0e5d9-1c31-4a0a-9057-db3e0e8c6376"
      },
      "outputs": [
        {
          "data": {
            "text/plain": [
              "False"
            ]
          },
          "execution_count": 26,
          "metadata": {},
          "output_type": "execute_result"
        }
      ],
      "source": [
        "'James'.startswith('l')"
      ]
    },
    {
      "cell_type": "code",
      "execution_count": null,
      "id": "c8ccb6d4",
      "metadata": {
        "id": "c8ccb6d4",
        "outputId": "19b1cff0-3b9e-448c-83e1-0f3b4cbaa32d"
      },
      "outputs": [
        {
          "data": {
            "text/plain": [
              "False"
            ]
          },
          "execution_count": 27,
          "metadata": {},
          "output_type": "execute_result"
        }
      ],
      "source": [
        "'James'.endswith('j')"
      ]
    },
    {
      "cell_type": "code",
      "execution_count": null,
      "id": "295e139b",
      "metadata": {
        "id": "295e139b",
        "outputId": "11211413-416e-4d7a-a32b-1ff7bd60fb84"
      },
      "outputs": [
        {
          "data": {
            "text/plain": [
              "True"
            ]
          },
          "execution_count": 28,
          "metadata": {},
          "output_type": "execute_result"
        }
      ],
      "source": [
        "'James'.endswith('s')"
      ]
    },
    {
      "cell_type": "code",
      "execution_count": null,
      "id": "1fc75e33",
      "metadata": {
        "id": "1fc75e33"
      },
      "outputs": [],
      "source": []
    },
    {
      "cell_type": "markdown",
      "id": "111634f1",
      "metadata": {
        "id": "111634f1"
      },
      "source": [
        "# Wildcard"
      ]
    },
    {
      "cell_type": "markdown",
      "id": "c5c4da25",
      "metadata": {
        "id": "c5c4da25"
      },
      "source": [
        "##  .  dot   any character"
      ]
    },
    {
      "cell_type": "code",
      "execution_count": null,
      "id": "9b1eda89",
      "metadata": {
        "id": "9b1eda89",
        "outputId": "5c896ed4-2e50-4842-9a8a-ed99676c5083"
      },
      "outputs": [
        {
          "data": {
            "text/plain": [
              "<re.Match object; span=(0, 1), match='J'>"
            ]
          },
          "execution_count": 29,
          "metadata": {},
          "output_type": "execute_result"
        }
      ],
      "source": [
        "find_pattern('James','.')"
      ]
    },
    {
      "cell_type": "code",
      "execution_count": null,
      "id": "701aabf0",
      "metadata": {
        "id": "701aabf0",
        "outputId": "ec3144d6-b913-4640-b25a-858ad3bbbd61"
      },
      "outputs": [
        {
          "data": {
            "text/plain": [
              "<re.Match object; span=(0, 1), match='k'>"
            ]
          },
          "execution_count": 30,
          "metadata": {},
          "output_type": "execute_result"
        }
      ],
      "source": [
        "find_pattern('kja679','.')"
      ]
    },
    {
      "cell_type": "code",
      "execution_count": null,
      "id": "e5bdc1dc",
      "metadata": {
        "id": "e5bdc1dc"
      },
      "outputs": [],
      "source": []
    },
    {
      "cell_type": "code",
      "execution_count": null,
      "id": "57434ca1",
      "metadata": {
        "id": "57434ca1",
        "outputId": "e3382996-f356-416f-8496-00b1a80a658f"
      },
      "outputs": [
        {
          "data": {
            "text/plain": [
              "<re.Match object; span=(0, 1), match='a'>"
            ]
          },
          "execution_count": 39,
          "metadata": {},
          "output_type": "execute_result"
        }
      ],
      "source": [
        "find_pattern('a','[abc]') #mentioned character in  list"
      ]
    },
    {
      "cell_type": "code",
      "execution_count": null,
      "id": "358a3889",
      "metadata": {
        "id": "358a3889",
        "outputId": "f5dc7cb8-8d16-45ae-d3dd-ec714a364acd"
      },
      "outputs": [
        {
          "data": {
            "text/plain": [
              "<re.Match object; span=(0, 1), match='c'>"
            ]
          },
          "execution_count": 40,
          "metadata": {},
          "output_type": "execute_result"
        }
      ],
      "source": [
        "find_pattern('c','[a-c]')  #mentioned character in range of list"
      ]
    },
    {
      "cell_type": "code",
      "execution_count": null,
      "id": "06ae0960",
      "metadata": {
        "id": "06ae0960"
      },
      "outputs": [],
      "source": []
    },
    {
      "cell_type": "code",
      "execution_count": null,
      "id": "0d78284b",
      "metadata": {
        "id": "0d78284b",
        "outputId": "7d2a89d8-fc3f-4a0f-f51d-28efd16e94b8"
      },
      "outputs": [
        {
          "data": {
            "text/plain": [
              "'not found !'"
            ]
          },
          "execution_count": 41,
          "metadata": {},
          "output_type": "execute_result"
        }
      ],
      "source": [
        "find_pattern('a','[^abc]')  #other than ^ mentioned  characters"
      ]
    },
    {
      "cell_type": "code",
      "execution_count": null,
      "id": "5fc90681",
      "metadata": {
        "id": "5fc90681",
        "outputId": "dd698d5f-cb2e-4040-e673-b3d48707b5b7"
      },
      "outputs": [
        {
          "data": {
            "text/plain": [
              "'not found !'"
            ]
          },
          "execution_count": 42,
          "metadata": {},
          "output_type": "execute_result"
        }
      ],
      "source": [
        "find_pattern('a','[^a-c]') #other than ^ a_c characters"
      ]
    },
    {
      "cell_type": "code",
      "execution_count": null,
      "id": "aa427c21",
      "metadata": {
        "id": "aa427c21",
        "outputId": "81356b92-7a32-45d9-8849-70419a8dc6b7"
      },
      "outputs": [
        {
          "data": {
            "text/plain": [
              "<re.Match object; span=(0, 1), match='z'>"
            ]
          },
          "execution_count": 44,
          "metadata": {},
          "output_type": "execute_result"
        }
      ],
      "source": [
        "find_pattern('zfrgr','[^a-c]')  #other than ^ a_c characters"
      ]
    },
    {
      "cell_type": "markdown",
      "id": "95c82171",
      "metadata": {
        "id": "95c82171"
      },
      "source": [
        "## pattern                            matches\n",
        "\n",
        "\n",
        "    [abc]            matches either a b and c characters\n",
        "\n",
        "    [abcABC]              matches either a b and c A B and C characters\n",
        "\n",
        "    [a-z]               matches a to z\n",
        "\n",
        "    [A-Z]       matches capital A to Z\n",
        "\n",
        "    [0-9]       matches any number\n",
        "\n",
        "    \\s          [\\t\\n\\v\\f\\r]\n",
        "    \n",
        "    \\S          [^\\t\\n\\v\\f\\r]\n",
        "\n",
        "\n",
        "    \\d          [0-9]\n",
        "    \n",
        "    \\D          [^0-9]\n",
        "\n",
        "    \\w          [a-zA-Z0-9]\n",
        "\n",
        "    \\W          [^a-zA-Z0-9]"
      ]
    },
    {
      "cell_type": "markdown",
      "id": "62d7b20b",
      "metadata": {
        "id": "62d7b20b"
      },
      "source": [
        "* re.match()  determine if re matches at begining of string\n",
        "\n",
        "* re.search  scan trough the string and looking for any location where this re matches\n",
        "\n",
        "* re.finall() Find all the substring where re matches and return them as list\n",
        "\n",
        "* re.finditer  Find all the substring where re matches and return them as an iterator\n",
        "\n",
        "* re.sub()      ind all the substring where re matches and substitute them with given string"
      ]
    },
    {
      "cell_type": "code",
      "execution_count": null,
      "id": "23832c2e",
      "metadata": {
        "id": "23832c2e"
      },
      "outputs": [],
      "source": [
        "def match_pattern(text,pattern):\n",
        "    if re.match(pattern,text):\n",
        "        return re.match(pattern,text)\n",
        "    else:\n",
        "        return 'not found !'"
      ]
    },
    {
      "cell_type": "code",
      "execution_count": null,
      "id": "abfa4935",
      "metadata": {
        "id": "abfa4935",
        "outputId": "501b3307-b2ff-48e0-c20c-950883779a64"
      },
      "outputs": [
        {
          "data": {
            "text/plain": [
              "'not found !'"
            ]
          },
          "execution_count": 50,
          "metadata": {},
          "output_type": "execute_result"
        }
      ],
      "source": [
        "match_pattern('abbc','b+') # begining string and quantifier"
      ]
    },
    {
      "cell_type": "code",
      "execution_count": null,
      "id": "9f3dc947",
      "metadata": {
        "id": "9f3dc947",
        "outputId": "53fd02b6-b519-45a7-bf74-bee3cea8e991"
      },
      "outputs": [
        {
          "data": {
            "text/plain": [
              "<re.Match object; span=(1, 3), match='bb'>"
            ]
          },
          "execution_count": 51,
          "metadata": {},
          "output_type": "execute_result"
        }
      ],
      "source": [
        "find_pattern('abbc','b+')"
      ]
    },
    {
      "cell_type": "code",
      "execution_count": null,
      "id": "90d50294",
      "metadata": {
        "id": "90d50294",
        "outputId": "5ba2e363-1c06-4c8c-eb2a-c27b9669f7ba"
      },
      "outputs": [
        {
          "data": {
            "text/plain": [
              "<re.Match object; span=(0, 3), match='bbb'>"
            ]
          },
          "execution_count": 52,
          "metadata": {},
          "output_type": "execute_result"
        }
      ],
      "source": [
        "match_pattern('bbbcbfgf','b+')"
      ]
    },
    {
      "cell_type": "markdown",
      "id": "2ef6d28c",
      "metadata": {
        "id": "2ef6d28c"
      },
      "source": [
        "# Substitute re.sub()"
      ]
    },
    {
      "cell_type": "code",
      "execution_count": null,
      "id": "812524d3",
      "metadata": {
        "id": "812524d3",
        "outputId": "e5327987-97d9-491a-da6c-cd8174f0a578"
      },
      "outputs": [
        {
          "name": "stdout",
          "output_type": "stream",
          "text": [
            "21 ramkrishna rd\n"
          ]
        }
      ],
      "source": [
        "text='21 ramkrishna road'\n",
        "print(re.sub('road','rd',text))"
      ]
    },
    {
      "cell_type": "code",
      "execution_count": null,
      "id": "1b23c942",
      "metadata": {
        "id": "1b23c942",
        "outputId": "88a6066a-5035-4f9e-8245-54479585c81d"
      },
      "outputs": [
        {
          "name": "stdout",
          "output_type": "stream",
          "text": [
            " my nae is hgt rd\n"
          ]
        }
      ],
      "source": [
        "text=' my nae is hgt html'\n",
        "print(re.sub('html','rd',text))"
      ]
    },
    {
      "cell_type": "code",
      "execution_count": null,
      "id": "26d5a31f",
      "metadata": {
        "id": "26d5a31f",
        "outputId": "0034b04f-7c8f-48c3-e48c-f1c9288dc39d"
      },
      "outputs": [
        {
          "name": "stdout",
          "output_type": "stream",
          "text": [
            "21 Ramkrishna Road\n"
          ]
        }
      ],
      "source": [
        "text='21 Ramkrishna Road'\n",
        "print(re.sub('road','rd',text))"
      ]
    },
    {
      "cell_type": "code",
      "execution_count": null,
      "id": "3e31874f",
      "metadata": {
        "id": "3e31874f",
        "outputId": "1b1e0903-45a6-4918-dd5c-ffe989916377"
      },
      "outputs": [
        {
          "name": "stdout",
          "output_type": "stream",
          "text": [
            "21 rd rd\n"
          ]
        }
      ],
      "source": [
        "text='21 ramkrishna road'\n",
        "print(re.sub('r\\w+','rd',text))"
      ]
    },
    {
      "cell_type": "code",
      "execution_count": null,
      "id": "7d7f5e99",
      "metadata": {
        "id": "7d7f5e99",
        "outputId": "9fa1019f-c5e1-4df9-e0e6-d68cfd04dc8a"
      },
      "outputs": [
        {
          "name": "stdout",
          "output_type": "stream",
          "text": [
            "21 rdmkrdshna rdad\n"
          ]
        }
      ],
      "source": [
        "text='21 ramkrishna road'\n",
        "print(re.sub('r\\w','rd',text))"
      ]
    },
    {
      "cell_type": "markdown",
      "id": "ff5465b3",
      "metadata": {
        "id": "ff5465b3"
      },
      "source": [
        "# re.findall()"
      ]
    },
    {
      "cell_type": "code",
      "execution_count": null,
      "id": "1292648d",
      "metadata": {
        "id": "1292648d",
        "outputId": "a75b5ac8-3132-448e-c705-9a961b7a7286"
      },
      "outputs": [
        {
          "data": {
            "text/plain": [
              "['45', '414001']"
            ]
          },
          "execution_count": 75,
          "metadata": {},
          "output_type": "execute_result"
        }
      ],
      "source": [
        "pattern='[0-9]+'\n",
        "text=' House no. 45, unique park , pune 414001 '\n",
        "re.findall(pattern,text)"
      ]
    },
    {
      "cell_type": "code",
      "execution_count": null,
      "id": "eed14940",
      "metadata": {
        "id": "eed14940",
        "outputId": "ad917b01-c0f4-4eac-b212-ec86865477a2"
      },
      "outputs": [
        {
          "data": {
            "text/plain": [
              "['45', '414001']"
            ]
          },
          "execution_count": 76,
          "metadata": {},
          "output_type": "execute_result"
        }
      ],
      "source": [
        "pattern1='[0-9]'\n",
        "text1=' House no. 45, unique park , pune 414001 '\n",
        "re.findall(pattern,text)"
      ]
    },
    {
      "cell_type": "code",
      "execution_count": null,
      "id": "4dc6c6ff",
      "metadata": {
        "id": "4dc6c6ff"
      },
      "outputs": [],
      "source": []
    },
    {
      "cell_type": "code",
      "execution_count": null,
      "id": "6919e4c0",
      "metadata": {
        "id": "6919e4c0",
        "outputId": "8eb0ce43-b375-4124-9a71-f4d6b8df6d25"
      },
      "outputs": [
        {
          "data": {
            "text/plain": [
              "'45'"
            ]
          },
          "execution_count": 78,
          "metadata": {},
          "output_type": "execute_result"
        }
      ],
      "source": [
        "pattern='[0-9]+'\n",
        "text=' House no. 45, unique park , pune 414001 '\n",
        "match=re.search(pattern,text)\n",
        "match.group()"
      ]
    },
    {
      "cell_type": "code",
      "execution_count": null,
      "id": "9ec76c97",
      "metadata": {
        "id": "9ec76c97",
        "outputId": "4f080c6c-a612-413b-8ca2-4622bcda937b"
      },
      "outputs": [
        {
          "data": {
            "text/plain": [
              "' House no. numbers, unique park , pune numbers '"
            ]
          },
          "execution_count": 80,
          "metadata": {},
          "output_type": "execute_result"
        }
      ],
      "source": [
        "pattern='[0-9]+'\n",
        "text=' House no. 45, unique park , pune 414001 '\n",
        "re.sub(pattern,'numbers',text)"
      ]
    },
    {
      "cell_type": "code",
      "execution_count": null,
      "id": "af6cca83",
      "metadata": {
        "id": "af6cca83",
        "outputId": "c7fbd309-12dc-4653-dc5a-08e1713dbb2a"
      },
      "outputs": [
        {
          "data": {
            "text/plain": [
              "'H'"
            ]
          },
          "execution_count": 88,
          "metadata": {},
          "output_type": "execute_result"
        }
      ],
      "source": [
        "pattern='[^0-9]'\n",
        "text='House no. 45, unique park , pune 414001 '\n",
        "match1=re.match(pattern,text)\n",
        "match1.group()"
      ]
    },
    {
      "cell_type": "code",
      "execution_count": null,
      "id": "c72da082",
      "metadata": {
        "id": "c72da082",
        "outputId": "843f84eb-94a4-433e-9650-e00af8be6df1"
      },
      "outputs": [
        {
          "name": "stdout",
          "output_type": "stream",
          "text": [
            "START :  12END :  20\n",
            "START :  42END :  50\n"
          ]
        }
      ],
      "source": [
        "text='Diwali is a festival of light , Holi is a festival of colors'\n",
        "pattern='festival'\n",
        "\n",
        "for match in re.finditer(pattern,text):\n",
        "    print('START : ',match.start(),end='')\n",
        "    print('END : ',match.end())"
      ]
    },
    {
      "cell_type": "code",
      "execution_count": null,
      "id": "d75e1c59",
      "metadata": {
        "id": "d75e1c59"
      },
      "outputs": [],
      "source": []
    }
  ],
  "metadata": {
    "kernelspec": {
      "display_name": "Python 3 (ipykernel)",
      "language": "python",
      "name": "python3"
    },
    "language_info": {
      "codemirror_mode": {
        "name": "ipython",
        "version": 3
      },
      "file_extension": ".py",
      "mimetype": "text/x-python",
      "name": "python",
      "nbconvert_exporter": "python",
      "pygments_lexer": "ipython3",
      "version": "3.9.7"
    },
    "colab": {
      "provenance": []
    }
  },
  "nbformat": 4,
  "nbformat_minor": 5
}