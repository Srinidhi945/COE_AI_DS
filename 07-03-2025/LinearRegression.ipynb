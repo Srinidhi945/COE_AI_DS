{
 "cells": [
  {
   "cell_type": "code",
   "execution_count": 3,
   "id": "7d5028b1",
   "metadata": {},
   "outputs": [
    {
     "name": "stdout",
     "output_type": "stream",
     "text": [
      "Mean of x: 3.0\n",
      "Mean of y: 3.6\n"
     ]
    }
   ],
   "source": [
    "import numpy as np\n",
    "\n",
    "x = [1, 2, 3, 4, 5]\n",
    "y = [3, 4, 2, 4, 5]\n",
    "\n",
    "x_mean = np.mean(x)\n",
    "y_mean = np.mean(y)\n",
    "\n",
    "print(\"Mean of x:\", x_mean)\n",
    "print(\"Mean of y:\", y_mean)"
   ]
  },
  {
   "cell_type": "code",
   "execution_count": 9,
   "id": "1269c6f6",
   "metadata": {},
   "outputs": [
    {
     "data": {
      "text/plain": [
       "array([-0.6,  0.4, -1.6,  0.4,  1.4])"
      ]
     },
     "execution_count": 9,
     "metadata": {},
     "output_type": "execute_result"
    }
   ],
   "source": [
    "#line equation= y=mx+c\n",
    "#3.6=m*3.0+c\n",
    "\n",
    "y2 = y-y_mean\n",
    "y2"
   ]
  },
  {
   "cell_type": "code",
   "execution_count": 19,
   "id": "b534a9c1",
   "metadata": {},
   "outputs": [
    {
     "data": {
      "text/plain": [
       "array([-2., -1.,  0.,  1.,  2.])"
      ]
     },
     "execution_count": 19,
     "metadata": {},
     "output_type": "execute_result"
    }
   ],
   "source": [
    "x2=x-x_mean\n",
    "x2"
   ]
  },
  {
   "cell_type": "code",
   "execution_count": 12,
   "id": "6789d459",
   "metadata": {},
   "outputs": [
    {
     "data": {
      "text/plain": [
       "array([0.36, 0.16, 2.56, 0.16, 1.96])"
      ]
     },
     "execution_count": 12,
     "metadata": {},
     "output_type": "execute_result"
    }
   ],
   "source": [
    "y_square= (y2)**2\n",
    "y_square"
   ]
  },
  {
   "cell_type": "code",
   "execution_count": 13,
   "id": "c0ce4b83",
   "metadata": {},
   "outputs": [
    {
     "data": {
      "text/plain": [
       "[2.8, 3.2, 3.6, 4.0, 4.4]"
      ]
     },
     "execution_count": 13,
     "metadata": {},
     "output_type": "execute_result"
    }
   ],
   "source": [
    "yp=[2.8,3.2,3.6,4.0,4.4]\n",
    "yp"
   ]
  },
  {
   "cell_type": "code",
   "execution_count": 17,
   "id": "ebdd7994",
   "metadata": {},
   "outputs": [
    {
     "data": {
      "text/plain": [
       "array([-0.8, -0.4,  0. ,  0.4,  0.8])"
      ]
     },
     "execution_count": 17,
     "metadata": {},
     "output_type": "execute_result"
    }
   ],
   "source": [
    "e=yp-y_mean\n",
    "e"
   ]
  },
  {
   "cell_type": "code",
   "execution_count": 18,
   "id": "3fcdce03",
   "metadata": {},
   "outputs": [
    {
     "data": {
      "text/plain": [
       "array([0.64, 0.16, 0.  , 0.16, 0.64])"
      ]
     },
     "execution_count": 18,
     "metadata": {},
     "output_type": "execute_result"
    }
   ],
   "source": [
    "e_square=e**2\n",
    "e_square"
   ]
  },
  {
   "cell_type": "code",
   "execution_count": 23,
   "id": "8f23287f",
   "metadata": {},
   "outputs": [
    {
     "data": {
      "text/plain": [
       "array([ 1.2, -0.4, -0. ,  0.4,  2.8])"
      ]
     },
     "execution_count": 23,
     "metadata": {},
     "output_type": "execute_result"
    }
   ],
   "source": [
    "mul=x2*y2\n",
    "mul"
   ]
  },
  {
   "cell_type": "code",
   "execution_count": 25,
   "id": "083696ca",
   "metadata": {},
   "outputs": [
    {
     "data": {
      "text/plain": [
       "4.0"
      ]
     },
     "execution_count": 25,
     "metadata": {},
     "output_type": "execute_result"
    }
   ],
   "source": [
    "mul_sum=np.sum(mul)\n",
    "mul_sum"
   ]
  },
  {
   "cell_type": "code",
   "execution_count": 26,
   "id": "739daefc",
   "metadata": {},
   "outputs": [
    {
     "data": {
      "text/plain": [
       "array([4., 1., 0., 1., 4.])"
      ]
     },
     "execution_count": 26,
     "metadata": {},
     "output_type": "execute_result"
    }
   ],
   "source": [
    "x2_sqr=x2**2\n",
    "x2_sqr"
   ]
  },
  {
   "cell_type": "code",
   "execution_count": 27,
   "id": "1c60d8db",
   "metadata": {},
   "outputs": [
    {
     "data": {
      "text/plain": [
       "10.0"
      ]
     },
     "execution_count": 27,
     "metadata": {},
     "output_type": "execute_result"
    }
   ],
   "source": [
    "x2_d=np.sum(x2_sqr)\n",
    "x2_d"
   ]
  },
  {
   "cell_type": "code",
   "execution_count": 31,
   "id": "b74026ec",
   "metadata": {},
   "outputs": [
    {
     "name": "stdout",
     "output_type": "stream",
     "text": [
      "mean: 0.4\n"
     ]
    }
   ],
   "source": [
    "m=mul_sum /x2_d\n",
    "print(\"mean:\",m)"
   ]
  },
  {
   "cell_type": "code",
   "execution_count": 30,
   "id": "9dba84bc",
   "metadata": {},
   "outputs": [
    {
     "data": {
      "text/plain": [
       "2.4"
      ]
     },
     "execution_count": 30,
     "metadata": {},
     "output_type": "execute_result"
    }
   ],
   "source": [
    "#line eqn= y=mx+c\n",
    "#c=y-mx\n",
    "#3.6= 0.4 * 3.0 +c\n",
    "c=y_mean-(m*x_mean)\n",
    "c"
   ]
  },
  {
   "cell_type": "code",
   "execution_count": 42,
   "id": "45578d48",
   "metadata": {},
   "outputs": [
    {
     "name": "stdout",
     "output_type": "stream",
     "text": [
      "y_p: [2.8, 3.2, 3.6, 4.0, 4.4]\n"
     ]
    }
   ],
   "source": [
    "#final line equation :\n",
    "#y=0.4x+2.4\n",
    "x_new = [1,2,3,4,5]\n",
    "x_1 = [x * 0.4 for x in x_new]\n",
    "y_p = [x + 2.4 for x in x_1]\n",
    "print(\"y_p:\", y_p)\n"
   ]
  },
  {
   "cell_type": "code",
   "execution_count": null,
   "id": "f08d8799",
   "metadata": {},
   "outputs": [],
   "source": []
  },
  {
   "cell_type": "code",
   "execution_count": null,
   "id": "290e4d2f",
   "metadata": {},
   "outputs": [],
   "source": []
  },
  {
   "cell_type": "code",
   "execution_count": 34,
   "id": "b85bba58",
   "metadata": {},
   "outputs": [
    {
     "name": "stdout",
     "output_type": "stream",
     "text": [
      "Slope (m): 0.4\n",
      "Intercept (c): 2.4\n",
      "Equation of the line: y = 0.4x + 2.4\n"
     ]
    }
   ],
   "source": [
    "import numpy as np\n",
    "\n",
    "def compute_line_equation(x, y):\n",
    "    x_mean = np.mean(x)\n",
    "    y_mean = np.mean(y)\n",
    "    y2 = y - y_mean\n",
    "    x2 = x - x_mean\n",
    "    y_square = y2 ** 2\n",
    "    x_square = x2 ** 2\n",
    "    mul = x2 * y2\n",
    "    mul_sum = np.sum(mul)\n",
    "    x2_sqr = np.sum(x_square)\n",
    "    m = mul_sum / x2_sqr\n",
    "    c = y_mean - (m * x_mean)\n",
    "    return m, c, f\"y = {m}x + {c}\"\n",
    "\n",
    "x = [1, 2, 3, 4, 5]\n",
    "y = [3, 4, 2, 4, 5]\n",
    "\n",
    "m, c, line_eqn = compute_line_equation(x, y)\n",
    "\n",
    "print(\"Slope (m):\", m)\n",
    "print(\"Intercept (c):\", c)\n",
    "print(\"Equation of the line:\", line_eqn)\n"
   ]
  },
  {
   "cell_type": "code",
   "execution_count": 46,
   "id": "c2e43f7f",
   "metadata": {},
   "outputs": [
    {
     "name": "stdout",
     "output_type": "stream",
     "text": [
      "Equation of the line: y = 0.4x + 2.4\n",
      "Predictions for x = [1, 2, 3, 4, 5]: y = [2.8 3.2 3.6 4.  4.4]\n"
     ]
    }
   ],
   "source": [
    "import numpy as np\n",
    "\n",
    "def compute_line_equation(x, y):\n",
    "    x_mean = np.mean(x)\n",
    "    y_mean = np.mean(y)\n",
    "    y2 = y - y_mean\n",
    "    x2 = x - x_mean\n",
    "    mul = x2 * y2\n",
    "    mul_sum = np.sum(mul)\n",
    "    x2_sqr = np.sum(x2 ** 2)\n",
    "    m = mul_sum / x2_sqr\n",
    "    c = y_mean - (m * x_mean)\n",
    "    return m, c\n",
    "\n",
    "def predict(x_values, m, c):\n",
    "    return m * np.array(x_values) + c\n",
    "\n",
    "x = [1, 2, 3, 4, 5]\n",
    "y = [3, 4, 2, 4, 5]\n",
    "\n",
    "m, c = compute_line_equation(x, y)\n",
    "\n",
    "print(f\"Equation of the line: y = {m}x + {c}\")\n",
    "\n",
    "x_new = [1,2,3,4,5]\n",
    "y_p = predict(x_new, m, c)\n",
    "\n",
    "print(f\"Predictions for x = {x_new}: y = {y_p}\")\n",
    "\n"
   ]
  },
  {
   "cell_type": "code",
   "execution_count": 49,
   "id": "f7cd8ee9",
   "metadata": {},
   "outputs": [
    {
     "name": "stdout",
     "output_type": "stream",
     "text": [
      "R-squared: 0.3076923076923078\n"
     ]
    }
   ],
   "source": [
    "#r-squared\n",
    "\n",
    "def r2(y_p, y_a):\n",
    "    y_mean = np.mean(y_a)\n",
    "    ss_total = np.sum((y_a - y_mean) ** 2)\n",
    "    ss_residual = np.sum((y_a - y_p) ** 2)\n",
    "    return 1 - (ss_residual / ss_total)\n",
    "\n",
    "\n",
    "r_squared = r2(y_p, y)\n",
    "print(f\"R-squared: {r_squared}\")"
   ]
  },
  {
   "cell_type": "code",
   "execution_count": 48,
   "id": "896e9216",
   "metadata": {},
   "outputs": [
    {
     "name": "stdout",
     "output_type": "stream",
     "text": [
      "Equation of the line: y = 0.4x + 2.4\n",
      "Predictions for x = [1, 2, 3, 4, 5]: y = [2.8 3.2 3.6 4.  4.4]\n",
      "R-squared: 0.3076923076923078\n"
     ]
    }
   ],
   "source": [
    "import numpy as np\n",
    "\n",
    "def compute_line_equation(x, y):\n",
    "    x_mean = np.mean(x)\n",
    "    y_mean = np.mean(y)\n",
    "    y2 = y - y_mean\n",
    "    x2 = x - x_mean\n",
    "    mul = x2 * y2\n",
    "    mul_sum = np.sum(mul)\n",
    "    x2_sqr = np.sum(x2 ** 2)\n",
    "    m = mul_sum / x2_sqr\n",
    "    c = y_mean - (m * x_mean)\n",
    "    return m, c\n",
    "\n",
    "def predict(x_values, m, c):\n",
    "    return m * np.array(x_values) + c\n",
    "\n",
    "def r2(y_p, y_true):\n",
    "    y_mean = np.mean(y_true)\n",
    "    ss_total = np.sum((y_true - y_mean) ** 2)\n",
    "    ss_residual = np.sum((y_true - y_p) ** 2)\n",
    "    return 1 - (ss_residual / ss_total)\n",
    "\n",
    "x = [1, 2, 3, 4, 5]\n",
    "y = [3, 4, 2, 4, 5]\n",
    "\n",
    "m, c = compute_line_equation(x, y)\n",
    "\n",
    "print(f\"Equation of the line: y = {m}x + {c}\")\n",
    "\n",
    "x_new = [1, 2, 3, 4, 5]\n",
    "y_p = predict(x_new, m, c)\n",
    "\n",
    "print(f\"Predictions for x = {x_new}: y = {y_p}\")\n",
    "\n",
    "r_squared = r2(y_p, y)\n",
    "print(f\"R-squared: {r_squared}\")\n"
   ]
  },
  {
   "cell_type": "code",
   "execution_count": null,
   "id": "186084c1",
   "metadata": {},
   "outputs": [],
   "source": []
  }
 ],
 "metadata": {
  "kernelspec": {
   "display_name": "Python 3 (ipykernel)",
   "language": "python",
   "name": "python3"
  },
  "language_info": {
   "codemirror_mode": {
    "name": "ipython",
    "version": 3
   },
   "file_extension": ".py",
   "mimetype": "text/x-python",
   "name": "python",
   "nbconvert_exporter": "python",
   "pygments_lexer": "ipython3",
   "version": "3.11.5"
  }
 },
 "nbformat": 4,
 "nbformat_minor": 5
}
