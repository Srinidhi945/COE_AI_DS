{
  "nbformat": 4,
  "nbformat_minor": 0,
  "metadata": {
    "colab": {
      "provenance": [],
      "authorship_tag": "ABX9TyOSJ4r3EQGvdr50aWc/R2sD"
    },
    "kernelspec": {
      "name": "python3",
      "display_name": "Python 3"
    },
    "language_info": {
      "name": "python"
    }
  },
  "cells": [
    {
      "cell_type": "code",
      "execution_count": null,
      "metadata": {
        "colab": {
          "base_uri": "https://localhost:8080/"
        },
        "id": "UrY24WskhhYx",
        "outputId": "1f5927db-c6e9-4f38-8ea4-072e4bc85660"
      },
      "outputs": [
        {
          "output_type": "stream",
          "name": "stderr",
          "text": [
            "[nltk_data] Downloading package punkt_tab to /root/nltk_data...\n",
            "[nltk_data]   Unzipping tokenizers/punkt_tab.zip.\n"
          ]
        },
        {
          "output_type": "execute_result",
          "data": {
            "text/plain": [
              "True"
            ]
          },
          "metadata": {},
          "execution_count": 1
        }
      ],
      "source": [
        "import nltk\n",
        "nltk.download('punkt_tab')"
      ]
    },
    {
      "cell_type": "code",
      "source": [
        "from nltk.tokenize import word_tokenize, sent_tokenize\n",
        "from nltk.corpus import stopwords\n",
        "from nltk.stem import WordNetLemmatizer,PorterStemmer\n",
        "\n",
        "nltk.download('stopwords')\n",
        "nltk.download('wordnet')"
      ],
      "metadata": {
        "colab": {
          "base_uri": "https://localhost:8080/"
        },
        "id": "tVmQo-JIh5pY",
        "outputId": "eb86f818-9ab5-401c-e234-9962db7b9350"
      },
      "execution_count": null,
      "outputs": [
        {
          "output_type": "stream",
          "name": "stderr",
          "text": [
            "[nltk_data] Downloading package stopwords to /root/nltk_data...\n",
            "[nltk_data]   Unzipping corpora/stopwords.zip.\n",
            "[nltk_data] Downloading package wordnet to /root/nltk_data...\n"
          ]
        },
        {
          "output_type": "execute_result",
          "data": {
            "text/plain": [
              "True"
            ]
          },
          "metadata": {},
          "execution_count": 2
        }
      ]
    },
    {
      "cell_type": "code",
      "source": [
        "para=\"\"\"The silence in the aftermath was heavier than any sound, a profound stillness that swallowed the distant sirens and the faint cries of emergency. Each shard of broken glass, each twisted piece of metal, told a fragmented story of a sudden, brutal rupture. In that moment, the fragile veneer of normalcy peeled back, revealing the raw, unpredictable chaos that always lay just beneath the surface of meticulously constructed order, leaving behind only the chilling question of how to rebuild, not just structures, but trust itself.\"\"\""
      ],
      "metadata": {
        "id": "2UtEQ8JziIAW"
      },
      "execution_count": null,
      "outputs": []
    },
    {
      "cell_type": "code",
      "source": [
        "print(para)"
      ],
      "metadata": {
        "colab": {
          "base_uri": "https://localhost:8080/"
        },
        "id": "wvIk2eUkiRsO",
        "outputId": "9c8c9c1d-3fd0-4c3d-c3e2-b02b3c0c0e19"
      },
      "execution_count": null,
      "outputs": [
        {
          "output_type": "stream",
          "name": "stdout",
          "text": [
            "The silence in the aftermath was heavier than any sound, a profound stillness that swallowed the distant sirens and the faint cries of emergency. Each shard of broken glass, each twisted piece of metal, told a fragmented story of a sudden, brutal rupture. In that moment, the fragile veneer of normalcy peeled back, revealing the raw, unpredictable chaos that always lay just beneath the surface of meticulously constructed order, leaving behind only the chilling question of how to rebuild, not just structures, but trust itself.\n"
          ]
        }
      ]
    },
    {
      "cell_type": "code",
      "source": [
        "sentences=sent_tokenize(para)"
      ],
      "metadata": {
        "id": "cRz92P2OiSy2"
      },
      "execution_count": null,
      "outputs": []
    },
    {
      "cell_type": "code",
      "source": [
        "print(sentences)"
      ],
      "metadata": {
        "colab": {
          "base_uri": "https://localhost:8080/"
        },
        "id": "yMFvp1iKiWQu",
        "outputId": "2d2719e2-6734-4207-b197-163a8e468b1e"
      },
      "execution_count": null,
      "outputs": [
        {
          "output_type": "stream",
          "name": "stdout",
          "text": [
            "['The silence in the aftermath was heavier than any sound, a profound stillness that swallowed the distant sirens and the faint cries of emergency.', 'Each shard of broken glass, each twisted piece of metal, told a fragmented story of a sudden, brutal rupture.', 'In that moment, the fragile veneer of normalcy peeled back, revealing the raw, unpredictable chaos that always lay just beneath the surface of meticulously constructed order, leaving behind only the chilling question of how to rebuild, not just structures, but trust itself.']\n"
          ]
        }
      ]
    },
    {
      "cell_type": "code",
      "source": [
        "len(sentences)"
      ],
      "metadata": {
        "colab": {
          "base_uri": "https://localhost:8080/"
        },
        "id": "vau6YVpSiYiW",
        "outputId": "8a9e9b9d-a0b9-4648-b3ca-7062832118d8"
      },
      "execution_count": null,
      "outputs": [
        {
          "output_type": "execute_result",
          "data": {
            "text/plain": [
              "3"
            ]
          },
          "metadata": {},
          "execution_count": 7
        }
      ]
    },
    {
      "cell_type": "code",
      "source": [
        "import re"
      ],
      "metadata": {
        "id": "a4S_KOlxiaCu"
      },
      "execution_count": null,
      "outputs": []
    },
    {
      "cell_type": "code",
      "source": [
        "corpus=[]\n",
        "for i in range(len(sentences)):\n",
        "  review=re.sub('[^a-zA-Z]',' ',sentences[i])\n",
        "  review=review.lower()\n",
        "  corpus.append(review)"
      ],
      "metadata": {
        "id": "JEXMaLRJibUe"
      },
      "execution_count": null,
      "outputs": []
    },
    {
      "cell_type": "code",
      "source": [
        "corpus"
      ],
      "metadata": {
        "colab": {
          "base_uri": "https://localhost:8080/"
        },
        "id": "Wnoi_n7minFW",
        "outputId": "741f2e92-49c1-49b7-93d2-2f5d1d5b45c2"
      },
      "execution_count": null,
      "outputs": [
        {
          "output_type": "execute_result",
          "data": {
            "text/plain": [
              "['the silence in the aftermath was heavier than any sound  a profound stillness that swallowed the distant sirens and the faint cries of emergency ',\n",
              " 'each shard of broken glass  each twisted piece of metal  told a fragmented story of a sudden  brutal rupture ',\n",
              " 'in that moment  the fragile veneer of normalcy peeled back  revealing the raw  unpredictable chaos that always lay just beneath the surface of meticulously constructed order  leaving behind only the chilling question of how to rebuild  not just structures  but trust itself ']"
            ]
          },
          "metadata": {},
          "execution_count": 10
        }
      ]
    },
    {
      "cell_type": "markdown",
      "source": [
        "#stemming with porter stemmer"
      ],
      "metadata": {
        "id": "bizIycFYiqJ-"
      }
    },
    {
      "cell_type": "code",
      "source": [
        "import nltk\n",
        "from nltk.stem import PorterStemmer,LancasterStemmer,SnowballStemmer"
      ],
      "metadata": {
        "id": "qT0uEvlgioK2"
      },
      "execution_count": null,
      "outputs": []
    },
    {
      "cell_type": "code",
      "source": [
        "port=PorterStemmer()\n",
        "lanc=LancasterStemmer()\n",
        "snow=SnowballStemmer('english')"
      ],
      "metadata": {
        "id": "mbmkxfeDi2FO"
      },
      "execution_count": null,
      "outputs": []
    },
    {
      "cell_type": "code",
      "source": [
        "snow.stem(para)"
      ],
      "metadata": {
        "colab": {
          "base_uri": "https://localhost:8080/",
          "height": 70
        },
        "id": "L44Ie4hUi5nW",
        "outputId": "b6b72e03-808f-44df-db77-aaf96b596fe9"
      },
      "execution_count": null,
      "outputs": [
        {
          "output_type": "execute_result",
          "data": {
            "text/plain": [
              "'the silence in the aftermath was heavier than any sound, a profound stillness that swallowed the distant sirens and the faint cries of emergency. each shard of broken glass, each twisted piece of metal, told a fragmented story of a sudden, brutal rupture. in that moment, the fragile veneer of normalcy peeled back, revealing the raw, unpredictable chaos that always lay just beneath the surface of meticulously constructed order, leaving behind only the chilling question of how to rebuild, not just structures, but trust itself.'"
            ],
            "application/vnd.google.colaboratory.intrinsic+json": {
              "type": "string"
            }
          },
          "metadata": {},
          "execution_count": 13
        }
      ]
    },
    {
      "cell_type": "code",
      "source": [
        "port.stem(para)"
      ],
      "metadata": {
        "colab": {
          "base_uri": "https://localhost:8080/",
          "height": 70
        },
        "id": "Td2SSRYPi68N",
        "outputId": "c1256af8-9ec8-4617-b858-57059d6ea44f"
      },
      "execution_count": null,
      "outputs": [
        {
          "output_type": "execute_result",
          "data": {
            "text/plain": [
              "'the silence in the aftermath was heavier than any sound, a profound stillness that swallowed the distant sirens and the faint cries of emergency. each shard of broken glass, each twisted piece of metal, told a fragmented story of a sudden, brutal rupture. in that moment, the fragile veneer of normalcy peeled back, revealing the raw, unpredictable chaos that always lay just beneath the surface of meticulously constructed order, leaving behind only the chilling question of how to rebuild, not just structures, but trust itself.'"
            ],
            "application/vnd.google.colaboratory.intrinsic+json": {
              "type": "string"
            }
          },
          "metadata": {},
          "execution_count": 14
        }
      ]
    },
    {
      "cell_type": "code",
      "source": [
        "lanc.stem(para)"
      ],
      "metadata": {
        "colab": {
          "base_uri": "https://localhost:8080/",
          "height": 70
        },
        "id": "5R-Ti6t_i9Te",
        "outputId": "8bb2cb12-3a13-4d2c-b567-a36217a5f54c"
      },
      "execution_count": null,
      "outputs": [
        {
          "output_type": "execute_result",
          "data": {
            "text/plain": [
              "'the silence in the aftermath was heavier than any sound, a profound stillness that swallowed the distant sirens and the faint cries of emergency. each shard of broken glass, each twisted piece of metal, told a fragmented story of a sudden, brutal rupture. in that moment, the fragile veneer of normalcy peeled back, revealing the raw, unpredictable chaos that always lay just beneath the surface of meticulously constructed order, leaving behind only the chilling question of how to rebuild, not just structures, but trust itself.'"
            ],
            "application/vnd.google.colaboratory.intrinsic+json": {
              "type": "string"
            }
          },
          "metadata": {},
          "execution_count": 15
        }
      ]
    },
    {
      "cell_type": "code",
      "source": [
        "sentences=sent_tokenize(para)\n",
        "stemmer=PorterStemmer()\n",
        "stopwords=stopwords.words('english')\n",
        "lemmatizer=WordNetLemmatizer()"
      ],
      "metadata": {
        "id": "btEl6ujGi-01"
      },
      "execution_count": null,
      "outputs": []
    },
    {
      "cell_type": "code",
      "source": [
        "from nltk.corpus import stopwords\n",
        "print(stopwords.words('english'))"
      ],
      "metadata": {
        "colab": {
          "base_uri": "https://localhost:8080/"
        },
        "id": "5vQSpw0qi_rY",
        "outputId": "2a824b90-5759-495d-e0d1-c757101a7108"
      },
      "execution_count": null,
      "outputs": [
        {
          "output_type": "stream",
          "name": "stdout",
          "text": [
            "['a', 'about', 'above', 'after', 'again', 'against', 'ain', 'all', 'am', 'an', 'and', 'any', 'are', 'aren', \"aren't\", 'as', 'at', 'be', 'because', 'been', 'before', 'being', 'below', 'between', 'both', 'but', 'by', 'can', 'couldn', \"couldn't\", 'd', 'did', 'didn', \"didn't\", 'do', 'does', 'doesn', \"doesn't\", 'doing', 'don', \"don't\", 'down', 'during', 'each', 'few', 'for', 'from', 'further', 'had', 'hadn', \"hadn't\", 'has', 'hasn', \"hasn't\", 'have', 'haven', \"haven't\", 'having', 'he', \"he'd\", \"he'll\", 'her', 'here', 'hers', 'herself', \"he's\", 'him', 'himself', 'his', 'how', 'i', \"i'd\", 'if', \"i'll\", \"i'm\", 'in', 'into', 'is', 'isn', \"isn't\", 'it', \"it'd\", \"it'll\", \"it's\", 'its', 'itself', \"i've\", 'just', 'll', 'm', 'ma', 'me', 'mightn', \"mightn't\", 'more', 'most', 'mustn', \"mustn't\", 'my', 'myself', 'needn', \"needn't\", 'no', 'nor', 'not', 'now', 'o', 'of', 'off', 'on', 'once', 'only', 'or', 'other', 'our', 'ours', 'ourselves', 'out', 'over', 'own', 're', 's', 'same', 'shan', \"shan't\", 'she', \"she'd\", \"she'll\", \"she's\", 'should', 'shouldn', \"shouldn't\", \"should've\", 'so', 'some', 'such', 't', 'than', 'that', \"that'll\", 'the', 'their', 'theirs', 'them', 'themselves', 'then', 'there', 'these', 'they', \"they'd\", \"they'll\", \"they're\", \"they've\", 'this', 'those', 'through', 'to', 'too', 'under', 'until', 'up', 've', 'very', 'was', 'wasn', \"wasn't\", 'we', \"we'd\", \"we'll\", \"we're\", 'were', 'weren', \"weren't\", \"we've\", 'what', 'when', 'where', 'which', 'while', 'who', 'whom', 'why', 'will', 'with', 'won', \"won't\", 'wouldn', \"wouldn't\", 'y', 'you', \"you'd\", \"you'll\", 'your', \"you're\", 'yours', 'yourself', 'yourselves', \"you've\"]\n"
          ]
        }
      ]
    },
    {
      "cell_type": "code",
      "source": [
        "org_stopwords=list(set(stopwords.words('english')))\n",
        "len(org_stopwords)"
      ],
      "metadata": {
        "colab": {
          "base_uri": "https://localhost:8080/"
        },
        "id": "vnXfRCJei_oG",
        "outputId": "23b05491-12b5-429a-9116-7edfa5a90a31"
      },
      "execution_count": null,
      "outputs": [
        {
          "output_type": "execute_result",
          "data": {
            "text/plain": [
              "198"
            ]
          },
          "metadata": {},
          "execution_count": 18
        }
      ]
    },
    {
      "cell_type": "code",
      "source": [
        "my_stopword=['story','lay','metal']\n",
        "my_stopword"
      ],
      "metadata": {
        "colab": {
          "base_uri": "https://localhost:8080/"
        },
        "id": "obBfmrwSi_k-",
        "outputId": "ad0bf765-cfd1-4402-e9d1-c5e4d486e181"
      },
      "execution_count": null,
      "outputs": [
        {
          "output_type": "execute_result",
          "data": {
            "text/plain": [
              "['story', 'lay', 'metal']"
            ]
          },
          "metadata": {},
          "execution_count": 19
        }
      ]
    },
    {
      "cell_type": "code",
      "source": [
        "new_stop=org_stopwords+my_stopword\n",
        "len(new_stop)"
      ],
      "metadata": {
        "colab": {
          "base_uri": "https://localhost:8080/"
        },
        "id": "lpE9QIOVi_iG",
        "outputId": "c452116b-9917-472a-cc3d-7b54b79ebf2f"
      },
      "execution_count": null,
      "outputs": [
        {
          "output_type": "execute_result",
          "data": {
            "text/plain": [
              "201"
            ]
          },
          "metadata": {},
          "execution_count": 20
        }
      ]
    },
    {
      "cell_type": "code",
      "source": [
        "corpus=[]\n",
        "for i in range(len(sentences)):\n",
        "  review=re.sub('[^a-zA-Z]',' ',sentences[i])\n",
        "  review=review.lower()\n",
        "  review=word_tokenize(review)\n",
        "  review=[stemmer.stem(word) for word in review if word not in set(stopwords.words('english'))]\n",
        "  review=' '.join(review)\n",
        "  corpus.append(review)"
      ],
      "metadata": {
        "id": "hAswa5QNj-xl"
      },
      "execution_count": null,
      "outputs": []
    },
    {
      "cell_type": "code",
      "source": [
        "corpus"
      ],
      "metadata": {
        "colab": {
          "base_uri": "https://localhost:8080/"
        },
        "id": "o2EwEcnnkgTl",
        "outputId": "b1aeca2c-7fbd-4903-e27e-39548ff288c3"
      },
      "execution_count": null,
      "outputs": [
        {
          "output_type": "execute_result",
          "data": {
            "text/plain": [
              "['silenc aftermath heavier sound profound still swallow distant siren faint cri emerg',\n",
              " 'shard broken glass twist piec metal told fragment stori sudden brutal ruptur',\n",
              " 'moment fragil veneer normalci peel back reveal raw unpredict chao alway lay beneath surfac meticul construct order leav behind chill question rebuild structur trust']"
            ]
          },
          "metadata": {},
          "execution_count": 22
        }
      ]
    },
    {
      "cell_type": "markdown",
      "source": [
        "**lemmatization**"
      ],
      "metadata": {
        "id": "9Mbb8_Pjk1o-"
      }
    },
    {
      "cell_type": "code",
      "source": [
        "lemmatizer=WordNetLemmatizer\n",
        "import string"
      ],
      "metadata": {
        "id": "N7t90vnGkj11"
      },
      "execution_count": null,
      "outputs": []
    },
    {
      "cell_type": "code",
      "source": [
        "string.punctuation +'123456789'"
      ],
      "metadata": {
        "colab": {
          "base_uri": "https://localhost:8080/",
          "height": 35
        },
        "id": "qp9GDR3Zk6u_",
        "outputId": "0a2d9a62-9d3c-41e4-f9d8-c2796e4c9c69"
      },
      "execution_count": null,
      "outputs": [
        {
          "output_type": "execute_result",
          "data": {
            "text/plain": [
              "'!\"#$%&\\'()*+,-./:;<=>?@[\\\\]^_`{|}~123456789'"
            ],
            "application/vnd.google.colaboratory.intrinsic+json": {
              "type": "string"
            }
          },
          "metadata": {},
          "execution_count": 24
        }
      ]
    },
    {
      "cell_type": "code",
      "source": [
        "corpus=[]\n",
        "for i in range(len(sentences)):\n",
        "  review=re.sub('[^a-zA-Z]',' ',sentences[i])\n",
        "  review=review.lower()\n",
        "  review=review.split()\n",
        "  review=[word for word in review if word not in string.punctuation]\n",
        "  lemmatizer_instance = lemmatizer()\n",
        "  review=[lemmatizer_instance.lemmatize(word) for word in review if word not in set(stopwords.words('english'))]\n",
        "  review=' '.join(review)\n",
        "  corpus.append(review)"
      ],
      "metadata": {
        "id": "3dSTlOBBk-b1"
      },
      "execution_count": null,
      "outputs": []
    },
    {
      "cell_type": "code",
      "source": [
        "corpus"
      ],
      "metadata": {
        "colab": {
          "base_uri": "https://localhost:8080/"
        },
        "id": "_ZQg2GJElc1O",
        "outputId": "95e87550-50e0-49cc-8b26-35e0538c79f7"
      },
      "execution_count": null,
      "outputs": [
        {
          "output_type": "execute_result",
          "data": {
            "text/plain": [
              "['silence aftermath heavier sound profound stillness swallowed distant siren faint cry emergency',\n",
              " 'shard broken glass twisted piece metal told fragmented story sudden brutal rupture',\n",
              " 'moment fragile veneer normalcy peeled back revealing raw unpredictable chaos always lay beneath surface meticulously constructed order leaving behind chilling question rebuild structure trust']"
            ]
          },
          "metadata": {},
          "execution_count": 27
        }
      ]
    },
    {
      "cell_type": "code",
      "source": [
        "import re"
      ],
      "metadata": {
        "id": "eAALmR84lkmN"
      },
      "execution_count": null,
      "outputs": []
    },
    {
      "cell_type": "code",
      "source": [],
      "metadata": {
        "id": "52a1KsSfllm8"
      },
      "execution_count": null,
      "outputs": []
    }
  ]
}