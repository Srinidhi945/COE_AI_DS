{
 "cells": [
  {
   "cell_type": "markdown",
   "id": "16abb7b2",
   "metadata": {},
   "source": [
    "**What is Feature Selection?**\n",
    " \n",
    "        Feature selection is the process of choosing the most important features (variables) from a dataset to improve a machine learning model's performance and efficiency. Instead of using all the features, we select only the most relevant ones that contribute significantly to predictions."
   ]
  },
  {
   "cell_type": "markdown",
   "id": "dbf99dd0",
   "metadata": {},
   "source": [
    "**Why Do We Need Feature Selection?**\n",
    "\n",
    "*1.Reduces Overfitting 📉*\n",
    " \n",
    "        Too many irrelevant features can make a model complex and cause it to overfit the training data.\n",
    "*2.Improves Model Performance 🚀*\n",
    " \n",
    "        Selecting relevant features boosts accuracy and reduces unnecessary noise in the data.\n",
    "*3.Reduces Training Time ⏳*\n",
    " \n",
    "        Fewer features mean faster model training and lower computational cost.\n",
    "*4.Enhances Interpretability 🔍*\n",
    " \n",
    "        Helps in understanding which features actually impact predictions.\n",
    "\n"
   ]
  },
  {
   "cell_type": "markdown",
   "id": "8e257cbf",
   "metadata": {},
   "source": [
    "**Types of Feature Selection Methods**\n",
    "\n",
    "<ins>*Type => Filter Methods:*</ins>\n",
    " \n",
    "Method => Correlation, Chi-Square, Mutual Information.\n",
    " \n",
    "Description => Rank features based on statistical tests.\n",
    " \n",
    "<ins>*Type => Wrapper Methods:*</ins>\n",
    " \n",
    "Method => Forward/Backward Selection, Recursive Feature Elimination (RFE)\n",
    " \n",
    "Description => Train models with different feature subsets and select the best.\n",
    "\n",
    "<ins>*Type => Embedded Methods*</ins>\n",
    " \n",
    "Method =>Lasso Regression, Decision Trees\n",
    " \n",
    "Description =>Feature selection is built into the model training process.\n",
    " "
   ]
  },
  {
   "cell_type": "code",
   "execution_count": 4,
   "id": "b9a6cbe6",
   "metadata": {},
   "outputs": [],
   "source": [
    "import pandas as pd\n",
    "import numpy as np \n",
    "from sklearn.model_selection import train_test_split\n",
    "from sklearn.ensemble import RandomForestRegressor\n",
    "from sklearn.feature_selection import RFE\n",
    "from sklearn.linear_model import Lasso\n",
    "import seaborn as sns\n",
    "import matplotlib.pyplot as plt"
   ]
  },
  {
   "cell_type": "code",
   "execution_count": 5,
   "id": "da73f98e",
   "metadata": {},
   "outputs": [],
   "source": [
    "#step 1:create a sample dataset\n",
    "np.random.seed(42)\n",
    "data=pd.DataFrame({\n",
    "    'Size':np.random.randint(1000,5000,100),\n",
    "    'Bedrooms':np.random.randint(1,5,100),\n",
    "    'Age':np.random.randint(1,50,100),\n",
    "    'Price':np.random.randint(100000,500000,100)\n",
    "})"
   ]
  },
  {
   "cell_type": "code",
   "execution_count": 6,
   "id": "844eec19",
   "metadata": {},
   "outputs": [
    {
     "data": {
      "text/html": [
       "<div>\n",
       "<style scoped>\n",
       "    .dataframe tbody tr th:only-of-type {\n",
       "        vertical-align: middle;\n",
       "    }\n",
       "\n",
       "    .dataframe tbody tr th {\n",
       "        vertical-align: top;\n",
       "    }\n",
       "\n",
       "    .dataframe thead th {\n",
       "        text-align: right;\n",
       "    }\n",
       "</style>\n",
       "<table border=\"1\" class=\"dataframe\">\n",
       "  <thead>\n",
       "    <tr style=\"text-align: right;\">\n",
       "      <th></th>\n",
       "      <th>Size</th>\n",
       "      <th>Bedrooms</th>\n",
       "      <th>Age</th>\n",
       "      <th>Price</th>\n",
       "    </tr>\n",
       "  </thead>\n",
       "  <tbody>\n",
       "    <tr>\n",
       "      <th>0</th>\n",
       "      <td>4174</td>\n",
       "      <td>2</td>\n",
       "      <td>32</td>\n",
       "      <td>486393</td>\n",
       "    </tr>\n",
       "    <tr>\n",
       "      <th>1</th>\n",
       "      <td>4507</td>\n",
       "      <td>2</td>\n",
       "      <td>39</td>\n",
       "      <td>134754</td>\n",
       "    </tr>\n",
       "    <tr>\n",
       "      <th>2</th>\n",
       "      <td>1860</td>\n",
       "      <td>4</td>\n",
       "      <td>49</td>\n",
       "      <td>326814</td>\n",
       "    </tr>\n",
       "    <tr>\n",
       "      <th>3</th>\n",
       "      <td>2294</td>\n",
       "      <td>2</td>\n",
       "      <td>32</td>\n",
       "      <td>337714</td>\n",
       "    </tr>\n",
       "    <tr>\n",
       "      <th>4</th>\n",
       "      <td>2130</td>\n",
       "      <td>2</td>\n",
       "      <td>4</td>\n",
       "      <td>242483</td>\n",
       "    </tr>\n",
       "  </tbody>\n",
       "</table>\n",
       "</div>"
      ],
      "text/plain": [
       "   Size  Bedrooms  Age   Price\n",
       "0  4174         2   32  486393\n",
       "1  4507         2   39  134754\n",
       "2  1860         4   49  326814\n",
       "3  2294         2   32  337714\n",
       "4  2130         2    4  242483"
      ]
     },
     "execution_count": 6,
     "metadata": {},
     "output_type": "execute_result"
    }
   ],
   "source": [
    "data.head()"
   ]
  },
  {
   "cell_type": "code",
   "execution_count": 7,
   "id": "2048a68f",
   "metadata": {},
   "outputs": [
    {
     "data": {
      "text/html": [
       "<div>\n",
       "<style scoped>\n",
       "    .dataframe tbody tr th:only-of-type {\n",
       "        vertical-align: middle;\n",
       "    }\n",
       "\n",
       "    .dataframe tbody tr th {\n",
       "        vertical-align: top;\n",
       "    }\n",
       "\n",
       "    .dataframe thead th {\n",
       "        text-align: right;\n",
       "    }\n",
       "</style>\n",
       "<table border=\"1\" class=\"dataframe\">\n",
       "  <thead>\n",
       "    <tr style=\"text-align: right;\">\n",
       "      <th></th>\n",
       "      <th>Size</th>\n",
       "      <th>Bedrooms</th>\n",
       "      <th>Age</th>\n",
       "      <th>Price</th>\n",
       "    </tr>\n",
       "  </thead>\n",
       "  <tbody>\n",
       "    <tr>\n",
       "      <th>95</th>\n",
       "      <td>2129</td>\n",
       "      <td>2</td>\n",
       "      <td>16</td>\n",
       "      <td>469599</td>\n",
       "    </tr>\n",
       "    <tr>\n",
       "      <th>96</th>\n",
       "      <td>4843</td>\n",
       "      <td>4</td>\n",
       "      <td>29</td>\n",
       "      <td>236672</td>\n",
       "    </tr>\n",
       "    <tr>\n",
       "      <th>97</th>\n",
       "      <td>4893</td>\n",
       "      <td>1</td>\n",
       "      <td>3</td>\n",
       "      <td>325732</td>\n",
       "    </tr>\n",
       "    <tr>\n",
       "      <th>98</th>\n",
       "      <td>2500</td>\n",
       "      <td>3</td>\n",
       "      <td>20</td>\n",
       "      <td>455323</td>\n",
       "    </tr>\n",
       "    <tr>\n",
       "      <th>99</th>\n",
       "      <td>1702</td>\n",
       "      <td>3</td>\n",
       "      <td>36</td>\n",
       "      <td>271836</td>\n",
       "    </tr>\n",
       "  </tbody>\n",
       "</table>\n",
       "</div>"
      ],
      "text/plain": [
       "    Size  Bedrooms  Age   Price\n",
       "95  2129         2   16  469599\n",
       "96  4843         4   29  236672\n",
       "97  4893         1    3  325732\n",
       "98  2500         3   20  455323\n",
       "99  1702         3   36  271836"
      ]
     },
     "execution_count": 7,
     "metadata": {},
     "output_type": "execute_result"
    }
   ],
   "source": [
    "data.tail()"
   ]
  },
  {
   "cell_type": "markdown",
   "id": "884fcc6d",
   "metadata": {},
   "source": [
    "### filter method"
   ]
  },
  {
   "cell_type": "code",
   "execution_count": 10,
   "id": "e2f04ddd",
   "metadata": {},
   "outputs": [
    {
     "data": {
      "image/png": "[encoded data removed]",
      "text/plain": [
       "<Figure size 600x400 with 2 Axes>"
      ]
     },
     "metadata": {},
     "output_type": "display_data"
    }
   ],
   "source": [
    "#step 2:compute correlation(filter method)\n",
    "plt.figure(figsize=(6,4))\n",
    "sns.heatmap(data.corr(),annot=True,cmap='Blues',fmt='.2f')\n",
    "plt.title(\"Feature Correlation matrix\")\n",
    "plt.show()"
   ]
  },
  {
   "cell_type": "markdown",
   "id": "98f05d67",
   "metadata": {},
   "source": [
    "### Wrapper Method"
   ]
  },
  {
   "cell_type": "code",
   "execution_count": 11,
   "id": "a689cd38",
   "metadata": {},
   "outputs": [
    {
     "name": "stdout",
     "output_type": "stream",
     "text": [
      "Selected Features using RFE : Index(['Size', 'Age'], dtype='object')\n"
     ]
    }
   ],
   "source": [
    "#step 3:apply recursive feature elimination (wrapper method)\n",
    "X=data.drop(columns=['Price'])\n",
    "y=data['Price']\n",
    "\n",
    "model=RandomForestRegressor()\n",
    "rfe=RFE(model,n_features_to_select=2)\n",
    "X_selectred=rfe.fit_transform(X,y)\n",
    "\n",
    "print(\"Selected Features using RFE :\",X.columns[rfe.support_])\n"
   ]
  },
  {
   "cell_type": "markdown",
   "id": "54565891",
   "metadata": {},
   "source": [
    "### Embedded Method"
   ]
  },
  {
   "cell_type": "code",
   "execution_count": 12,
   "id": "95440e47",
   "metadata": {},
   "outputs": [
    {
     "name": "stdout",
     "output_type": "stream",
     "text": [
      "Selected features using lasso: Index(['Size', 'Bedrooms', 'Age'], dtype='object')\n"
     ]
    }
   ],
   "source": [
    "#STEP 4 :Apply LASSO (least Absolute Shrinkage and Selection Operator)Regression (Embedded Method)\n",
    "lasso=Lasso(alpha=0.1)\n",
    "lasso.fit(X,y)\n",
    "importance=np.abs(lasso.coef_)\n",
    "\n",
    "selected_features=X.columns[importance>0]\n",
    "print(\"Selected features using lasso:\",selected_features)"
   ]
  },
  {
   "cell_type": "code",
   "execution_count": null,
   "id": "f6ce3b79",
   "metadata": {},
   "outputs": [],
   "source": []
  },
  {
   "cell_type": "code",
   "execution_count": null,
   "id": "044a990c",
   "metadata": {},
   "outputs": [],
   "source": []
  },
  {
   "cell_type": "markdown",
   "id": "43f4d40c",
   "metadata": {},
   "source": [
    "**What is Feature Engineering?**\n",
    " \n",
    "            Feature engineering is the process of creating new features or modifying existing ones to improve the performance of machine learning models. It involves techniques like feature extraction, transformation, encoding, and scaling to make data more useful for predictions.\n",
    " \n",
    "**Why Do We Need Feature Engineering?**\n",
    " \n",
    "1.**Improves Model Performance** – Good features help models make better predictions.\n",
    " \n",
    "2.**Reduces Overfitting** – Helps eliminate noise and irrelevant data.\n",
    " \n",
    "3.**Handles Missing Data** – Creates meaningful replacements for missing values.\n",
    " \n",
    "4.**Enables Better Interpretability** – Makes features more understandable and useful.\n",
    "\n",
    "5.**Reduces Dimensionality** – Helps remove unnecessary data points, making the model efficient.\n",
    " "
   ]
  },
  {
   "cell_type": "code",
   "execution_count": null,
   "id": "b42337c7",
   "metadata": {},
   "outputs": [],
   "source": []
  },
  {
   "cell_type": "code",
   "execution_count": 16,
   "id": "40eddf49",
   "metadata": {},
   "outputs": [
    {
     "name": "stdout",
     "output_type": "stream",
     "text": [
      "      TransactionDate  DayOfWeek  Hour  Isweekend\n",
      "0 2025-02-05 14:30:00          2    14          0\n",
      "1 2025-02-06 18:45:00          3    18          0\n"
     ]
    }
   ],
   "source": [
    "import pandas as pd\n",
    "\n",
    "df=pd.DataFrame({'TransactionDate':pd.to_datetime(['2025-02-05 14:30:00','2025-02-06 18:45:00'])})\n",
    "\n",
    "df['DayOfWeek']=df['TransactionDate'].dt.dayofweek\n",
    "df['Hour']=df['TransactionDate'].dt.hour\n",
    "df['Isweekend']=df['DayOfWeek'].apply(lambda x:1 if x>=5 else 0)\n",
    "\n",
    "print(df)"
   ]
  },
  {
   "cell_type": "code",
   "execution_count": 20,
   "id": "aedc19e3",
   "metadata": {},
   "outputs": [
    {
     "name": "stdout",
     "output_type": "stream",
     "text": [
      "   UserId  AvgTransactionAmount\n",
      "0     101                 600.0\n",
      "1     102                 350.0\n",
      "2     103                1000.0\n"
     ]
    }
   ],
   "source": [
    "#aggregated features\n",
    "#find average transcation amount per user:\n",
    "\n",
    "df_trans=pd.DataFrame({\n",
    "    'UserId':[101,102,101,103,102],\n",
    "    'TransactionAmount':[500,300,700,1000,400]\n",
    "})\n",
    "\n",
    "df_user_Avg=df_trans.groupby('UserId')['TransactionAmount'].mean().reset_index()\n",
    "df_user_Avg.rename(columns={\"TransactionAmount\":'AvgTransactionAmount'},inplace=True)\n",
    "print(df_user_Avg)"
   ]
  },
  {
   "cell_type": "code",
   "execution_count": 22,
   "id": "797a93ed",
   "metadata": {},
   "outputs": [
    {
     "name": "stdout",
     "output_type": "stream",
     "text": [
      "   ProductCategory_Clothing  ProductCategory_Electronics  \\\n",
      "0                       0.0                          1.0   \n",
      "1                       1.0                          0.0   \n",
      "2                       0.0                          0.0   \n",
      "3                       0.0                          0.0   \n",
      "\n",
      "   ProductCategory_Grocery  ProductCategory_Medicines  \n",
      "0                      0.0                        0.0  \n",
      "1                      0.0                        0.0  \n",
      "2                      1.0                        0.0  \n",
      "3                      0.0                        1.0  \n"
     ]
    }
   ],
   "source": [
    "#Encoding Categorical variables\n",
    "\n",
    "from sklearn.preprocessing import OneHotEncoder\n",
    "import pandas as pd\n",
    "\n",
    "df = pd.DataFrame({'ProductCategory': ['Electronics', 'Clothing', 'Grocery', 'Medicines']})\n",
    "\n",
    "encoder = OneHotEncoder(sparse_output=False)\n",
    "\n",
    "encoded_features = encoder.fit_transform(df[['ProductCategory']])\n",
    "\n",
    "df_encoded = pd.DataFrame(encoded_features, columns=encoder.get_feature_names_out())\n",
    "\n",
    "print(df_encoded)\n"
   ]
  },
  {
   "cell_type": "code",
   "execution_count": 24,
   "id": "43412757",
   "metadata": {},
   "outputs": [
    {
     "name": "stdout",
     "output_type": "stream",
     "text": [
      "   TransactionAmount  LogTransactionAmount\n",
      "0                100              4.615121\n",
      "1                200              5.303305\n",
      "2               5000              8.517393\n",
      "3              10000              9.210440\n",
      "4              20000              9.903538\n"
     ]
    }
   ],
   "source": [
    "#Log transformation for skewed Data\n",
    "\n",
    "import numpy as np \n",
    "df=pd.DataFrame({'TransactionAmount':[100,200,5000,10000,20000]})\n",
    "df['LogTransactionAmount']=np.log1p(df['TransactionAmount'])\n",
    "print(df)"
   ]
  },
  {
   "cell_type": "markdown",
   "id": "218f5a6b",
   "metadata": {},
   "source": [
    "### Feature Scaling"
   ]
  },
  {
   "cell_type": "code",
   "execution_count": 27,
   "id": "4a636e5d",
   "metadata": {},
   "outputs": [
    {
     "name": "stdout",
     "output_type": "stream",
     "text": [
      "   TransactionAmount  LogTransactionAmount  NormalizedTransAmount  \\\n",
      "0                100              4.615121               0.000000   \n",
      "1                200              5.303305               0.005025   \n",
      "2               5000              8.517393               0.246231   \n",
      "3              10000              9.210440               0.497487   \n",
      "4              20000              9.903538               1.000000   \n",
      "\n",
      "   StandardizedTransAmount  \n",
      "0                -0.937070  \n",
      "1                -0.923606  \n",
      "2                -0.277351  \n",
      "3                 0.395831  \n",
      "4                 1.742196  \n"
     ]
    }
   ],
   "source": [
    "#Feature Scaling\n",
    "\n",
    "from sklearn.preprocessing import MinMaxScaler,StandardScaler\n",
    "\n",
    "scaler=MinMaxScaler()\n",
    "df['NormalizedTransAmount']=scaler.fit_transform(df[['TransactionAmount']])\n",
    "standard_scaler=StandardScaler()\n",
    "df['StandardizedTransAmount']=standard_scaler.fit_transform(df[['TransactionAmount']])\n",
    "print(df)"
   ]
  },
  {
   "cell_type": "code",
   "execution_count": null,
   "id": "6f382026",
   "metadata": {},
   "outputs": [],
   "source": []
  },
  {
   "cell_type": "markdown",
   "id": "f1c1415e",
   "metadata": {},
   "source": [
    "**Final Summary of Feature Engineering & Imbalanced Data Handling**\n",
    " \n",
    "Feature Extraction : Extract new insights from raw data (e.g., Hour, DayOfWeek)\n",
    " \n",
    "Aggregated Features : Calculate meaningful statistics (e.g., AvgTransactionAmountPerUser)\n",
    " \n",
    "Encoding : Convert categorical variables into numerical (One-Hot Encoding)\n",
    " \n",
    "Log Transformation : Reduce skewness in data distribution\n",
    " \n",
    "Feature Scaling : Normalize numerical features for better model performance\n",
    " \n",
    "Downsampling: Reduce the size of the majority class\n",
    " \n",
    "Upsampling : Increase the size of the minority class\n",
    " \n",
    "SMOTE(Synthetic Minority Over-sampling Technique) : Generate synthetic samples for the minority class"
   ]
  },
  {
   "cell_type": "code",
   "execution_count": null,
   "id": "c8806128",
   "metadata": {},
   "outputs": [],
   "source": []
  }
 ],
 "metadata": {
  "kernelspec": {
   "display_name": "Python 3 (ipykernel)",
   "language": "python",
   "name": "python3"
  },
  "language_info": {
   "codemirror_mode": {
    "name": "ipython",
    "version": 3
   },
   "file_extension": ".py",
   "mimetype": "text/x-python",
   "name": "python",
   "nbconvert_exporter": "python",
   "pygments_lexer": "ipython3",
   "version": "3.11.5"
  }
 },
 "nbformat": 4,
 "nbformat_minor": 5
}
