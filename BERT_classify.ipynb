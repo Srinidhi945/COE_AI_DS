{
  "nbformat": 4,
  "nbformat_minor": 0,
  "metadata": {
    "colab": {
      "provenance": [],
      "authorship_tag": "ABX9TyNosy1UQPousVXN7J5GN64/"
    },
    "kernelspec": {
      "name": "python3",
      "display_name": "Python 3"
    },
    "language_info": {
      "name": "python"
    }
  },
  "cells": [
    {
      "cell_type": "code",
      "execution_count": null,
      "metadata": {
        "colab": {
          "base_uri": "https://localhost:8080/"
        },
        "collapsed": true,
        "id": "ONSPgGOXY5V0",
        "outputId": "b031c05a-4b0f-429c-c098-6bddad601747"
      },
      "outputs": [
        {
          "output_type": "stream",
          "name": "stdout",
          "text": [
            "Requirement already satisfied: datasets in /usr/local/lib/python3.11/dist-packages (4.0.0)\n",
            "Requirement already satisfied: filelock in /usr/local/lib/python3.11/dist-packages (from datasets) (3.18.0)\n",
            "Requirement already satisfied: numpy>=1.17 in /usr/local/lib/python3.11/dist-packages (from datasets) (2.0.2)\n",
            "Requirement already satisfied: pyarrow>=15.0.0 in /usr/local/lib/python3.11/dist-packages (from datasets) (18.1.0)\n",
            "Requirement already satisfied: dill<0.3.9,>=0.3.0 in /usr/local/lib/python3.11/dist-packages (from datasets) (0.3.7)\n",
            "Requirement already satisfied: pandas in /usr/local/lib/python3.11/dist-packages (from datasets) (2.2.2)\n",
            "Requirement already satisfied: requests>=2.32.2 in /usr/local/lib/python3.11/dist-packages (from datasets) (2.32.3)\n",
            "Requirement already satisfied: tqdm>=4.66.3 in /usr/local/lib/python3.11/dist-packages (from datasets) (4.67.1)\n",
            "Requirement already satisfied: xxhash in /usr/local/lib/python3.11/dist-packages (from datasets) (3.5.0)\n",
            "Requirement already satisfied: multiprocess<0.70.17 in /usr/local/lib/python3.11/dist-packages (from datasets) (0.70.15)\n",
            "Requirement already satisfied: fsspec<=2025.3.0,>=2023.1.0 in /usr/local/lib/python3.11/dist-packages (from fsspec[http]<=2025.3.0,>=2023.1.0->datasets) (2025.3.0)\n",
            "Requirement already satisfied: huggingface-hub>=0.24.0 in /usr/local/lib/python3.11/dist-packages (from datasets) (0.33.4)\n",
            "Requirement already satisfied: packaging in /usr/local/lib/python3.11/dist-packages (from datasets) (25.0)\n",
            "Requirement already satisfied: pyyaml>=5.1 in /usr/local/lib/python3.11/dist-packages (from datasets) (6.0.2)\n",
            "Requirement already satisfied: aiohttp!=4.0.0a0,!=4.0.0a1 in /usr/local/lib/python3.11/dist-packages (from fsspec[http]<=2025.3.0,>=2023.1.0->datasets) (3.11.15)\n",
            "Requirement already satisfied: typing-extensions>=3.7.4.3 in /usr/local/lib/python3.11/dist-packages (from huggingface-hub>=0.24.0->datasets) (4.14.1)\n",
            "Requirement already satisfied: hf-xet<2.0.0,>=1.1.2 in /usr/local/lib/python3.11/dist-packages (from huggingface-hub>=0.24.0->datasets) (1.1.5)\n",
            "Requirement already satisfied: charset-normalizer<4,>=2 in /usr/local/lib/python3.11/dist-packages (from requests>=2.32.2->datasets) (3.4.2)\n",
            "Requirement already satisfied: idna<4,>=2.5 in /usr/local/lib/python3.11/dist-packages (from requests>=2.32.2->datasets) (3.10)\n",
            "Requirement already satisfied: urllib3<3,>=1.21.1 in /usr/local/lib/python3.11/dist-packages (from requests>=2.32.2->datasets) (2.5.0)\n",
            "Requirement already satisfied: certifi>=2017.4.17 in /usr/local/lib/python3.11/dist-packages (from requests>=2.32.2->datasets) (2025.7.14)\n",
            "Requirement already satisfied: python-dateutil>=2.8.2 in /usr/local/lib/python3.11/dist-packages (from pandas->datasets) (2.9.0.post0)\n",
            "Requirement already satisfied: pytz>=2020.1 in /usr/local/lib/python3.11/dist-packages (from pandas->datasets) (2025.2)\n",
            "Requirement already satisfied: tzdata>=2022.7 in /usr/local/lib/python3.11/dist-packages (from pandas->datasets) (2025.2)\n",
            "Requirement already satisfied: aiohappyeyeballs>=2.3.0 in /usr/local/lib/python3.11/dist-packages (from aiohttp!=4.0.0a0,!=4.0.0a1->fsspec[http]<=2025.3.0,>=2023.1.0->datasets) (2.6.1)\n",
            "Requirement already satisfied: aiosignal>=1.1.2 in /usr/local/lib/python3.11/dist-packages (from aiohttp!=4.0.0a0,!=4.0.0a1->fsspec[http]<=2025.3.0,>=2023.1.0->datasets) (1.4.0)\n",
            "Requirement already satisfied: attrs>=17.3.0 in /usr/local/lib/python3.11/dist-packages (from aiohttp!=4.0.0a0,!=4.0.0a1->fsspec[http]<=2025.3.0,>=2023.1.0->datasets) (25.3.0)\n",
            "Requirement already satisfied: frozenlist>=1.1.1 in /usr/local/lib/python3.11/dist-packages (from aiohttp!=4.0.0a0,!=4.0.0a1->fsspec[http]<=2025.3.0,>=2023.1.0->datasets) (1.7.0)\n",
            "Requirement already satisfied: multidict<7.0,>=4.5 in /usr/local/lib/python3.11/dist-packages (from aiohttp!=4.0.0a0,!=4.0.0a1->fsspec[http]<=2025.3.0,>=2023.1.0->datasets) (6.6.3)\n",
            "Requirement already satisfied: propcache>=0.2.0 in /usr/local/lib/python3.11/dist-packages (from aiohttp!=4.0.0a0,!=4.0.0a1->fsspec[http]<=2025.3.0,>=2023.1.0->datasets) (0.3.2)\n",
            "Requirement already satisfied: yarl<2.0,>=1.17.0 in /usr/local/lib/python3.11/dist-packages (from aiohttp!=4.0.0a0,!=4.0.0a1->fsspec[http]<=2025.3.0,>=2023.1.0->datasets) (1.20.1)\n",
            "Requirement already satisfied: six>=1.5 in /usr/local/lib/python3.11/dist-packages (from python-dateutil>=2.8.2->pandas->datasets) (1.17.0)\n"
          ]
        }
      ],
      "source": [
        "!pip install transformers --quiet\n",
        "!pip install -q huggingface_hub\n",
        "!pip install -U datasets\n"
      ]
    },
    {
      "cell_type": "code",
      "source": [
        "from transformers import BertTokenizer, BertModel\n",
        "tokenizer=BertTokenizer.from_pretrained('bert-base-uncased')\n",
        "model=BertModel.from_pretrained('bert-base-uncased',output_hidden_states=True,output_attentions=True)\n",
        "\n",
        "inputs=tokenizer(\"Hello, how are you?\",return_tensors='pt')\n",
        "outputs=model(**inputs)\n",
        "last_hidden_states=outputs.last_hidden_state\n",
        "pooler_output=outputs.pooler_output\n",
        "attentions=outputs.attentions\n",
        "hidden_states=outputs.hidden_states\n"
      ],
      "metadata": {
        "colab": {
          "base_uri": "https://localhost:8080/"
        },
        "id": "OoTyZfy4ZGWf",
        "outputId": "ef8339ca-4060-40a3-b1e8-46292a0ab49e"
      },
      "execution_count": null,
      "outputs": [
        {
          "output_type": "stream",
          "name": "stderr",
          "text": [
            "/usr/local/lib/python3.11/dist-packages/huggingface_hub/utils/_auth.py:94: UserWarning: \n",
            "The secret `HF_TOKEN` does not exist in your Colab secrets.\n",
            "To authenticate with the Hugging Face Hub, create a token in your settings tab (https://huggingface.co/settings/tokens), set it as secret in your Google Colab and restart your session.\n",
            "You will be able to reuse this secret in all of your notebooks.\n",
            "Please note that authentication is recommended but still optional to access public models or datasets.\n",
            "  warnings.warn(\n",
            "BertSdpaSelfAttention is used but `torch.nn.functional.scaled_dot_product_attention` does not support non-absolute `position_embedding_type` or `output_attentions=True` or `head_mask`. Falling back to the manual attention implementation, but specifying the manual implementation will be required from Transformers version v5.0.0 onwards. This warning can be removed using the argument `attn_implementation=\"eager\"` when loading the model.\n"
          ]
        }
      ]
    },
    {
      "cell_type": "markdown",
      "source": [
        "last hidden state is used for sequence label tagging like  NER\n",
        "\n",
        "\n",
        "pooler output is used for sentence categorization like text classification"
      ],
      "metadata": {
        "id": "4qkd2730ZsT0"
      }
    },
    {
      "cell_type": "code",
      "source": [
        "last_hidden_states"
      ],
      "metadata": {
        "colab": {
          "base_uri": "https://localhost:8080/"
        },
        "collapsed": true,
        "id": "7oxHnWH4Zngq",
        "outputId": "0433be39-b64d-4e06-f6e2-f0bd208160e7"
      },
      "execution_count": null,
      "outputs": [
        {
          "output_type": "execute_result",
          "data": {
            "text/plain": [
              "tensor([[[-0.0824,  0.0667, -0.2880,  ..., -0.3566,  0.1960,  0.5381],\n",
              "         [ 0.0310, -0.1448,  0.0952,  ..., -0.1560,  1.0151,  0.0947],\n",
              "         [-0.8935,  0.3240,  0.4184,  ..., -0.5498,  0.2853,  0.1149],\n",
              "         ...,\n",
              "         [-0.2812, -0.8531,  0.6912,  ..., -0.5051,  0.4716, -0.6854],\n",
              "         [-0.4429, -0.7820, -0.8055,  ...,  0.1949,  0.1081,  0.0130],\n",
              "         [ 0.5570, -0.1080, -0.2412,  ...,  0.2817, -0.3996, -0.1882]]],\n",
              "       grad_fn=<NativeLayerNormBackward0>)"
            ]
          },
          "metadata": {},
          "execution_count": 3
        }
      ]
    },
    {
      "cell_type": "code",
      "source": [
        "pooler_output\n"
      ],
      "metadata": {
        "colab": {
          "base_uri": "https://localhost:8080/"
        },
        "collapsed": true,
        "id": "ImM6v4AOaKg_",
        "outputId": "256bf70b-de66-4c65-f9ad-80f80003423d"
      },
      "execution_count": null,
      "outputs": [
        {
          "output_type": "execute_result",
          "data": {
            "text/plain": [
              "tensor([[-0.9397, -0.4081, -0.9024,  0.8667,  0.6076, -0.1782,  0.9319,  0.2685,\n",
              "         -0.7918, -1.0000, -0.4899,  0.9625,  0.9823,  0.6102,  0.9614, -0.8728,\n",
              "         -0.6449, -0.6543,  0.3102, -0.6648,  0.7556,  1.0000,  0.0778,  0.3350,\n",
              "          0.5094,  0.9948, -0.8847,  0.9590,  0.9761,  0.7384, -0.7787,  0.1232,\n",
              "         -0.9912, -0.2119, -0.9225, -0.9931,  0.3767, -0.8050, -0.0945,  0.0497,\n",
              "         -0.9269,  0.2934,  1.0000,  0.0954,  0.4904, -0.3206, -1.0000,  0.2759,\n",
              "         -0.9303,  0.9396,  0.9162,  0.8490,  0.1967,  0.4833,  0.5391,  0.0523,\n",
              "         -0.0621,  0.1046, -0.3403, -0.6018, -0.6203,  0.5439, -0.8909, -0.9180,\n",
              "          0.9392,  0.8156, -0.1900, -0.2589, -0.1371, -0.1553,  0.9367,  0.3183,\n",
              "          0.2468, -0.9167,  0.5823,  0.2861, -0.7534,  1.0000, -0.7911, -0.9841,\n",
              "          0.8615,  0.7741,  0.6616, -0.2575,  0.4217, -1.0000,  0.6669, -0.1115,\n",
              "         -0.9931,  0.1993,  0.6389, -0.3458,  0.3185,  0.6436, -0.6661, -0.4977,\n",
              "         -0.3677, -0.8909, -0.3536, -0.3582,  0.1323, -0.2020, -0.5409, -0.4236,\n",
              "          0.3375, -0.5047, -0.6625,  0.3016, -0.1905,  0.7032,  0.4906, -0.3784,\n",
              "          0.5841, -0.9767,  0.6868, -0.4095, -0.9919, -0.6602, -0.9917,  0.7231,\n",
              "         -0.4432, -0.3315,  0.9772, -0.0030,  0.5428, -0.1079, -0.9419, -1.0000,\n",
              "         -0.8208, -0.7195, -0.1495, -0.3632, -0.9843, -0.9785,  0.6604,  0.9671,\n",
              "          0.1991,  0.9999, -0.3270,  0.9683, -0.2824, -0.6671,  0.6429, -0.5084,\n",
              "          0.8155,  0.6683, -0.7370,  0.1841, -0.3255,  0.5425, -0.8196, -0.1444,\n",
              "         -0.7372, -0.9632, -0.4311,  0.9677, -0.5258, -0.9448,  0.0683, -0.2570,\n",
              "         -0.6629,  0.8783,  0.8162,  0.4679, -0.4237,  0.4789,  0.3930,  0.6878,\n",
              "         -0.9157, -0.1113,  0.5141, -0.3371, -0.8507, -0.9828, -0.4308,  0.6103,\n",
              "          0.9940,  0.8002,  0.3561,  0.8153, -0.2915,  0.8075, -0.9715,  0.9865,\n",
              "         -0.2685,  0.2925,  0.0508,  0.4006, -0.9311,  0.0247,  0.8974, -0.6805,\n",
              "         -0.8900, -0.2348, -0.5269, -0.4351, -0.8138,  0.6458, -0.2967, -0.2653,\n",
              "         -0.1253,  0.9394,  0.9895,  0.8081,  0.2221,  0.8180, -0.9162, -0.5713,\n",
              "          0.0396,  0.3294,  0.1492,  0.9960, -0.7699, -0.1358, -0.9500, -0.9895,\n",
              "         -0.0589, -0.9379, -0.2007, -0.7227,  0.7361,  0.1222,  0.5693,  0.5728,\n",
              "         -0.9927, -0.7939,  0.3953, -0.5294,  0.4758, -0.2439,  0.6086,  0.9451,\n",
              "         -0.6614,  0.8475,  0.9563, -0.8955, -0.8207,  0.8418, -0.3480,  0.9098,\n",
              "         -0.7207,  0.9900,  0.9613,  0.9021, -0.9444, -0.7457, -0.9020, -0.7801,\n",
              "         -0.0605,  0.1208,  0.9016,  0.6999,  0.4337,  0.3760, -0.7694,  0.9992,\n",
              "         -0.6057, -0.9718, -0.4017, -0.1144, -0.9907,  0.9075,  0.3436,  0.3461,\n",
              "         -0.4579, -0.7868, -0.9760,  0.9109,  0.1416,  0.9900, -0.1437, -0.9715,\n",
              "         -0.5963, -0.9475, -0.2035, -0.2663, -0.2594, -0.1224, -0.9710,  0.5504,\n",
              "          0.5669,  0.6306, -0.7672,  0.9996,  1.0000,  0.9747,  0.9272,  0.9433,\n",
              "         -0.9999, -0.6034,  1.0000, -0.9959, -1.0000, -0.9484, -0.7638,  0.4284,\n",
              "         -1.0000, -0.2423, -0.0149, -0.9346,  0.7198,  0.9799,  0.9970, -1.0000,\n",
              "          0.8571,  0.9582, -0.7485,  0.9826, -0.5256,  0.9773,  0.5886,  0.3242,\n",
              "         -0.3219,  0.3844, -0.9395, -0.9149, -0.5524, -0.7445,  0.9986,  0.2265,\n",
              "         -0.8418, -0.9291,  0.3760, -0.2026, -0.3773, -0.9807, -0.2517,  0.6540,\n",
              "          0.8830,  0.1926,  0.3737, -0.7180,  0.3621, -0.0460,  0.2923,  0.7520,\n",
              "         -0.9328, -0.4846, -0.3400, -0.3362, -0.6643, -0.9751,  0.9772, -0.4883,\n",
              "          0.9261,  1.0000,  0.1624, -0.9297,  0.7345,  0.2806, -0.3267,  1.0000,\n",
              "          0.8273, -0.9825, -0.6232,  0.5221, -0.6021, -0.6570,  0.9997, -0.1715,\n",
              "         -0.6950, -0.5274,  0.9871, -0.9913,  0.9965, -0.9464, -0.9779,  0.9795,\n",
              "          0.9524, -0.8368, -0.7578,  0.2502, -0.7006,  0.2992, -0.9726,  0.8163,\n",
              "          0.6003, -0.1536,  0.9077, -0.9091, -0.6684,  0.2876, -0.7330, -0.1607,\n",
              "          0.9486,  0.6312, -0.3891,  0.0357, -0.3750, -0.3756, -0.9843,  0.4886,\n",
              "          1.0000, -0.2315,  0.7898, -0.4258, -0.0598, -0.1328,  0.5125,  0.6314,\n",
              "         -0.3294, -0.8755,  0.7849, -0.9849, -0.9887,  0.8402,  0.1892, -0.4375,\n",
              "          1.0000,  0.5749,  0.1210,  0.4122,  0.9909,  0.0735,  0.7185,  0.8889,\n",
              "          0.9896, -0.2700,  0.6525,  0.9098, -0.9027, -0.4159, -0.7008, -0.0415,\n",
              "         -0.9281, -0.0108, -0.9747,  0.9768,  0.9692,  0.4282,  0.2692,  0.6122,\n",
              "          1.0000, -0.5248,  0.7249, -0.5060,  0.9194, -0.9998, -0.9260, -0.4517,\n",
              "         -0.1464, -0.8025, -0.4218,  0.4552, -0.9794,  0.8356,  0.6287, -0.9972,\n",
              "         -0.9938, -0.2074,  0.9298,  0.1215, -0.9909, -0.8170, -0.6627,  0.6416,\n",
              "         -0.2284, -0.9569, -0.1181, -0.3816,  0.5255, -0.1805,  0.6387,  0.8702,\n",
              "          0.6870, -0.5757, -0.4236, -0.1641, -0.8831,  0.9374, -0.8926, -0.9400,\n",
              "         -0.3102,  1.0000, -0.6176,  0.9136,  0.7730,  0.7931, -0.0889,  0.2407,\n",
              "          0.9472,  0.3261, -0.7425, -0.8732, -0.7849, -0.4377,  0.8024,  0.3961,\n",
              "          0.7152,  0.8478,  0.8273,  0.1153, -0.0280, -0.0304,  0.9999, -0.2497,\n",
              "         -0.1616, -0.5044, -0.0497, -0.4457, -0.5473,  1.0000,  0.3189,  0.5105,\n",
              "         -0.9929, -0.9074, -0.9470,  1.0000,  0.8645, -0.8185,  0.7758,  0.6998,\n",
              "         -0.1522,  0.8929, -0.2187, -0.4045,  0.3307,  0.1409,  0.9588, -0.6211,\n",
              "         -0.9823, -0.7474,  0.4825, -0.9754,  1.0000, -0.6499, -0.2883, -0.5406,\n",
              "         -0.1761,  0.3477, -0.1121, -0.9871, -0.2494,  0.3136,  0.9691,  0.3786,\n",
              "         -0.6823, -0.9428,  0.7981,  0.8634, -0.9307, -0.9558,  0.9710, -0.9912,\n",
              "          0.6371,  1.0000,  0.3606,  0.0868,  0.2708, -0.5297,  0.4133, -0.4391,\n",
              "          0.8383, -0.9726, -0.3193, -0.2312,  0.3197, -0.1520, -0.2309,  0.8155,\n",
              "          0.2249, -0.6628, -0.7201, -0.0532,  0.4476,  0.9189, -0.2601, -0.2309,\n",
              "          0.1324, -0.1847, -0.9499, -0.2363, -0.5325, -1.0000,  0.7762, -1.0000,\n",
              "          0.5303,  0.2326, -0.2700,  0.9060,  0.2731,  0.5734, -0.8361, -0.8113,\n",
              "          0.5569,  0.8021, -0.3536, -0.6216, -0.7758,  0.4175, -0.0477,  0.1000,\n",
              "         -0.5561,  0.7914, -0.2158,  1.0000,  0.2179, -0.8865, -0.9858,  0.1659,\n",
              "         -0.3391,  1.0000, -0.9481, -0.9695,  0.5338, -0.8202, -0.8819,  0.4277,\n",
              "          0.0594, -0.8486, -0.9633,  0.9736,  0.9464, -0.6571,  0.4920, -0.3911,\n",
              "         -0.6615,  0.0692,  0.8727,  0.9897,  0.4700,  0.9277,  0.6218, -0.2349,\n",
              "          0.9815,  0.2672,  0.5438,  0.0797,  1.0000,  0.3870, -0.9405,  0.1054,\n",
              "         -0.9833, -0.2969, -0.9634,  0.3935,  0.2849,  0.9189, -0.2147,  0.9719,\n",
              "         -0.8230,  0.0331, -0.7876, -0.4855,  0.4738, -0.9335, -0.9865, -0.9889,\n",
              "          0.6081, -0.4843, -0.0682,  0.1664,  0.1078,  0.4640,  0.4898, -1.0000,\n",
              "          0.9641,  0.5431,  0.9383,  0.9721,  0.7680,  0.5263,  0.3403, -0.9916,\n",
              "         -0.9905, -0.3485, -0.2593,  0.7984,  0.6853,  0.9404,  0.5173, -0.5142,\n",
              "         -0.1765, -0.4202, -0.4569, -0.9952,  0.5883, -0.5553, -0.9812,  0.9735,\n",
              "         -0.3406, -0.1781, -0.0011, -0.8343,  0.9537,  0.8525,  0.4713, -0.0046,\n",
              "          0.5341,  0.9080,  0.9707,  0.9846, -0.8114,  0.9081, -0.6079,  0.5477,\n",
              "          0.8132, -0.9515,  0.0974,  0.5627, -0.5420,  0.3376, -0.2709, -0.9814,\n",
              "          0.7589, -0.3889,  0.6699, -0.4872,  0.0730, -0.4788, -0.0787, -0.7815,\n",
              "         -0.8119,  0.6705,  0.6675,  0.9399,  0.7869, -0.0141, -0.7990, -0.1767,\n",
              "         -0.8166, -0.9326,  0.9578, -0.0282, -0.3473,  0.6796, -0.0607,  0.8229,\n",
              "          0.1077, -0.3942, -0.3221, -0.7277,  0.8907, -0.5713, -0.5725, -0.6333,\n",
              "          0.7569,  0.3500,  1.0000, -0.7834, -0.9078, -0.4479, -0.3861,  0.5302,\n",
              "         -0.7148, -1.0000,  0.4726, -0.4242,  0.7148, -0.7536,  0.8473, -0.7694,\n",
              "         -0.9885, -0.3057,  0.5318,  0.7787, -0.4794, -0.6866,  0.6466, -0.1783,\n",
              "          0.9834,  0.9262, -0.6138,  0.2273,  0.6907, -0.7303, -0.7535,  0.9454]],\n",
              "       grad_fn=<TanhBackward0>)"
            ]
          },
          "metadata": {},
          "execution_count": 4
        }
      ]
    },
    {
      "cell_type": "code",
      "source": [
        "from transformers import AutoTokenizer,AutoModelForSequenceClassification\n",
        "import torch\n",
        "import torch.nn.functional as F\n",
        "\n",
        "model_name=\"textattack/bert-base-uncased-SST-2\"\n",
        "tokenizer=AutoTokenizer.from_pretrained(model_name)\n",
        "model=AutoModelForSequenceClassification.from_pretrained(model_name)"
      ],
      "metadata": {
        "id": "5zRjmyr5aOgT"
      },
      "execution_count": null,
      "outputs": []
    },
    {
      "cell_type": "code",
      "source": [
        "text=\"I absolutely dont like that movie.It was worst!\"\n",
        "\n",
        "inputs=tokenizer(text,return_tensors='pt')\n",
        "inputs"
      ],
      "metadata": {
        "colab": {
          "base_uri": "https://localhost:8080/"
        },
        "id": "wduLTywUb7yR",
        "outputId": "426bbddb-75e5-4a6f-90ae-fd9c3bd83759"
      },
      "execution_count": null,
      "outputs": [
        {
          "output_type": "execute_result",
          "data": {
            "text/plain": [
              "{'input_ids': tensor([[ 101, 1045, 7078, 2123, 2102, 2066, 2008, 3185, 1012, 2009, 2001, 5409,\n",
              "          999,  102]]), 'token_type_ids': tensor([[0, 0, 0, 0, 0, 0, 0, 0, 0, 0, 0, 0, 0, 0]]), 'attention_mask': tensor([[1, 1, 1, 1, 1, 1, 1, 1, 1, 1, 1, 1, 1, 1]])}"
            ]
          },
          "metadata": {},
          "execution_count": 6
        }
      ]
    },
    {
      "cell_type": "code",
      "source": [
        "with torch.no_grad():\n",
        "  outputs=model(**inputs)\n",
        "  logits=outputs.logits\n",
        "  probs=F.softmax(logits,dim=1)\n",
        "  predicted_class=torch.argmax(probs,dim=1).item()\n",
        "\n"
      ],
      "metadata": {
        "id": "ZbQ8g9vadKut"
      },
      "execution_count": null,
      "outputs": []
    },
    {
      "cell_type": "code",
      "source": [
        "labels=model.config.id2label\n",
        "print(f\"Predicted class: {labels[predicted_class]} prob={probs[0][predicted_class]:.4f}\")"
      ],
      "metadata": {
        "colab": {
          "base_uri": "https://localhost:8080/"
        },
        "id": "0T7TAaJgdqgn",
        "outputId": "5db2d384-e216-4aad-d128-b9bc85b7ebcf"
      },
      "execution_count": null,
      "outputs": [
        {
          "output_type": "stream",
          "name": "stdout",
          "text": [
            "Predicted class: LABEL_0 prob=0.9991\n"
          ]
        }
      ]
    },
    {
      "cell_type": "code",
      "source": [
        "!pip install transformers tensorflow --quiet"
      ],
      "metadata": {
        "id": "uLFzY4DfeEiH"
      },
      "execution_count": null,
      "outputs": []
    },
    {
      "cell_type": "code",
      "source": [
        "import tensorflow as tf\n",
        "from transformers import TFBertModel,BertTokenizer\n",
        "\n",
        "class BertClassifier(tf.keras.Model):\n",
        "  def __init__(self,num_name='bert-base-uncased',num_classes=2):\n",
        "    super(BertClassifier,self).__init__()\n",
        "    self.bert=TFBertModel.from_pretrained(model_name, from_pt=True)\n",
        "    self.dropout=tf.keras.layers.Dropout(0.3)\n",
        "    self.classifier=tf.keras.layers.Dense(num_classes,activation='softmax')\n",
        "\n",
        "\n",
        "  def call(self,inputs,training=False):\n",
        "    outputs=self.bert(\n",
        "        input_ids=inputs['input_ids'],\n",
        "        attention_mask=inputs['attention_mask'],\n",
        "        token_type_ids=inputs['token_type_ids'] if 'token_type_ids' in inputs else None,\n",
        "        training=training\n",
        "    )\n",
        "\n",
        "    cls_output=outputs.pooler_output\n",
        "    x=self.dropout(cls_output,training=training)\n",
        "    return self.classifier(x)"
      ],
      "metadata": {
        "id": "ZJz5c5_veQ70"
      },
      "execution_count": null,
      "outputs": []
    },
    {
      "cell_type": "code",
      "source": [
        "tokenizer=BertTokenizer.from_pretrained('bert-base-uncased')\n",
        "text=\"I really wonna visit your home town!!!\"\n",
        "\n",
        "encoded_input=tokenizer(text,return_tensors='tf',padding=True,truncation=True)\n"
      ],
      "metadata": {
        "colab": {
          "base_uri": "https://localhost:8080/"
        },
        "id": "Dw53MKYigMm0",
        "outputId": "49fc9b15-2854-4c4c-982c-0335663ca33e"
      },
      "execution_count": null,
      "outputs": [
        {
          "output_type": "stream",
          "name": "stderr",
          "text": [
            "TensorFlow and JAX classes are deprecated and will be removed in Transformers v5. We recommend migrating to PyTorch classes or pinning your version of Transformers.\n"
          ]
        }
      ]
    },
    {
      "cell_type": "code",
      "source": [
        "model=BertClassifier(num_classes=2)\n",
        "\n",
        "model.trainable=False\n",
        "\n",
        "logits=model(encoded_input,training=False)\n",
        "predicted_class=tf.argmax(logits,axis=1).numpy()[0]\n",
        "confidence=tf.reduce_max(logits,axis=1).numpy()[0]\n",
        "\n",
        "print(f\"Predicted class:{predicted_class},confidence:{confidence:4f}\")"
      ],
      "metadata": {
        "colab": {
          "base_uri": "https://localhost:8080/"
        },
        "id": "urQZOhRvgo-o",
        "outputId": "d11f1fce-fd0e-41cb-fec2-2752a5c4e311"
      },
      "execution_count": null,
      "outputs": [
        {
          "output_type": "stream",
          "name": "stderr",
          "text": [
            "TensorFlow and JAX classes are deprecated and will be removed in Transformers v5. We recommend migrating to PyTorch classes or pinning your version of Transformers.\n",
            "Some weights of the PyTorch model were not used when initializing the TF 2.0 model TFBertModel: ['classifier.weight', 'classifier.bias']\n",
            "- This IS expected if you are initializing TFBertModel from a PyTorch model trained on another task or with another architecture (e.g. initializing a TFBertForSequenceClassification model from a BertForPreTraining model).\n",
            "- This IS NOT expected if you are initializing TFBertModel from a PyTorch model that you expect to be exactly identical (e.g. initializing a TFBertForSequenceClassification model from a BertForSequenceClassification model).\n",
            "All the weights of TFBertModel were initialized from the PyTorch model.\n",
            "If your task is similar to the task the model of the checkpoint was trained on, you can already use TFBertModel for predictions without further training.\n"
          ]
        },
        {
          "output_type": "stream",
          "name": "stdout",
          "text": [
            "Predicted class:1,confidence:0.596933\n"
          ]
        }
      ]
    },
    {
      "cell_type": "code",
      "source": [],
      "metadata": {
        "id": "sdj4pheThZUI"
      },
      "execution_count": null,
      "outputs": []
    }
  ]
}