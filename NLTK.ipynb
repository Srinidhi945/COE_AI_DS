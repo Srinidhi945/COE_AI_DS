{
  "nbformat": 4,
  "nbformat_minor": 0,
  "metadata": {
    "colab": {
      "provenance": [],
      "authorship_tag": "ABX9TyNlrQ4AT0PQpwrf5/j6Qhfr"
    },
    "kernelspec": {
      "name": "python3",
      "display_name": "Python 3"
    },
    "language_info": {
      "name": "python"
    }
  },
  "cells": [
    {
      "cell_type": "code",
      "execution_count": null,
      "metadata": {
        "colab": {
          "base_uri": "https://localhost:8080/"
        },
        "id": "CC2B3QLbU7k7",
        "outputId": "c59b4e0d-739a-40a1-d3c4-588de2042fc1"
      },
      "outputs": [
        {
          "output_type": "stream",
          "name": "stdout",
          "text": [
            "Requirement already satisfied: nltk in /usr/local/lib/python3.11/dist-packages (3.9.1)\n",
            "Requirement already satisfied: click in /usr/local/lib/python3.11/dist-packages (from nltk) (8.2.1)\n",
            "Requirement already satisfied: joblib in /usr/local/lib/python3.11/dist-packages (from nltk) (1.5.1)\n",
            "Requirement already satisfied: regex>=2021.8.3 in /usr/local/lib/python3.11/dist-packages (from nltk) (2024.11.6)\n",
            "Requirement already satisfied: tqdm in /usr/local/lib/python3.11/dist-packages (from nltk) (4.67.1)\n"
          ]
        }
      ],
      "source": [
        "! pip install nltk"
      ]
    },
    {
      "cell_type": "code",
      "source": [
        "import nltk\n",
        "nltk.download('punkt')\n",
        "nltk.download('punkt_tab')"
      ],
      "metadata": {
        "colab": {
          "base_uri": "https://localhost:8080/"
        },
        "id": "RWzbxqIIVwM8",
        "outputId": "fb8bc45b-bff7-4552-aece-f43ba534cc98"
      },
      "execution_count": null,
      "outputs": [
        {
          "output_type": "stream",
          "name": "stderr",
          "text": [
            "[nltk_data] Downloading package punkt to /root/nltk_data...\n",
            "[nltk_data]   Unzipping tokenizers/punkt.zip.\n",
            "[nltk_data] Downloading package punkt_tab to /root/nltk_data...\n",
            "[nltk_data]   Unzipping tokenizers/punkt_tab.zip.\n"
          ]
        },
        {
          "output_type": "execute_result",
          "data": {
            "text/plain": [
              "True"
            ]
          },
          "metadata": {},
          "execution_count": 2
        }
      ]
    },
    {
      "cell_type": "code",
      "source": [
        "from nltk.tokenize import word_tokenize, sent_tokenize, TweetTokenizer\n",
        "from nltk.stem import PorterStemmer, WordNetLemmatizer\n",
        "from nltk.corpus import stopwords"
      ],
      "metadata": {
        "id": "L9rrPFRQXeYU"
      },
      "execution_count": null,
      "outputs": []
    },
    {
      "cell_type": "code",
      "source": [
        "para=\"\"\"The old lighthouse, scarred by a century of storms, stood sentinel on the craggy bluff, its beam cutting a predictable arc through the deepening twilight. Below, the relentless tide whispered secrets to the pebbled shore, pulling back with a sigh that hinted at forgotten voyages and distant lands. A lone seagull, a phantom against the steel-grey sky, circled once before finding perch, its cry a sharp punctuation mark in the vast, unfolding silence of the evening. It was a place where time seemed to slow, where the raw power of nature felt both humbling and profoundly beautiful.\"\"\""
      ],
      "metadata": {
        "id": "BpLLR5CHXh6S"
      },
      "execution_count": null,
      "outputs": []
    },
    {
      "cell_type": "code",
      "source": [
        "para2=\"\"\" The scent of rain, newly fallen on hot asphalt, carried a surprising freshness, momentarily masking the usual city hum. A distant siren wailed, a brief, urgent thread in the tapestry of muffled traffic and hushed conversations from café patios. Leaves on the oak tree outside the window, recently washed clean, shimmered with an almost artificial green under the returning sunlight, each drop a tiny prism catching the afternoon's fleeting brilliance. It was a moment of quiet reprieve, a tiny pocket of calm stitched into the relentless rush of urban life.   \"\"\""
      ],
      "metadata": {
        "id": "WGtX-hEGXzFC"
      },
      "execution_count": null,
      "outputs": []
    },
    {
      "cell_type": "code",
      "source": [
        "para"
      ],
      "metadata": {
        "colab": {
          "base_uri": "https://localhost:8080/",
          "height": 70
        },
        "id": "KebnIcUgYA9h",
        "outputId": "c25ae86b-f16f-4219-9819-7694af1d5e12"
      },
      "execution_count": null,
      "outputs": [
        {
          "output_type": "execute_result",
          "data": {
            "text/plain": [
              "'The old lighthouse, scarred by a century of storms, stood sentinel on the craggy bluff, its beam cutting a predictable arc through the deepening twilight. Below, the relentless tide whispered secrets to the pebbled shore, pulling back with a sigh that hinted at forgotten voyages and distant lands. A lone seagull, a phantom against the steel-grey sky, circled once before finding perch, its cry a sharp punctuation mark in the vast, unfolding silence of the evening. It was a place where time seemed to slow, where the raw power of nature felt both humbling and profoundly beautiful.'"
            ],
            "application/vnd.google.colaboratory.intrinsic+json": {
              "type": "string"
            }
          },
          "metadata": {},
          "execution_count": 21
        }
      ]
    },
    {
      "cell_type": "code",
      "source": [
        "tokens=word_tokenize(para)"
      ],
      "metadata": {
        "id": "fb5UKnGVX7fC"
      },
      "execution_count": null,
      "outputs": []
    },
    {
      "cell_type": "code",
      "source": [
        "print(tokens)"
      ],
      "metadata": {
        "colab": {
          "base_uri": "https://localhost:8080/"
        },
        "id": "dmzeV0MrYB7Z",
        "outputId": "2388a237-9d08-490f-a6a6-5b475019e3ca"
      },
      "execution_count": null,
      "outputs": [
        {
          "output_type": "stream",
          "name": "stdout",
          "text": [
            "['The', 'old', 'lighthouse', ',', 'scarred', 'by', 'a', 'century', 'of', 'storms', ',', 'stood', 'sentinel', 'on', 'the', 'craggy', 'bluff', ',', 'its', 'beam', 'cutting', 'a', 'predictable', 'arc', 'through', 'the', 'deepening', 'twilight', '.', 'Below', ',', 'the', 'relentless', 'tide', 'whispered', 'secrets', 'to', 'the', 'pebbled', 'shore', ',', 'pulling', 'back', 'with', 'a', 'sigh', 'that', 'hinted', 'at', 'forgotten', 'voyages', 'and', 'distant', 'lands', '.', 'A', 'lone', 'seagull', ',', 'a', 'phantom', 'against', 'the', 'steel-grey', 'sky', ',', 'circled', 'once', 'before', 'finding', 'perch', ',', 'its', 'cry', 'a', 'sharp', 'punctuation', 'mark', 'in', 'the', 'vast', ',', 'unfolding', 'silence', 'of', 'the', 'evening', '.', 'It', 'was', 'a', 'place', 'where', 'time', 'seemed', 'to', 'slow', ',', 'where', 'the', 'raw', 'power', 'of', 'nature', 'felt', 'both', 'humbling', 'and', 'profoundly', 'beautiful', '.']\n"
          ]
        }
      ]
    },
    {
      "cell_type": "code",
      "source": [
        "len(tokens)"
      ],
      "metadata": {
        "colab": {
          "base_uri": "https://localhost:8080/"
        },
        "id": "_RYofqaYYXuA",
        "outputId": "fa6b2a53-6e48-4ae1-e8dd-1793272c23ec"
      },
      "execution_count": null,
      "outputs": [
        {
          "output_type": "execute_result",
          "data": {
            "text/plain": [
              "111"
            ]
          },
          "metadata": {},
          "execution_count": 24
        }
      ]
    },
    {
      "cell_type": "code",
      "source": [
        "sent=sent_tokenize(para)\n"
      ],
      "metadata": {
        "id": "hY6kUGkuYKLB"
      },
      "execution_count": null,
      "outputs": []
    },
    {
      "cell_type": "code",
      "source": [
        "print(sent)\n",
        "\n"
      ],
      "metadata": {
        "colab": {
          "base_uri": "https://localhost:8080/"
        },
        "id": "EHjZb3UYYNTS",
        "outputId": "ac0b474d-d092-4cd4-f8ac-f52d2ff9b521"
      },
      "execution_count": null,
      "outputs": [
        {
          "output_type": "stream",
          "name": "stdout",
          "text": [
            "['The old lighthouse, scarred by a century of storms, stood sentinel on the craggy bluff, its beam cutting a predictable arc through the deepening twilight.', 'Below, the relentless tide whispered secrets to the pebbled shore, pulling back with a sigh that hinted at forgotten voyages and distant lands.', 'A lone seagull, a phantom against the steel-grey sky, circled once before finding perch, its cry a sharp punctuation mark in the vast, unfolding silence of the evening.', 'It was a place where time seemed to slow, where the raw power of nature felt both humbling and profoundly beautiful.']\n"
          ]
        }
      ]
    },
    {
      "cell_type": "code",
      "source": [
        "len(sent)"
      ],
      "metadata": {
        "colab": {
          "base_uri": "https://localhost:8080/"
        },
        "id": "16uj74ffYSpB",
        "outputId": "07bc206d-e56f-4757-ba29-4a68487e3684"
      },
      "execution_count": null,
      "outputs": [
        {
          "output_type": "execute_result",
          "data": {
            "text/plain": [
              "4"
            ]
          },
          "metadata": {},
          "execution_count": 30
        }
      ]
    },
    {
      "cell_type": "code",
      "source": [
        "sent[0]"
      ],
      "metadata": {
        "colab": {
          "base_uri": "https://localhost:8080/",
          "height": 35
        },
        "id": "zzY3kJHTeHCR",
        "outputId": "9f1d4ff4-8009-49be-f470-1612de88a8d8"
      },
      "execution_count": null,
      "outputs": [
        {
          "output_type": "execute_result",
          "data": {
            "text/plain": [
              "'The old lighthouse, scarred by a century of storms, stood sentinel on the craggy bluff, its beam cutting a predictable arc through the deepening twilight.'"
            ],
            "application/vnd.google.colaboratory.intrinsic+json": {
              "type": "string"
            }
          },
          "metadata": {},
          "execution_count": 31
        }
      ]
    },
    {
      "cell_type": "code",
      "source": [
        "sent[1]"
      ],
      "metadata": {
        "colab": {
          "base_uri": "https://localhost:8080/",
          "height": 35
        },
        "id": "HwRY_7dleG_f",
        "outputId": "b8ae2bc8-648b-4f8d-ab99-28e9a9025786"
      },
      "execution_count": null,
      "outputs": [
        {
          "output_type": "execute_result",
          "data": {
            "text/plain": [
              "'Below, the relentless tide whispered secrets to the pebbled shore, pulling back with a sigh that hinted at forgotten voyages and distant lands.'"
            ],
            "application/vnd.google.colaboratory.intrinsic+json": {
              "type": "string"
            }
          },
          "metadata": {},
          "execution_count": 32
        }
      ]
    },
    {
      "cell_type": "code",
      "source": [
        "words1=[word_tokenize(i) for i in sent]"
      ],
      "metadata": {
        "id": "QcN94q3GeG8Y"
      },
      "execution_count": null,
      "outputs": []
    },
    {
      "cell_type": "code",
      "source": [
        "print(words1)"
      ],
      "metadata": {
        "colab": {
          "base_uri": "https://localhost:8080/"
        },
        "id": "G60KgSWHfX8g",
        "outputId": "67a62147-09b5-4468-c744-c04a82e297eb"
      },
      "execution_count": null,
      "outputs": [
        {
          "output_type": "stream",
          "name": "stdout",
          "text": [
            "[['The', 'old', 'lighthouse', ',', 'scarred', 'by', 'a', 'century', 'of', 'storms', ',', 'stood', 'sentinel', 'on', 'the', 'craggy', 'bluff', ',', 'its', 'beam', 'cutting', 'a', 'predictable', 'arc', 'through', 'the', 'deepening', 'twilight', '.'], ['Below', ',', 'the', 'relentless', 'tide', 'whispered', 'secrets', 'to', 'the', 'pebbled', 'shore', ',', 'pulling', 'back', 'with', 'a', 'sigh', 'that', 'hinted', 'at', 'forgotten', 'voyages', 'and', 'distant', 'lands', '.'], ['A', 'lone', 'seagull', ',', 'a', 'phantom', 'against', 'the', 'steel-grey', 'sky', ',', 'circled', 'once', 'before', 'finding', 'perch', ',', 'its', 'cry', 'a', 'sharp', 'punctuation', 'mark', 'in', 'the', 'vast', ',', 'unfolding', 'silence', 'of', 'the', 'evening', '.'], ['It', 'was', 'a', 'place', 'where', 'time', 'seemed', 'to', 'slow', ',', 'where', 'the', 'raw', 'power', 'of', 'nature', 'felt', 'both', 'humbling', 'and', 'profoundly', 'beautiful', '.']]\n"
          ]
        }
      ]
    },
    {
      "cell_type": "code",
      "source": [
        "len(words1)"
      ],
      "metadata": {
        "colab": {
          "base_uri": "https://localhost:8080/"
        },
        "id": "J7C6HbgpfX5X",
        "outputId": "11440f4e-3c0b-4b3b-9eb4-9d47cb01464f"
      },
      "execution_count": null,
      "outputs": [
        {
          "output_type": "execute_result",
          "data": {
            "text/plain": [
              "4"
            ]
          },
          "metadata": {},
          "execution_count": 35
        }
      ]
    },
    {
      "cell_type": "code",
      "source": [
        "len(words1[0])"
      ],
      "metadata": {
        "colab": {
          "base_uri": "https://localhost:8080/"
        },
        "id": "uFPuAiUMfX2I",
        "outputId": "b034ea23-d1c2-4834-879a-9097fea2d8b0"
      },
      "execution_count": null,
      "outputs": [
        {
          "output_type": "execute_result",
          "data": {
            "text/plain": [
              "29"
            ]
          },
          "metadata": {},
          "execution_count": 36
        }
      ]
    },
    {
      "cell_type": "code",
      "source": [
        "tweet_tokenize=TweetTokenizer()\n",
        "twords=tweet_tokenize.tokenize(para)"
      ],
      "metadata": {
        "id": "UFxsMFz5fXzI"
      },
      "execution_count": null,
      "outputs": []
    },
    {
      "cell_type": "code",
      "source": [
        "print(twords)"
      ],
      "metadata": {
        "colab": {
          "base_uri": "https://localhost:8080/"
        },
        "id": "ShRSJ5XjfXsn",
        "outputId": "0e7a5170-7039-497f-8a7c-23ee46fcf232"
      },
      "execution_count": null,
      "outputs": [
        {
          "output_type": "stream",
          "name": "stdout",
          "text": [
            "['The', 'old', 'lighthouse', ',', 'scarred', 'by', 'a', 'century', 'of', 'storms', ',', 'stood', 'sentinel', 'on', 'the', 'craggy', 'bluff', ',', 'its', 'beam', 'cutting', 'a', 'predictable', 'arc', 'through', 'the', 'deepening', 'twilight', '.', 'Below', ',', 'the', 'relentless', 'tide', 'whispered', 'secrets', 'to', 'the', 'pebbled', 'shore', ',', 'pulling', 'back', 'with', 'a', 'sigh', 'that', 'hinted', 'at', 'forgotten', 'voyages', 'and', 'distant', 'lands', '.', 'A', 'lone', 'seagull', ',', 'a', 'phantom', 'against', 'the', 'steel-grey', 'sky', ',', 'circled', 'once', 'before', 'finding', 'perch', ',', 'its', 'cry', 'a', 'sharp', 'punctuation', 'mark', 'in', 'the', 'vast', ',', 'unfolding', 'silence', 'of', 'the', 'evening', '.', 'It', 'was', 'a', 'place', 'where', 'time', 'seemed', 'to', 'slow', ',', 'where', 'the', 'raw', 'power', 'of', 'nature', 'felt', 'both', 'humbling', 'and', 'profoundly', 'beautiful', '.']\n"
          ]
        }
      ]
    },
    {
      "cell_type": "code",
      "source": [
        "len(twords)"
      ],
      "metadata": {
        "colab": {
          "base_uri": "https://localhost:8080/"
        },
        "id": "hmc_3Z5yfxd_",
        "outputId": "bdb87562-1022-4bb5-aa9a-41e752b2757e"
      },
      "execution_count": null,
      "outputs": [
        {
          "output_type": "execute_result",
          "data": {
            "text/plain": [
              "111"
            ]
          },
          "metadata": {},
          "execution_count": 39
        }
      ]
    },
    {
      "cell_type": "code",
      "source": [
        "type(para)"
      ],
      "metadata": {
        "colab": {
          "base_uri": "https://localhost:8080/"
        },
        "id": "YHcuGVfGfxVn",
        "outputId": "15f222b4-eb99-455a-e87a-29df0394a3b4"
      },
      "execution_count": null,
      "outputs": [
        {
          "output_type": "execute_result",
          "data": {
            "text/plain": [
              "str"
            ]
          },
          "metadata": {},
          "execution_count": 40
        }
      ]
    },
    {
      "cell_type": "code",
      "source": [
        "lower_para=para.lower()"
      ],
      "metadata": {
        "id": "R-5G49aOf2Zv"
      },
      "execution_count": null,
      "outputs": []
    },
    {
      "cell_type": "code",
      "source": [
        "stemmer=PorterStemmer()\n",
        "stemmer.stem(lower_para)"
      ],
      "metadata": {
        "colab": {
          "base_uri": "https://localhost:8080/",
          "height": 70
        },
        "id": "fUwZf7D9f5wf",
        "outputId": "f35528b0-d2db-4394-faa8-4c007cae136b"
      },
      "execution_count": null,
      "outputs": [
        {
          "output_type": "execute_result",
          "data": {
            "text/plain": [
              "'the old lighthouse, scarred by a century of storms, stood sentinel on the craggy bluff, its beam cutting a predictable arc through the deepening twilight. below, the relentless tide whispered secrets to the pebbled shore, pulling back with a sigh that hinted at forgotten voyages and distant lands. a lone seagull, a phantom against the steel-grey sky, circled once before finding perch, its cry a sharp punctuation mark in the vast, unfolding silence of the evening. it was a place where time seemed to slow, where the raw power of nature felt both humbling and profoundly beautiful.'"
            ],
            "application/vnd.google.colaboratory.intrinsic+json": {
              "type": "string"
            }
          },
          "metadata": {},
          "execution_count": 44
        }
      ]
    },
    {
      "cell_type": "code",
      "source": [
        "import nltk\n",
        "from nltk.stem import WordNetLemmatizer\n",
        "\n",
        "nltk.download('wordnet')\n"
      ],
      "metadata": {
        "colab": {
          "base_uri": "https://localhost:8080/"
        },
        "id": "GDzLHAHFeIef",
        "outputId": "a558bb15-c358-4c36-b031-bb32ff16aa8d"
      },
      "execution_count": null,
      "outputs": [
        {
          "output_type": "stream",
          "name": "stderr",
          "text": [
            "[nltk_data] Downloading package wordnet to /root/nltk_data...\n"
          ]
        },
        {
          "output_type": "execute_result",
          "data": {
            "text/plain": [
              "True"
            ]
          },
          "metadata": {},
          "execution_count": 46
        }
      ]
    },
    {
      "cell_type": "code",
      "source": [
        "lemmatizer=WordNetLemmatizer()\n",
        "lemmatizer.lemmatize(lower_para)"
      ],
      "metadata": {
        "colab": {
          "base_uri": "https://localhost:8080/",
          "height": 70
        },
        "id": "opPTndkQgHZP",
        "outputId": "f07053da-3dd8-4796-ea3e-271be7d5b62a"
      },
      "execution_count": null,
      "outputs": [
        {
          "output_type": "execute_result",
          "data": {
            "text/plain": [
              "'the old lighthouse, scarred by a century of storms, stood sentinel on the craggy bluff, its beam cutting a predictable arc through the deepening twilight. below, the relentless tide whispered secrets to the pebbled shore, pulling back with a sigh that hinted at forgotten voyages and distant lands. a lone seagull, a phantom against the steel-grey sky, circled once before finding perch, its cry a sharp punctuation mark in the vast, unfolding silence of the evening. it was a place where time seemed to slow, where the raw power of nature felt both humbling and profoundly beautiful.'"
            ],
            "application/vnd.google.colaboratory.intrinsic+json": {
              "type": "string"
            }
          },
          "metadata": {},
          "execution_count": 47
        }
      ]
    },
    {
      "cell_type": "code",
      "source": [
        "type(lower_para)"
      ],
      "metadata": {
        "colab": {
          "base_uri": "https://localhost:8080/"
        },
        "id": "I4mTXLU1gXan",
        "outputId": "5e5a21f2-ac21-4364-be99-1f8715b50f89"
      },
      "execution_count": null,
      "outputs": [
        {
          "output_type": "execute_result",
          "data": {
            "text/plain": [
              "str"
            ]
          },
          "metadata": {},
          "execution_count": 48
        }
      ]
    },
    {
      "cell_type": "code",
      "source": [
        "#Pos tagging\n",
        "\n",
        "from nltk import pos_tag\n",
        "from nltk import word_tokenize\n",
        "#nltk.download('average_perceptron_tagger')"
      ],
      "metadata": {
        "id": "CK2LoDwXgaTW"
      },
      "execution_count": null,
      "outputs": []
    },
    {
      "cell_type": "code",
      "source": [],
      "metadata": {
        "id": "8C61mHApg8Cm"
      },
      "execution_count": null,
      "outputs": []
    }
  ]
}